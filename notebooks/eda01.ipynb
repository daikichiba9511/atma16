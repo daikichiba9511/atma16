{
 "cells": [
  {
   "cell_type": "code",
   "execution_count": 1,
   "metadata": {},
   "outputs": [
    {
     "name": "stdout",
     "output_type": "stream",
     "text": [
      "(13807, 13807)\n"
     ]
    }
   ],
   "source": [
    "import pathlib\n",
    "import matplotlib.pyplot as plt\n",
    "from matplotlib import figure, axes\n",
    "import numpy as np\n",
    "\n",
    "from src import constants\n",
    "\n",
    "covisit_matrix = np.load(constants.OUTPUT_DIR / \"covisit\" / \"covisit_matrix.npy\")\n",
    "print(covisit_matrix.shape)"
   ]
  },
  {
   "cell_type": "code",
   "execution_count": 5,
   "metadata": {},
   "outputs": [
    {
     "name": "stdout",
     "output_type": "stream",
     "text": [
      "i: 1, [ 1254  1503  4133  5198 10352 10870 12450 13754]\n"
     ]
    }
   ],
   "source": [
    "for i in range(covisit_matrix.shape[0]):\n",
    "    i_covisit = covisit_matrix[i]\n",
    "    if i_covisit.sum() == 0:\n",
    "        continue\n",
    "\n",
    "    print(f\"i: {i}, {np.where(i_covisit > 0)[0]}\")\n",
    "    break"
   ]
  },
  {
   "cell_type": "code",
   "execution_count": 2,
   "metadata": {},
   "outputs": [
    {
     "data": {
      "text/html": [
       "<div><style>\n",
       ".dataframe > thead > tr,\n",
       ".dataframe > tbody > tr {\n",
       "  text-align: right;\n",
       "  white-space: pre-wrap;\n",
       "}\n",
       "</style>\n",
       "<small>shape: (11_547_920, 39)</small><table border=\"1\" class=\"dataframe\"><thead><tr><th>session_id</th><th>yad_no</th><th>session_length</th><th>last_seen_yad_no</th><th>yad_type</th><th>total_room_cnt</th><th>wireless_lan_flg</th><th>onsen_flg</th><th>kd_stn_5min</th><th>kd_bch_5min</th><th>kd_slp_5min</th><th>kd_conv_walk_5min</th><th>total_room_cnt_null_flg</th><th>wireless_lan_flg_null_flg</th><th>kd_stn_5min_null_flg</th><th>kd_bch_5min_null_flg</th><th>kd_slp_5min_null_flg</th><th>kd_conv_walk_5min_null_flg</th><th>mean_total_room_cnt_with_onsen_flg</th><th>std_total_room_cnt_with_onsen_flg</th><th>median_total_room_cnt_with_onsen_flg</th><th>mean_total_room_cnt_with_yad_type</th><th>std_total_room_cnt_with_yad_type</th><th>median_total_room_cnt_with_yad_type</th><th>mean_total_room_cnt_with_kd_bch_5min</th><th>std_total_room_cnt_with_kd_bch_5min</th><th>median_total_room_cnt_with_kd_bch_5min</th><th>mean_total_room_cnt_with_kd_stn_5min</th><th>std_total_room_cnt_with_kd_stn_5min</th><th>median_total_room_cnt_with_kd_stn_5min</th><th>mean_total_room_cnt_with_kd_bch_5min_right</th><th>std_total_room_cnt_with_kd_bch_5min_right</th><th>median_total_room_cnt_with_kd_bch_5min_right</th><th>mean_total_room_cnt_with_kd_conv_walk_5min</th><th>std_total_room_cnt_with_kd_conv_walk_5min</th><th>median_total_room_cnt_with_kd_conv_walk_5min</th><th>diff_total_room_cnt_with_onsen_flg</th><th>target</th><th>fold</th></tr><tr><td>str</td><td>i64</td><td>u32</td><td>i64</td><td>i64</td><td>f64</td><td>f64</td><td>i64</td><td>f64</td><td>f64</td><td>f64</td><td>f64</td><td>i32</td><td>i32</td><td>i32</td><td>i32</td><td>i32</td><td>i32</td><td>f64</td><td>f64</td><td>f64</td><td>f64</td><td>f64</td><td>f64</td><td>f64</td><td>f64</td><td>f64</td><td>f64</td><td>f64</td><td>f64</td><td>f64</td><td>f64</td><td>f64</td><td>f64</td><td>f64</td><td>f64</td><td>f64</td><td>i32</td><td>i32</td></tr></thead><tbody><tr><td>&quot;33e6bd5fd218a1…</td><td>10095</td><td>1</td><td>224</td><td>0</td><td>2007.0</td><td>1.0</td><td>0</td><td>1.0</td><td>1.0</td><td>1.0</td><td>1.0</td><td>0</td><td>0</td><td>1</td><td>1</td><td>1</td><td>0</td><td>107.705414</td><td>119.321059</td><td>78.0</td><td>87.989802</td><td>107.357444</td><td>52.0</td><td>48.576613</td><td>81.279502</td><td>24.0</td><td>125.021743</td><td>126.811776</td><td>100.0</td><td>48.576613</td><td>81.279502</td><td>24.0</td><td>111.652157</td><td>119.851654</td><td>83.0</td><td>1899.294586</td><td>0</td><td>3</td></tr><tr><td>&quot;33e6bd5fd218a1…</td><td>3338</td><td>1</td><td>224</td><td>0</td><td>703.0</td><td>1.0</td><td>0</td><td>1.0</td><td>1.0</td><td>1.0</td><td>1.0</td><td>0</td><td>0</td><td>0</td><td>1</td><td>1</td><td>1</td><td>107.705414</td><td>119.321059</td><td>78.0</td><td>87.989802</td><td>107.357444</td><td>52.0</td><td>48.576613</td><td>81.279502</td><td>24.0</td><td>125.021743</td><td>126.811776</td><td>100.0</td><td>48.576613</td><td>81.279502</td><td>24.0</td><td>111.652157</td><td>119.851654</td><td>83.0</td><td>595.294586</td><td>0</td><td>3</td></tr><tr><td>&quot;33e6bd5fd218a1…</td><td>12350</td><td>1</td><td>224</td><td>0</td><td>696.0</td><td>1.0</td><td>0</td><td>1.0</td><td>1.0</td><td>1.0</td><td>1.0</td><td>0</td><td>0</td><td>1</td><td>1</td><td>1</td><td>1</td><td>107.705414</td><td>119.321059</td><td>78.0</td><td>87.989802</td><td>107.357444</td><td>52.0</td><td>48.576613</td><td>81.279502</td><td>24.0</td><td>125.021743</td><td>126.811776</td><td>100.0</td><td>48.576613</td><td>81.279502</td><td>24.0</td><td>111.652157</td><td>119.851654</td><td>83.0</td><td>588.294586</td><td>0</td><td>3</td></tr><tr><td>&quot;33e6bd5fd218a1…</td><td>8553</td><td>1</td><td>224</td><td>0</td><td>550.0</td><td>1.0</td><td>0</td><td>1.0</td><td>1.0</td><td>1.0</td><td>1.0</td><td>0</td><td>0</td><td>1</td><td>1</td><td>1</td><td>0</td><td>107.705414</td><td>119.321059</td><td>78.0</td><td>87.989802</td><td>107.357444</td><td>52.0</td><td>48.576613</td><td>81.279502</td><td>24.0</td><td>125.021743</td><td>126.811776</td><td>100.0</td><td>48.576613</td><td>81.279502</td><td>24.0</td><td>111.652157</td><td>119.851654</td><td>83.0</td><td>442.294586</td><td>0</td><td>3</td></tr><tr><td>&quot;33e6bd5fd218a1…</td><td>385</td><td>1</td><td>224</td><td>0</td><td>2384.0</td><td>1.0</td><td>0</td><td>1.0</td><td>1.0</td><td>1.0</td><td>1.0</td><td>0</td><td>0</td><td>0</td><td>1</td><td>1</td><td>0</td><td>107.705414</td><td>119.321059</td><td>78.0</td><td>87.989802</td><td>107.357444</td><td>52.0</td><td>48.576613</td><td>81.279502</td><td>24.0</td><td>125.021743</td><td>126.811776</td><td>100.0</td><td>48.576613</td><td>81.279502</td><td>24.0</td><td>111.652157</td><td>119.851654</td><td>83.0</td><td>2276.294586</td><td>0</td><td>3</td></tr><tr><td>&quot;33e6bd5fd218a1…</td><td>13017</td><td>1</td><td>224</td><td>0</td><td>853.0</td><td>1.0</td><td>0</td><td>1.0</td><td>1.0</td><td>1.0</td><td>1.0</td><td>0</td><td>0</td><td>0</td><td>1</td><td>1</td><td>0</td><td>107.705414</td><td>119.321059</td><td>78.0</td><td>87.989802</td><td>107.357444</td><td>52.0</td><td>48.576613</td><td>81.279502</td><td>24.0</td><td>125.021743</td><td>126.811776</td><td>100.0</td><td>48.576613</td><td>81.279502</td><td>24.0</td><td>111.652157</td><td>119.851654</td><td>83.0</td><td>745.294586</td><td>0</td><td>3</td></tr><tr><td>&quot;33e6bd5fd218a1…</td><td>719</td><td>1</td><td>224</td><td>0</td><td>600.0</td><td>1.0</td><td>0</td><td>1.0</td><td>1.0</td><td>1.0</td><td>1.0</td><td>0</td><td>0</td><td>0</td><td>1</td><td>1</td><td>0</td><td>107.705414</td><td>119.321059</td><td>78.0</td><td>87.989802</td><td>107.357444</td><td>52.0</td><td>48.576613</td><td>81.279502</td><td>24.0</td><td>125.021743</td><td>126.811776</td><td>100.0</td><td>48.576613</td><td>81.279502</td><td>24.0</td><td>111.652157</td><td>119.851654</td><td>83.0</td><td>492.294586</td><td>0</td><td>3</td></tr><tr><td>&quot;33e6bd5fd218a1…</td><td>3848</td><td>1</td><td>224</td><td>0</td><td>511.0</td><td>1.0</td><td>0</td><td>1.0</td><td>1.0</td><td>1.0</td><td>1.0</td><td>0</td><td>0</td><td>0</td><td>1</td><td>1</td><td>0</td><td>107.705414</td><td>119.321059</td><td>78.0</td><td>87.989802</td><td>107.357444</td><td>52.0</td><td>48.576613</td><td>81.279502</td><td>24.0</td><td>125.021743</td><td>126.811776</td><td>100.0</td><td>48.576613</td><td>81.279502</td><td>24.0</td><td>111.652157</td><td>119.851654</td><td>83.0</td><td>403.294586</td><td>0</td><td>3</td></tr><tr><td>&quot;33e6bd5fd218a1…</td><td>2445</td><td>1</td><td>224</td><td>0</td><td>613.0</td><td>1.0</td><td>1</td><td>1.0</td><td>1.0</td><td>1.0</td><td>1.0</td><td>0</td><td>1</td><td>0</td><td>1</td><td>1</td><td>0</td><td>52.679701</td><td>69.289168</td><td>29.0</td><td>87.989802</td><td>107.357444</td><td>52.0</td><td>48.576613</td><td>81.279502</td><td>24.0</td><td>125.021743</td><td>126.811776</td><td>100.0</td><td>48.576613</td><td>81.279502</td><td>24.0</td><td>111.652157</td><td>119.851654</td><td>83.0</td><td>560.320299</td><td>0</td><td>3</td></tr><tr><td>&quot;33e6bd5fd218a1…</td><td>1818</td><td>1</td><td>224</td><td>0</td><td>1039.0</td><td>1.0</td><td>0</td><td>1.0</td><td>1.0</td><td>1.0</td><td>1.0</td><td>0</td><td>0</td><td>0</td><td>1</td><td>1</td><td>0</td><td>107.705414</td><td>119.321059</td><td>78.0</td><td>87.989802</td><td>107.357444</td><td>52.0</td><td>48.576613</td><td>81.279502</td><td>24.0</td><td>125.021743</td><td>126.811776</td><td>100.0</td><td>48.576613</td><td>81.279502</td><td>24.0</td><td>111.652157</td><td>119.851654</td><td>83.0</td><td>931.294586</td><td>0</td><td>3</td></tr><tr><td>&quot;33e6bd5fd218a1…</td><td>13468</td><td>1</td><td>224</td><td>0</td><td>1016.0</td><td>1.0</td><td>0</td><td>1.0</td><td>1.0</td><td>1.0</td><td>1.0</td><td>0</td><td>0</td><td>0</td><td>1</td><td>1</td><td>1</td><td>107.705414</td><td>119.321059</td><td>78.0</td><td>87.989802</td><td>107.357444</td><td>52.0</td><td>48.576613</td><td>81.279502</td><td>24.0</td><td>125.021743</td><td>126.811776</td><td>100.0</td><td>48.576613</td><td>81.279502</td><td>24.0</td><td>111.652157</td><td>119.851654</td><td>83.0</td><td>908.294586</td><td>0</td><td>3</td></tr><tr><td>&quot;33e6bd5fd218a1…</td><td>12785</td><td>1</td><td>224</td><td>1</td><td>563.0</td><td>1.0</td><td>0</td><td>1.0</td><td>1.0</td><td>1.0</td><td>1.0</td><td>0</td><td>0</td><td>0</td><td>1</td><td>1</td><td>0</td><td>107.705414</td><td>119.321059</td><td>78.0</td><td>27.655172</td><td>103.198587</td><td>9.0</td><td>48.576613</td><td>81.279502</td><td>24.0</td><td>125.021743</td><td>126.811776</td><td>100.0</td><td>48.576613</td><td>81.279502</td><td>24.0</td><td>111.652157</td><td>119.851654</td><td>83.0</td><td>455.294586</td><td>0</td><td>3</td></tr><tr><td>&hellip;</td><td>&hellip;</td><td>&hellip;</td><td>&hellip;</td><td>&hellip;</td><td>&hellip;</td><td>&hellip;</td><td>&hellip;</td><td>&hellip;</td><td>&hellip;</td><td>&hellip;</td><td>&hellip;</td><td>&hellip;</td><td>&hellip;</td><td>&hellip;</td><td>&hellip;</td><td>&hellip;</td><td>&hellip;</td><td>&hellip;</td><td>&hellip;</td><td>&hellip;</td><td>&hellip;</td><td>&hellip;</td><td>&hellip;</td><td>&hellip;</td><td>&hellip;</td><td>&hellip;</td><td>&hellip;</td><td>&hellip;</td><td>&hellip;</td><td>&hellip;</td><td>&hellip;</td><td>&hellip;</td><td>&hellip;</td><td>&hellip;</td><td>&hellip;</td><td>&hellip;</td><td>&hellip;</td><td>&hellip;</td></tr><tr><td>&quot;0fee59e9fede42…</td><td>2201</td><td>1</td><td>6450</td><td>0</td><td>456.0</td><td>1.0</td><td>0</td><td>1.0</td><td>1.0</td><td>1.0</td><td>1.0</td><td>0</td><td>1</td><td>0</td><td>1</td><td>1</td><td>0</td><td>107.705414</td><td>119.321059</td><td>78.0</td><td>87.989802</td><td>107.357444</td><td>52.0</td><td>48.576613</td><td>81.279502</td><td>24.0</td><td>125.021743</td><td>126.811776</td><td>100.0</td><td>48.576613</td><td>81.279502</td><td>24.0</td><td>111.652157</td><td>119.851654</td><td>83.0</td><td>348.294586</td><td>0</td><td>3</td></tr><tr><td>&quot;0fee59e9fede42…</td><td>915</td><td>1</td><td>6450</td><td>0</td><td>428.0</td><td>1.0</td><td>0</td><td>1.0</td><td>1.0</td><td>1.0</td><td>1.0</td><td>0</td><td>0</td><td>1</td><td>1</td><td>1</td><td>1</td><td>107.705414</td><td>119.321059</td><td>78.0</td><td>87.989802</td><td>107.357444</td><td>52.0</td><td>48.576613</td><td>81.279502</td><td>24.0</td><td>125.021743</td><td>126.811776</td><td>100.0</td><td>48.576613</td><td>81.279502</td><td>24.0</td><td>111.652157</td><td>119.851654</td><td>83.0</td><td>320.294586</td><td>0</td><td>3</td></tr><tr><td>&quot;0fee59e9fede42…</td><td>3848</td><td>1</td><td>6450</td><td>0</td><td>511.0</td><td>1.0</td><td>0</td><td>1.0</td><td>1.0</td><td>1.0</td><td>1.0</td><td>0</td><td>0</td><td>0</td><td>1</td><td>1</td><td>0</td><td>107.705414</td><td>119.321059</td><td>78.0</td><td>87.989802</td><td>107.357444</td><td>52.0</td><td>48.576613</td><td>81.279502</td><td>24.0</td><td>125.021743</td><td>126.811776</td><td>100.0</td><td>48.576613</td><td>81.279502</td><td>24.0</td><td>111.652157</td><td>119.851654</td><td>83.0</td><td>403.294586</td><td>0</td><td>3</td></tr><tr><td>&quot;0fee59e9fede42…</td><td>11037</td><td>1</td><td>6450</td><td>0</td><td>603.0</td><td>1.0</td><td>0</td><td>1.0</td><td>1.0</td><td>1.0</td><td>1.0</td><td>0</td><td>0</td><td>0</td><td>1</td><td>1</td><td>0</td><td>107.705414</td><td>119.321059</td><td>78.0</td><td>87.989802</td><td>107.357444</td><td>52.0</td><td>48.576613</td><td>81.279502</td><td>24.0</td><td>125.021743</td><td>126.811776</td><td>100.0</td><td>48.576613</td><td>81.279502</td><td>24.0</td><td>111.652157</td><td>119.851654</td><td>83.0</td><td>495.294586</td><td>0</td><td>3</td></tr><tr><td>&quot;0fee59e9fede42…</td><td>12017</td><td>1</td><td>6450</td><td>0</td><td>598.0</td><td>1.0</td><td>0</td><td>1.0</td><td>1.0</td><td>1.0</td><td>1.0</td><td>0</td><td>0</td><td>0</td><td>1</td><td>1</td><td>0</td><td>107.705414</td><td>119.321059</td><td>78.0</td><td>87.989802</td><td>107.357444</td><td>52.0</td><td>48.576613</td><td>81.279502</td><td>24.0</td><td>125.021743</td><td>126.811776</td><td>100.0</td><td>48.576613</td><td>81.279502</td><td>24.0</td><td>111.652157</td><td>119.851654</td><td>83.0</td><td>490.294586</td><td>0</td><td>3</td></tr><tr><td>&quot;0fee59e9fede42…</td><td>385</td><td>1</td><td>6450</td><td>0</td><td>2384.0</td><td>1.0</td><td>0</td><td>1.0</td><td>1.0</td><td>1.0</td><td>1.0</td><td>0</td><td>0</td><td>0</td><td>1</td><td>1</td><td>0</td><td>107.705414</td><td>119.321059</td><td>78.0</td><td>87.989802</td><td>107.357444</td><td>52.0</td><td>48.576613</td><td>81.279502</td><td>24.0</td><td>125.021743</td><td>126.811776</td><td>100.0</td><td>48.576613</td><td>81.279502</td><td>24.0</td><td>111.652157</td><td>119.851654</td><td>83.0</td><td>2276.294586</td><td>0</td><td>3</td></tr><tr><td>&quot;0fee59e9fede42…</td><td>1818</td><td>1</td><td>6450</td><td>0</td><td>1039.0</td><td>1.0</td><td>0</td><td>1.0</td><td>1.0</td><td>1.0</td><td>1.0</td><td>0</td><td>0</td><td>0</td><td>1</td><td>1</td><td>0</td><td>107.705414</td><td>119.321059</td><td>78.0</td><td>87.989802</td><td>107.357444</td><td>52.0</td><td>48.576613</td><td>81.279502</td><td>24.0</td><td>125.021743</td><td>126.811776</td><td>100.0</td><td>48.576613</td><td>81.279502</td><td>24.0</td><td>111.652157</td><td>119.851654</td><td>83.0</td><td>931.294586</td><td>0</td><td>3</td></tr><tr><td>&quot;0fee59e9fede42…</td><td>4913</td><td>1</td><td>6450</td><td>0</td><td>583.0</td><td>1.0</td><td>1</td><td>1.0</td><td>1.0</td><td>1.0</td><td>1.0</td><td>0</td><td>0</td><td>1</td><td>1</td><td>1</td><td>0</td><td>52.679701</td><td>69.289168</td><td>29.0</td><td>87.989802</td><td>107.357444</td><td>52.0</td><td>48.576613</td><td>81.279502</td><td>24.0</td><td>125.021743</td><td>126.811776</td><td>100.0</td><td>48.576613</td><td>81.279502</td><td>24.0</td><td>111.652157</td><td>119.851654</td><td>83.0</td><td>530.320299</td><td>0</td><td>3</td></tr><tr><td>&quot;0fee59e9fede42…</td><td>2797</td><td>1</td><td>6450</td><td>0</td><td>428.0</td><td>1.0</td><td>0</td><td>1.0</td><td>1.0</td><td>1.0</td><td>1.0</td><td>0</td><td>0</td><td>0</td><td>1</td><td>1</td><td>0</td><td>107.705414</td><td>119.321059</td><td>78.0</td><td>87.989802</td><td>107.357444</td><td>52.0</td><td>48.576613</td><td>81.279502</td><td>24.0</td><td>125.021743</td><td>126.811776</td><td>100.0</td><td>48.576613</td><td>81.279502</td><td>24.0</td><td>111.652157</td><td>119.851654</td><td>83.0</td><td>320.294586</td><td>0</td><td>3</td></tr><tr><td>&quot;0fee59e9fede42…</td><td>6199</td><td>1</td><td>6450</td><td>0</td><td>480.0</td><td>1.0</td><td>0</td><td>1.0</td><td>1.0</td><td>1.0</td><td>1.0</td><td>0</td><td>0</td><td>0</td><td>1</td><td>1</td><td>0</td><td>107.705414</td><td>119.321059</td><td>78.0</td><td>87.989802</td><td>107.357444</td><td>52.0</td><td>48.576613</td><td>81.279502</td><td>24.0</td><td>125.021743</td><td>126.811776</td><td>100.0</td><td>48.576613</td><td>81.279502</td><td>24.0</td><td>111.652157</td><td>119.851654</td><td>83.0</td><td>372.294586</td><td>0</td><td>3</td></tr><tr><td>&quot;0fee59e9fede42…</td><td>6470</td><td>1</td><td>6450</td><td>0</td><td>390.0</td><td>1.0</td><td>0</td><td>1.0</td><td>1.0</td><td>1.0</td><td>1.0</td><td>0</td><td>0</td><td>0</td><td>1</td><td>1</td><td>0</td><td>107.705414</td><td>119.321059</td><td>78.0</td><td>87.989802</td><td>107.357444</td><td>52.0</td><td>48.576613</td><td>81.279502</td><td>24.0</td><td>125.021743</td><td>126.811776</td><td>100.0</td><td>48.576613</td><td>81.279502</td><td>24.0</td><td>111.652157</td><td>119.851654</td><td>83.0</td><td>282.294586</td><td>0</td><td>3</td></tr><tr><td>&quot;0fee59e9fede42…</td><td>5116</td><td>1</td><td>6450</td><td>0</td><td>330.0</td><td>1.0</td><td>0</td><td>1.0</td><td>1.0</td><td>1.0</td><td>1.0</td><td>0</td><td>0</td><td>0</td><td>1</td><td>1</td><td>0</td><td>107.705414</td><td>119.321059</td><td>78.0</td><td>87.989802</td><td>107.357444</td><td>52.0</td><td>48.576613</td><td>81.279502</td><td>24.0</td><td>125.021743</td><td>126.811776</td><td>100.0</td><td>48.576613</td><td>81.279502</td><td>24.0</td><td>111.652157</td><td>119.851654</td><td>83.0</td><td>222.294586</td><td>0</td><td>3</td></tr></tbody></table></div>"
      ],
      "text/plain": [
       "shape: (11_547_920, 39)\n",
       "┌─────────────┬────────┬─────────────┬─────────────┬───┬─────────────┬─────────────┬────────┬──────┐\n",
       "│ session_id  ┆ yad_no ┆ session_len ┆ last_seen_y ┆ … ┆ median_tota ┆ diff_total_ ┆ target ┆ fold │\n",
       "│ ---         ┆ ---    ┆ gth         ┆ ad_no       ┆   ┆ l_room_cnt_ ┆ room_cnt_wi ┆ ---    ┆ ---  │\n",
       "│ str         ┆ i64    ┆ ---         ┆ ---         ┆   ┆ with_kd_co… ┆ th_onsen_f… ┆ i32    ┆ i32  │\n",
       "│             ┆        ┆ u32         ┆ i64         ┆   ┆ ---         ┆ ---         ┆        ┆      │\n",
       "│             ┆        ┆             ┆             ┆   ┆ f64         ┆ f64         ┆        ┆      │\n",
       "╞═════════════╪════════╪═════════════╪═════════════╪═══╪═════════════╪═════════════╪════════╪══════╡\n",
       "│ 33e6bd5fd21 ┆ 10095  ┆ 1           ┆ 224         ┆ … ┆ 83.0        ┆ 1899.294586 ┆ 0      ┆ 3    │\n",
       "│ 8a1fa4f6c2f ┆        ┆             ┆             ┆   ┆             ┆             ┆        ┆      │\n",
       "│ c07de71abd  ┆        ┆             ┆             ┆   ┆             ┆             ┆        ┆      │\n",
       "│ 33e6bd5fd21 ┆ 3338   ┆ 1           ┆ 224         ┆ … ┆ 83.0        ┆ 595.294586  ┆ 0      ┆ 3    │\n",
       "│ 8a1fa4f6c2f ┆        ┆             ┆             ┆   ┆             ┆             ┆        ┆      │\n",
       "│ c07de71abd  ┆        ┆             ┆             ┆   ┆             ┆             ┆        ┆      │\n",
       "│ 33e6bd5fd21 ┆ 12350  ┆ 1           ┆ 224         ┆ … ┆ 83.0        ┆ 588.294586  ┆ 0      ┆ 3    │\n",
       "│ 8a1fa4f6c2f ┆        ┆             ┆             ┆   ┆             ┆             ┆        ┆      │\n",
       "│ c07de71abd  ┆        ┆             ┆             ┆   ┆             ┆             ┆        ┆      │\n",
       "│ 33e6bd5fd21 ┆ 8553   ┆ 1           ┆ 224         ┆ … ┆ 83.0        ┆ 442.294586  ┆ 0      ┆ 3    │\n",
       "│ 8a1fa4f6c2f ┆        ┆             ┆             ┆   ┆             ┆             ┆        ┆      │\n",
       "│ c07de71abd  ┆        ┆             ┆             ┆   ┆             ┆             ┆        ┆      │\n",
       "│ …           ┆ …      ┆ …           ┆ …           ┆ … ┆ …           ┆ …           ┆ …      ┆ …    │\n",
       "│ 0fee59e9fed ┆ 2797   ┆ 1           ┆ 6450        ┆ … ┆ 83.0        ┆ 320.294586  ┆ 0      ┆ 3    │\n",
       "│ e424b0ef321 ┆        ┆             ┆             ┆   ┆             ┆             ┆        ┆      │\n",
       "│ 520672e7d6  ┆        ┆             ┆             ┆   ┆             ┆             ┆        ┆      │\n",
       "│ 0fee59e9fed ┆ 6199   ┆ 1           ┆ 6450        ┆ … ┆ 83.0        ┆ 372.294586  ┆ 0      ┆ 3    │\n",
       "│ e424b0ef321 ┆        ┆             ┆             ┆   ┆             ┆             ┆        ┆      │\n",
       "│ 520672e7d6  ┆        ┆             ┆             ┆   ┆             ┆             ┆        ┆      │\n",
       "│ 0fee59e9fed ┆ 6470   ┆ 1           ┆ 6450        ┆ … ┆ 83.0        ┆ 282.294586  ┆ 0      ┆ 3    │\n",
       "│ e424b0ef321 ┆        ┆             ┆             ┆   ┆             ┆             ┆        ┆      │\n",
       "│ 520672e7d6  ┆        ┆             ┆             ┆   ┆             ┆             ┆        ┆      │\n",
       "│ 0fee59e9fed ┆ 5116   ┆ 1           ┆ 6450        ┆ … ┆ 83.0        ┆ 222.294586  ┆ 0      ┆ 3    │\n",
       "│ e424b0ef321 ┆        ┆             ┆             ┆   ┆             ┆             ┆        ┆      │\n",
       "│ 520672e7d6  ┆        ┆             ┆             ┆   ┆             ┆             ┆        ┆      │\n",
       "└─────────────┴────────┴─────────────┴─────────────┴───┴─────────────┴─────────────┴────────┴──────┘"
      ]
     },
     "execution_count": 2,
     "metadata": {},
     "output_type": "execute_result"
    }
   ],
   "source": [
    "import polars as pl\n",
    "from src import constants\n",
    "\n",
    "df = pl.read_parquet(constants.INPUT_DIR / \"folded5_df.parquet\")\n",
    "df"
   ]
  }
 ],
 "metadata": {
  "kernelspec": {
   "display_name": ".venv",
   "language": "python",
   "name": "python3"
  },
  "language_info": {
   "codemirror_mode": {
    "name": "ipython",
    "version": 3
   },
   "file_extension": ".py",
   "mimetype": "text/x-python",
   "name": "python",
   "nbconvert_exporter": "python",
   "pygments_lexer": "ipython3",
   "version": "3.10.13"
  }
 },
 "nbformat": 4,
 "nbformat_minor": 2
}
