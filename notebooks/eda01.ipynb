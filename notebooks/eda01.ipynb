{
 "cells": [
  {
   "cell_type": "code",
   "execution_count": 1,
   "metadata": {},
   "outputs": [
    {
     "name": "stdout",
     "output_type": "stream",
     "text": [
      "(13807, 13807)\n"
     ]
    }
   ],
   "source": [
    "import pathlib\n",
    "import matplotlib.pyplot as plt\n",
    "from matplotlib import figure, axes\n",
    "import numpy as np\n",
    "\n",
    "from src import constants\n",
    "\n",
    "covisit_matrix = np.load(constants.OUTPUT_DIR / \"covisit\" / \"covisit_matrix.npy\")\n",
    "print(covisit_matrix.shape)"
   ]
  },
  {
   "cell_type": "code",
   "execution_count": 5,
   "metadata": {},
   "outputs": [
    {
     "name": "stdout",
     "output_type": "stream",
     "text": [
      "i: 1, [ 1254  1503  4133  5198 10352 10870 12450 13754]\n"
     ]
    }
   ],
   "source": [
    "for i in range(covisit_matrix.shape[0]):\n",
    "    i_covisit = covisit_matrix[i]\n",
    "    if i_covisit.sum() == 0:\n",
    "        continue\n",
    "\n",
    "    print(f\"i: {i}, {np.where(i_covisit > 0)[0]}\")\n",
    "    break"
   ]
  }
 ],
 "metadata": {
  "kernelspec": {
   "display_name": ".venv",
   "language": "python",
   "name": "python3"
  },
  "language_info": {
   "codemirror_mode": {
    "name": "ipython",
    "version": 3
   },
   "file_extension": ".py",
   "mimetype": "text/x-python",
   "name": "python",
   "nbconvert_exporter": "python",
   "pygments_lexer": "ipython3",
   "version": "3.10.13"
  }
 },
 "nbformat": 4,
 "nbformat_minor": 2
}
