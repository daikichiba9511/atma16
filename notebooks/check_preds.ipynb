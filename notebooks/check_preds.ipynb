{
 "cells": [
  {
   "cell_type": "code",
   "execution_count": 10,
   "metadata": {},
   "outputs": [
    {
     "data": {
      "text/html": [
       "<div><style>\n",
       ".dataframe > thead > tr,\n",
       ".dataframe > tbody > tr {\n",
       "  text-align: right;\n",
       "  white-space: pre-wrap;\n",
       "}\n",
       "</style>\n",
       "<small>shape: (21_537_020, 36)</small><table border=\"1\" class=\"dataframe\"><thead><tr><th>session_id</th><th>yad_no</th><th>session_length</th><th>yad_type</th><th>total_room_cnt</th><th>wireless_lan_flg</th><th>onsen_flg</th><th>kd_stn_5min</th><th>kd_bch_5min</th><th>kd_slp_5min</th><th>kd_conv_walk_5min</th><th>total_room_cnt_null_flg</th><th>wireless_lan_flg_null_flg</th><th>kd_stn_5min_null_flg</th><th>kd_bch_5min_null_flg</th><th>kd_slp_5min_null_flg</th><th>kd_conv_walk_5min_null_flg</th><th>mean_total_room_cnt_with_onsen_flg</th><th>std_total_room_cnt_with_onsen_flg</th><th>median_total_room_cnt_with_onsen_flg</th><th>mean_total_room_cnt_with_yad_type</th><th>std_total_room_cnt_with_yad_type</th><th>median_total_room_cnt_with_yad_type</th><th>mean_total_room_cnt_with_kd_bch_5min</th><th>std_total_room_cnt_with_kd_bch_5min</th><th>median_total_room_cnt_with_kd_bch_5min</th><th>mean_total_room_cnt_with_kd_stn_5min</th><th>std_total_room_cnt_with_kd_stn_5min</th><th>median_total_room_cnt_with_kd_stn_5min</th><th>mean_total_room_cnt_with_kd_bch_5min_right</th><th>std_total_room_cnt_with_kd_bch_5min_right</th><th>median_total_room_cnt_with_kd_bch_5min_right</th><th>mean_total_room_cnt_with_kd_conv_walk_5min</th><th>std_total_room_cnt_with_kd_conv_walk_5min</th><th>median_total_room_cnt_with_kd_conv_walk_5min</th><th>diff_total_room_cnt_with_onsen_flg</th></tr><tr><td>str</td><td>i64</td><td>i64</td><td>i64</td><td>f64</td><td>f64</td><td>i64</td><td>f64</td><td>f64</td><td>f64</td><td>f64</td><td>i64</td><td>i64</td><td>i64</td><td>i64</td><td>i64</td><td>i64</td><td>f64</td><td>f64</td><td>f64</td><td>f64</td><td>f64</td><td>f64</td><td>f64</td><td>f64</td><td>f64</td><td>f64</td><td>f64</td><td>f64</td><td>f64</td><td>f64</td><td>f64</td><td>f64</td><td>f64</td><td>f64</td><td>f64</td></tr></thead><tbody><tr><td>&quot;4a53607e6806d6…</td><td>719</td><td>1</td><td>0</td><td>600.0</td><td>1.0</td><td>0</td><td>1.0</td><td>1.0</td><td>1.0</td><td>1.0</td><td>0</td><td>0</td><td>0</td><td>1</td><td>1</td><td>0</td><td>107.705414</td><td>119.321059</td><td>78.0</td><td>87.989802</td><td>107.357444</td><td>52.0</td><td>48.576613</td><td>81.279502</td><td>24.0</td><td>125.021743</td><td>126.811776</td><td>100.0</td><td>48.576613</td><td>81.279502</td><td>24.0</td><td>111.652157</td><td>119.851654</td><td>83.0</td><td>492.294586</td></tr><tr><td>&quot;851a1663f06a51…</td><td>13292</td><td>1</td><td>0</td><td>525.0</td><td>1.0</td><td>0</td><td>1.0</td><td>1.0</td><td>1.0</td><td>1.0</td><td>0</td><td>0</td><td>0</td><td>1</td><td>1</td><td>0</td><td>107.705414</td><td>119.321059</td><td>78.0</td><td>87.989802</td><td>107.357444</td><td>52.0</td><td>48.576613</td><td>81.279502</td><td>24.0</td><td>125.021743</td><td>126.811776</td><td>100.0</td><td>48.576613</td><td>81.279502</td><td>24.0</td><td>111.652157</td><td>119.851654</td><td>83.0</td><td>417.294586</td></tr><tr><td>&quot;260bb3cc4b820b…</td><td>10095</td><td>1</td><td>0</td><td>2007.0</td><td>1.0</td><td>0</td><td>1.0</td><td>1.0</td><td>1.0</td><td>1.0</td><td>0</td><td>0</td><td>1</td><td>1</td><td>1</td><td>0</td><td>107.705414</td><td>119.321059</td><td>78.0</td><td>87.989802</td><td>107.357444</td><td>52.0</td><td>48.576613</td><td>81.279502</td><td>24.0</td><td>125.021743</td><td>126.811776</td><td>100.0</td><td>48.576613</td><td>81.279502</td><td>24.0</td><td>111.652157</td><td>119.851654</td><td>83.0</td><td>1899.294586</td></tr><tr><td>&quot;91badfb8a745f1…</td><td>755</td><td>2</td><td>0</td><td>912.0</td><td>1.0</td><td>0</td><td>1.0</td><td>1.0</td><td>1.0</td><td>1.0</td><td>0</td><td>0</td><td>0</td><td>1</td><td>1</td><td>0</td><td>107.705414</td><td>119.321059</td><td>78.0</td><td>87.989802</td><td>107.357444</td><td>52.0</td><td>48.576613</td><td>81.279502</td><td>24.0</td><td>125.021743</td><td>126.811776</td><td>100.0</td><td>48.576613</td><td>81.279502</td><td>24.0</td><td>111.652157</td><td>119.851654</td><td>83.0</td><td>804.294586</td></tr><tr><td>&quot;7205c78add17f5…</td><td>532</td><td>2</td><td>0</td><td>427.0</td><td>1.0</td><td>0</td><td>1.0</td><td>1.0</td><td>1.0</td><td>1.0</td><td>0</td><td>0</td><td>0</td><td>1</td><td>1</td><td>1</td><td>107.705414</td><td>119.321059</td><td>78.0</td><td>87.989802</td><td>107.357444</td><td>52.0</td><td>48.576613</td><td>81.279502</td><td>24.0</td><td>125.021743</td><td>126.811776</td><td>100.0</td><td>48.576613</td><td>81.279502</td><td>24.0</td><td>111.652157</td><td>119.851654</td><td>83.0</td><td>319.294586</td></tr><tr><td>&quot;0ac63c0fb237cf…</td><td>1091</td><td>2</td><td>0</td><td>289.0</td><td>1.0</td><td>1</td><td>1.0</td><td>1.0</td><td>1.0</td><td>1.0</td><td>0</td><td>0</td><td>1</td><td>1</td><td>1</td><td>1</td><td>52.679701</td><td>69.289168</td><td>29.0</td><td>87.989802</td><td>107.357444</td><td>52.0</td><td>48.576613</td><td>81.279502</td><td>24.0</td><td>125.021743</td><td>126.811776</td><td>100.0</td><td>48.576613</td><td>81.279502</td><td>24.0</td><td>111.652157</td><td>119.851654</td><td>83.0</td><td>236.320299</td></tr><tr><td>&quot;31c365dda81064…</td><td>1091</td><td>2</td><td>0</td><td>289.0</td><td>1.0</td><td>1</td><td>1.0</td><td>1.0</td><td>1.0</td><td>1.0</td><td>0</td><td>0</td><td>1</td><td>1</td><td>1</td><td>1</td><td>52.679701</td><td>69.289168</td><td>29.0</td><td>87.989802</td><td>107.357444</td><td>52.0</td><td>48.576613</td><td>81.279502</td><td>24.0</td><td>125.021743</td><td>126.811776</td><td>100.0</td><td>48.576613</td><td>81.279502</td><td>24.0</td><td>111.652157</td><td>119.851654</td><td>83.0</td><td>236.320299</td></tr><tr><td>&quot;479b5cf422c783…</td><td>719</td><td>4</td><td>0</td><td>600.0</td><td>1.0</td><td>0</td><td>1.0</td><td>1.0</td><td>1.0</td><td>1.0</td><td>0</td><td>0</td><td>0</td><td>1</td><td>1</td><td>0</td><td>107.705414</td><td>119.321059</td><td>78.0</td><td>87.989802</td><td>107.357444</td><td>52.0</td><td>48.576613</td><td>81.279502</td><td>24.0</td><td>125.021743</td><td>126.811776</td><td>100.0</td><td>48.576613</td><td>81.279502</td><td>24.0</td><td>111.652157</td><td>119.851654</td><td>83.0</td><td>492.294586</td></tr><tr><td>&quot;2423d790682d91…</td><td>12017</td><td>1</td><td>0</td><td>598.0</td><td>1.0</td><td>0</td><td>1.0</td><td>1.0</td><td>1.0</td><td>1.0</td><td>0</td><td>0</td><td>0</td><td>1</td><td>1</td><td>0</td><td>107.705414</td><td>119.321059</td><td>78.0</td><td>87.989802</td><td>107.357444</td><td>52.0</td><td>48.576613</td><td>81.279502</td><td>24.0</td><td>125.021743</td><td>126.811776</td><td>100.0</td><td>48.576613</td><td>81.279502</td><td>24.0</td><td>111.652157</td><td>119.851654</td><td>83.0</td><td>490.294586</td></tr><tr><td>&quot;24870e047249fd…</td><td>3848</td><td>4</td><td>0</td><td>511.0</td><td>1.0</td><td>0</td><td>1.0</td><td>1.0</td><td>1.0</td><td>1.0</td><td>0</td><td>0</td><td>0</td><td>1</td><td>1</td><td>0</td><td>107.705414</td><td>119.321059</td><td>78.0</td><td>87.989802</td><td>107.357444</td><td>52.0</td><td>48.576613</td><td>81.279502</td><td>24.0</td><td>125.021743</td><td>126.811776</td><td>100.0</td><td>48.576613</td><td>81.279502</td><td>24.0</td><td>111.652157</td><td>119.851654</td><td>83.0</td><td>403.294586</td></tr><tr><td>&quot;8c40f17878ba70…</td><td>532</td><td>2</td><td>0</td><td>427.0</td><td>1.0</td><td>0</td><td>1.0</td><td>1.0</td><td>1.0</td><td>1.0</td><td>0</td><td>0</td><td>0</td><td>1</td><td>1</td><td>1</td><td>107.705414</td><td>119.321059</td><td>78.0</td><td>87.989802</td><td>107.357444</td><td>52.0</td><td>48.576613</td><td>81.279502</td><td>24.0</td><td>125.021743</td><td>126.811776</td><td>100.0</td><td>48.576613</td><td>81.279502</td><td>24.0</td><td>111.652157</td><td>119.851654</td><td>83.0</td><td>319.294586</td></tr><tr><td>&quot;272c8d4a08f8ff…</td><td>2445</td><td>1</td><td>0</td><td>613.0</td><td>1.0</td><td>1</td><td>1.0</td><td>1.0</td><td>1.0</td><td>1.0</td><td>0</td><td>1</td><td>0</td><td>1</td><td>1</td><td>0</td><td>52.679701</td><td>69.289168</td><td>29.0</td><td>87.989802</td><td>107.357444</td><td>52.0</td><td>48.576613</td><td>81.279502</td><td>24.0</td><td>125.021743</td><td>126.811776</td><td>100.0</td><td>48.576613</td><td>81.279502</td><td>24.0</td><td>111.652157</td><td>119.851654</td><td>83.0</td><td>560.320299</td></tr><tr><td>&hellip;</td><td>&hellip;</td><td>&hellip;</td><td>&hellip;</td><td>&hellip;</td><td>&hellip;</td><td>&hellip;</td><td>&hellip;</td><td>&hellip;</td><td>&hellip;</td><td>&hellip;</td><td>&hellip;</td><td>&hellip;</td><td>&hellip;</td><td>&hellip;</td><td>&hellip;</td><td>&hellip;</td><td>&hellip;</td><td>&hellip;</td><td>&hellip;</td><td>&hellip;</td><td>&hellip;</td><td>&hellip;</td><td>&hellip;</td><td>&hellip;</td><td>&hellip;</td><td>&hellip;</td><td>&hellip;</td><td>&hellip;</td><td>&hellip;</td><td>&hellip;</td><td>&hellip;</td><td>&hellip;</td><td>&hellip;</td><td>&hellip;</td><td>&hellip;</td></tr><tr><td>&quot;be172fb5e56c6c…</td><td>420</td><td>1</td><td>0</td><td>25.0</td><td>1.0</td><td>0</td><td>1.0</td><td>1.0</td><td>1.0</td><td>1.0</td><td>0</td><td>0</td><td>0</td><td>1</td><td>1</td><td>0</td><td>107.705414</td><td>119.321059</td><td>78.0</td><td>87.989802</td><td>107.357444</td><td>52.0</td><td>48.576613</td><td>81.279502</td><td>24.0</td><td>125.021743</td><td>126.811776</td><td>100.0</td><td>48.576613</td><td>81.279502</td><td>24.0</td><td>111.652157</td><td>119.851654</td><td>83.0</td><td>-82.705414</td></tr><tr><td>&quot;24239c51612f4d…</td><td>8143</td><td>2</td><td>0</td><td>187.0</td><td>1.0</td><td>0</td><td>1.0</td><td>1.0</td><td>1.0</td><td>1.0</td><td>0</td><td>0</td><td>0</td><td>1</td><td>1</td><td>0</td><td>107.705414</td><td>119.321059</td><td>78.0</td><td>87.989802</td><td>107.357444</td><td>52.0</td><td>48.576613</td><td>81.279502</td><td>24.0</td><td>125.021743</td><td>126.811776</td><td>100.0</td><td>48.576613</td><td>81.279502</td><td>24.0</td><td>111.652157</td><td>119.851654</td><td>83.0</td><td>79.294586</td></tr><tr><td>&quot;fa8f18c1961041…</td><td>6193</td><td>1</td><td>0</td><td>80.0</td><td>1.0</td><td>0</td><td>1.0</td><td>1.0</td><td>1.0</td><td>1.0</td><td>0</td><td>0</td><td>0</td><td>1</td><td>1</td><td>0</td><td>107.705414</td><td>119.321059</td><td>78.0</td><td>87.989802</td><td>107.357444</td><td>52.0</td><td>48.576613</td><td>81.279502</td><td>24.0</td><td>125.021743</td><td>126.811776</td><td>100.0</td><td>48.576613</td><td>81.279502</td><td>24.0</td><td>111.652157</td><td>119.851654</td><td>83.0</td><td>-27.705414</td></tr><tr><td>&quot;e3e22c1d4d9635…</td><td>4628</td><td>1</td><td>0</td><td>10.0</td><td>1.0</td><td>1</td><td>1.0</td><td>1.0</td><td>1.0</td><td>1.0</td><td>0</td><td>0</td><td>1</td><td>1</td><td>1</td><td>1</td><td>52.679701</td><td>69.289168</td><td>29.0</td><td>87.989802</td><td>107.357444</td><td>52.0</td><td>48.576613</td><td>81.279502</td><td>24.0</td><td>125.021743</td><td>126.811776</td><td>100.0</td><td>48.576613</td><td>81.279502</td><td>24.0</td><td>111.652157</td><td>119.851654</td><td>83.0</td><td>-42.679701</td></tr><tr><td>&quot;d88643888106c7…</td><td>13296</td><td>1</td><td>0</td><td>206.0</td><td>1.0</td><td>0</td><td>1.0</td><td>1.0</td><td>1.0</td><td>1.0</td><td>0</td><td>0</td><td>1</td><td>1</td><td>1</td><td>0</td><td>107.705414</td><td>119.321059</td><td>78.0</td><td>87.989802</td><td>107.357444</td><td>52.0</td><td>48.576613</td><td>81.279502</td><td>24.0</td><td>125.021743</td><td>126.811776</td><td>100.0</td><td>48.576613</td><td>81.279502</td><td>24.0</td><td>111.652157</td><td>119.851654</td><td>83.0</td><td>98.294586</td></tr><tr><td>&quot;9a304faa4f644c…</td><td>2924</td><td>3</td><td>0</td><td>151.0</td><td>1.0</td><td>0</td><td>1.0</td><td>1.0</td><td>1.0</td><td>1.0</td><td>0</td><td>0</td><td>0</td><td>1</td><td>1</td><td>0</td><td>107.705414</td><td>119.321059</td><td>78.0</td><td>87.989802</td><td>107.357444</td><td>52.0</td><td>48.576613</td><td>81.279502</td><td>24.0</td><td>125.021743</td><td>126.811776</td><td>100.0</td><td>48.576613</td><td>81.279502</td><td>24.0</td><td>111.652157</td><td>119.851654</td><td>83.0</td><td>43.294586</td></tr><tr><td>&quot;bf6405c1efe6da…</td><td>2138</td><td>1</td><td>0</td><td>296.0</td><td>1.0</td><td>0</td><td>1.0</td><td>1.0</td><td>1.0</td><td>1.0</td><td>0</td><td>0</td><td>0</td><td>1</td><td>1</td><td>0</td><td>107.705414</td><td>119.321059</td><td>78.0</td><td>87.989802</td><td>107.357444</td><td>52.0</td><td>48.576613</td><td>81.279502</td><td>24.0</td><td>125.021743</td><td>126.811776</td><td>100.0</td><td>48.576613</td><td>81.279502</td><td>24.0</td><td>111.652157</td><td>119.851654</td><td>83.0</td><td>188.294586</td></tr><tr><td>&quot;bf6405c1efe6da…</td><td>9790</td><td>1</td><td>0</td><td>368.0</td><td>1.0</td><td>0</td><td>1.0</td><td>1.0</td><td>1.0</td><td>1.0</td><td>0</td><td>0</td><td>0</td><td>1</td><td>1</td><td>0</td><td>107.705414</td><td>119.321059</td><td>78.0</td><td>87.989802</td><td>107.357444</td><td>52.0</td><td>48.576613</td><td>81.279502</td><td>24.0</td><td>125.021743</td><td>126.811776</td><td>100.0</td><td>48.576613</td><td>81.279502</td><td>24.0</td><td>111.652157</td><td>119.851654</td><td>83.0</td><td>260.294586</td></tr><tr><td>&quot;bf6405c1efe6da…</td><td>2272</td><td>1</td><td>0</td><td>330.0</td><td>1.0</td><td>0</td><td>1.0</td><td>1.0</td><td>1.0</td><td>1.0</td><td>0</td><td>0</td><td>0</td><td>1</td><td>1</td><td>0</td><td>107.705414</td><td>119.321059</td><td>78.0</td><td>87.989802</td><td>107.357444</td><td>52.0</td><td>48.576613</td><td>81.279502</td><td>24.0</td><td>125.021743</td><td>126.811776</td><td>100.0</td><td>48.576613</td><td>81.279502</td><td>24.0</td><td>111.652157</td><td>119.851654</td><td>83.0</td><td>222.294586</td></tr><tr><td>&quot;eab52afda53879…</td><td>8989</td><td>2</td><td>0</td><td>30.0</td><td>1.0</td><td>0</td><td>1.0</td><td>1.0</td><td>1.0</td><td>1.0</td><td>0</td><td>1</td><td>1</td><td>1</td><td>1</td><td>0</td><td>107.705414</td><td>119.321059</td><td>78.0</td><td>87.989802</td><td>107.357444</td><td>52.0</td><td>48.576613</td><td>81.279502</td><td>24.0</td><td>125.021743</td><td>126.811776</td><td>100.0</td><td>48.576613</td><td>81.279502</td><td>24.0</td><td>111.652157</td><td>119.851654</td><td>83.0</td><td>-77.705414</td></tr><tr><td>&quot;f25bc2e9b07733…</td><td>5217</td><td>2</td><td>0</td><td>220.0</td><td>1.0</td><td>0</td><td>1.0</td><td>1.0</td><td>1.0</td><td>1.0</td><td>0</td><td>0</td><td>0</td><td>1</td><td>1</td><td>0</td><td>107.705414</td><td>119.321059</td><td>78.0</td><td>87.989802</td><td>107.357444</td><td>52.0</td><td>48.576613</td><td>81.279502</td><td>24.0</td><td>125.021743</td><td>126.811776</td><td>100.0</td><td>48.576613</td><td>81.279502</td><td>24.0</td><td>111.652157</td><td>119.851654</td><td>83.0</td><td>112.294586</td></tr><tr><td>&quot;fda5c2adb16ed3…</td><td>2253</td><td>1</td><td>0</td><td>329.0</td><td>1.0</td><td>0</td><td>1.0</td><td>1.0</td><td>1.0</td><td>1.0</td><td>0</td><td>0</td><td>0</td><td>1</td><td>1</td><td>0</td><td>107.705414</td><td>119.321059</td><td>78.0</td><td>87.989802</td><td>107.357444</td><td>52.0</td><td>48.576613</td><td>81.279502</td><td>24.0</td><td>125.021743</td><td>126.811776</td><td>100.0</td><td>48.576613</td><td>81.279502</td><td>24.0</td><td>111.652157</td><td>119.851654</td><td>83.0</td><td>221.294586</td></tr></tbody></table></div>"
      ],
      "text/plain": [
       "shape: (21_537_020, 36)\n",
       "┌────────────┬────────┬────────────┬──────────┬───┬────────────┬───────────┬───────────┬───────────┐\n",
       "│ session_id ┆ yad_no ┆ session_le ┆ yad_type ┆ … ┆ mean_total ┆ std_total ┆ median_to ┆ diff_tota │\n",
       "│ ---        ┆ ---    ┆ ngth       ┆ ---      ┆   ┆ _room_cnt_ ┆ _room_cnt ┆ tal_room_ ┆ l_room_cn │\n",
       "│ str        ┆ i64    ┆ ---        ┆ i64      ┆   ┆ with_kd_co ┆ _with_kd_ ┆ cnt_with_ ┆ t_with_on │\n",
       "│            ┆        ┆ i64        ┆          ┆   ┆ nv…        ┆ conv_…    ┆ kd_co…    ┆ sen_f…    │\n",
       "│            ┆        ┆            ┆          ┆   ┆ ---        ┆ ---       ┆ ---       ┆ ---       │\n",
       "│            ┆        ┆            ┆          ┆   ┆ f64        ┆ f64       ┆ f64       ┆ f64       │\n",
       "╞════════════╪════════╪════════════╪══════════╪═══╪════════════╪═══════════╪═══════════╪═══════════╡\n",
       "│ 4a53607e68 ┆ 719    ┆ 1          ┆ 0        ┆ … ┆ 111.652157 ┆ 119.85165 ┆ 83.0      ┆ 492.29458 │\n",
       "│ 06d6641809 ┆        ┆            ┆          ┆   ┆            ┆ 4         ┆           ┆ 6         │\n",
       "│ 697b16a166 ┆        ┆            ┆          ┆   ┆            ┆           ┆           ┆           │\n",
       "│ d9         ┆        ┆            ┆          ┆   ┆            ┆           ┆           ┆           │\n",
       "│ 851a1663f0 ┆ 13292  ┆ 1          ┆ 0        ┆ … ┆ 111.652157 ┆ 119.85165 ┆ 83.0      ┆ 417.29458 │\n",
       "│ 6a517f61f9 ┆        ┆            ┆          ┆   ┆            ┆ 4         ┆           ┆ 6         │\n",
       "│ 4f1dc17c9e ┆        ┆            ┆          ┆   ┆            ┆           ┆           ┆           │\n",
       "│ 5f         ┆        ┆            ┆          ┆   ┆            ┆           ┆           ┆           │\n",
       "│ 260bb3cc4b ┆ 10095  ┆ 1          ┆ 0        ┆ … ┆ 111.652157 ┆ 119.85165 ┆ 83.0      ┆ 1899.2945 │\n",
       "│ 820bcedfd0 ┆        ┆            ┆          ┆   ┆            ┆ 4         ┆           ┆ 86        │\n",
       "│ e6746215d9 ┆        ┆            ┆          ┆   ┆            ┆           ┆           ┆           │\n",
       "│ 0d         ┆        ┆            ┆          ┆   ┆            ┆           ┆           ┆           │\n",
       "│ 91badfb8a7 ┆ 755    ┆ 2          ┆ 0        ┆ … ┆ 111.652157 ┆ 119.85165 ┆ 83.0      ┆ 804.29458 │\n",
       "│ 45f109e901 ┆        ┆            ┆          ┆   ┆            ┆ 4         ┆           ┆ 6         │\n",
       "│ c06a3d6932 ┆        ┆            ┆          ┆   ┆            ┆           ┆           ┆           │\n",
       "│ 0d         ┆        ┆            ┆          ┆   ┆            ┆           ┆           ┆           │\n",
       "│ …          ┆ …      ┆ …          ┆ …        ┆ … ┆ …          ┆ …         ┆ …         ┆ …         │\n",
       "│ bf6405c1ef ┆ 2272   ┆ 1          ┆ 0        ┆ … ┆ 111.652157 ┆ 119.85165 ┆ 83.0      ┆ 222.29458 │\n",
       "│ e6dad85911 ┆        ┆            ┆          ┆   ┆            ┆ 4         ┆           ┆ 6         │\n",
       "│ ea4148a842 ┆        ┆            ┆          ┆   ┆            ┆           ┆           ┆           │\n",
       "│ 37         ┆        ┆            ┆          ┆   ┆            ┆           ┆           ┆           │\n",
       "│ eab52afda5 ┆ 8989   ┆ 2          ┆ 0        ┆ … ┆ 111.652157 ┆ 119.85165 ┆ 83.0      ┆ -77.70541 │\n",
       "│ 387976e9d8 ┆        ┆            ┆          ┆   ┆            ┆ 4         ┆           ┆ 4         │\n",
       "│ 7b0590338b ┆        ┆            ┆          ┆   ┆            ┆           ┆           ┆           │\n",
       "│ e1         ┆        ┆            ┆          ┆   ┆            ┆           ┆           ┆           │\n",
       "│ f25bc2e9b0 ┆ 5217   ┆ 2          ┆ 0        ┆ … ┆ 111.652157 ┆ 119.85165 ┆ 83.0      ┆ 112.29458 │\n",
       "│ 7733e0969f ┆        ┆            ┆          ┆   ┆            ┆ 4         ┆           ┆ 6         │\n",
       "│ d6350873fe ┆        ┆            ┆          ┆   ┆            ┆           ┆           ┆           │\n",
       "│ d9         ┆        ┆            ┆          ┆   ┆            ┆           ┆           ┆           │\n",
       "│ fda5c2adb1 ┆ 2253   ┆ 1          ┆ 0        ┆ … ┆ 111.652157 ┆ 119.85165 ┆ 83.0      ┆ 221.29458 │\n",
       "│ 6ed39101bd ┆        ┆            ┆          ┆   ┆            ┆ 4         ┆           ┆ 6         │\n",
       "│ 0742bb0263 ┆        ┆            ┆          ┆   ┆            ┆           ┆           ┆           │\n",
       "│ f1         ┆        ┆            ┆          ┆   ┆            ┆           ┆           ┆           │\n",
       "└────────────┴────────┴────────────┴──────────┴───┴────────────┴───────────┴───────────┴───────────┘"
      ]
     },
     "execution_count": 10,
     "metadata": {},
     "output_type": "execute_result"
    }
   ],
   "source": [
    "import polars as pl\n",
    "\n",
    "from src import constants\n",
    "\n",
    "dataset = pl.scan_csv(constants.OUTPUT_DIR / \"dataset.csv\").collect()\n",
    "dataset"
   ]
  },
  {
   "cell_type": "code",
   "execution_count": 11,
   "metadata": {},
   "outputs": [
    {
     "data": {
      "text/html": [
       "<div><style>\n",
       ".dataframe > thead > tr,\n",
       ".dataframe > tbody > tr {\n",
       "  text-align: right;\n",
       "  white-space: pre-wrap;\n",
       "}\n",
       "</style>\n",
       "<small>shape: (577_400, 3)</small><table border=\"1\" class=\"dataframe\"><thead><tr><th>session_id</th><th>yad_no</th><th>predict</th></tr><tr><td>str</td><td>i64</td><td>i64</td></tr></thead><tbody><tr><td>&quot;3a355e5ea43f32…</td><td>4398</td><td>13549</td></tr><tr><td>&quot;3a355e5ea43f32…</td><td>4398</td><td>4913</td></tr><tr><td>&quot;3a355e5ea43f32…</td><td>4398</td><td>2118</td></tr><tr><td>&quot;3a355e5ea43f32…</td><td>4398</td><td>4601</td></tr><tr><td>&quot;3a355e5ea43f32…</td><td>4398</td><td>6334</td></tr><tr><td>&quot;3a355e5ea43f32…</td><td>4398</td><td>5624</td></tr><tr><td>&quot;3a355e5ea43f32…</td><td>4398</td><td>6987</td></tr><tr><td>&quot;3a355e5ea43f32…</td><td>4398</td><td>7036</td></tr><tr><td>&quot;3a355e5ea43f32…</td><td>4398</td><td>12954</td></tr><tr><td>&quot;3a355e5ea43f32…</td><td>4398</td><td>9297</td></tr><tr><td>&quot;f92eede3551e27…</td><td>9112</td><td>719</td></tr><tr><td>&quot;f92eede3551e27…</td><td>9112</td><td>1372</td></tr><tr><td>&hellip;</td><td>&hellip;</td><td>&hellip;</td></tr><tr><td>&quot;fda5c2adb16ed3…</td><td>2783</td><td>7558</td></tr><tr><td>&quot;fda5c2adb16ed3…</td><td>2783</td><td>2441</td></tr><tr><td>&quot;c3796db126ff7f…</td><td>1775</td><td>11037</td></tr><tr><td>&quot;c3796db126ff7f…</td><td>1775</td><td>1587</td></tr><tr><td>&quot;c3796db126ff7f…</td><td>1775</td><td>11765</td></tr><tr><td>&quot;c3796db126ff7f…</td><td>1775</td><td>4590</td></tr><tr><td>&quot;c3796db126ff7f…</td><td>1775</td><td>10418</td></tr><tr><td>&quot;c3796db126ff7f…</td><td>1775</td><td>11496</td></tr><tr><td>&quot;c3796db126ff7f…</td><td>1775</td><td>1372</td></tr><tr><td>&quot;c3796db126ff7f…</td><td>1775</td><td>10435</td></tr><tr><td>&quot;c3796db126ff7f…</td><td>1775</td><td>4738</td></tr><tr><td>&quot;c3796db126ff7f…</td><td>1775</td><td>10008</td></tr></tbody></table></div>"
      ],
      "text/plain": [
       "shape: (577_400, 3)\n",
       "┌──────────────────────────────────┬────────┬─────────┐\n",
       "│ session_id                       ┆ yad_no ┆ predict │\n",
       "│ ---                              ┆ ---    ┆ ---     │\n",
       "│ str                              ┆ i64    ┆ i64     │\n",
       "╞══════════════════════════════════╪════════╪═════════╡\n",
       "│ 3a355e5ea43f32028a4f59edc9540535 ┆ 4398   ┆ 13549   │\n",
       "│ 3a355e5ea43f32028a4f59edc9540535 ┆ 4398   ┆ 4913    │\n",
       "│ 3a355e5ea43f32028a4f59edc9540535 ┆ 4398   ┆ 2118    │\n",
       "│ 3a355e5ea43f32028a4f59edc9540535 ┆ 4398   ┆ 4601    │\n",
       "│ …                                ┆ …      ┆ …       │\n",
       "│ c3796db126ff7f4e254ec945f903e632 ┆ 1775   ┆ 1372    │\n",
       "│ c3796db126ff7f4e254ec945f903e632 ┆ 1775   ┆ 10435   │\n",
       "│ c3796db126ff7f4e254ec945f903e632 ┆ 1775   ┆ 4738    │\n",
       "│ c3796db126ff7f4e254ec945f903e632 ┆ 1775   ┆ 10008   │\n",
       "└──────────────────────────────────┴────────┴─────────┘"
      ]
     },
     "execution_count": 11,
     "metadata": {},
     "output_type": "execute_result"
    }
   ],
   "source": [
    "preds = pl.scan_csv(constants.OUTPUT_DIR / \"exp000\" / \"cv_fold0.csv\").collect()\n",
    "preds"
   ]
  },
  {
   "cell_type": "code",
   "execution_count": 12,
   "metadata": {},
   "outputs": [
    {
     "data": {
      "text/plain": [
       "['a6bf6cd42ede15cced9d63ab337b9e68',\n",
       " '97a508c3bfe2a8c07901226fcfaeeb53',\n",
       " '175ccdf0af4bd2f8ab2657e95d44ce7c']"
      ]
     },
     "execution_count": 12,
     "metadata": {},
     "output_type": "execute_result"
    }
   ],
   "source": [
    "preds[\"session_id\"].unique().to_list()[:3]"
   ]
  },
  {
   "cell_type": "code",
   "execution_count": 17,
   "metadata": {},
   "outputs": [
    {
     "data": {
      "text/html": [
       "<div><style>\n",
       ".dataframe > thead > tr,\n",
       ".dataframe > tbody > tr {\n",
       "  text-align: right;\n",
       "  white-space: pre-wrap;\n",
       "}\n",
       "</style>\n",
       "<small>shape: (288_698, 2)</small><table border=\"1\" class=\"dataframe\"><thead><tr><th>session_id</th><th>yad_no</th></tr><tr><td>str</td><td>i64</td></tr></thead><tbody><tr><td>&quot;000007603d533d…</td><td>4101</td></tr><tr><td>&quot;0000ca043ed437…</td><td>8253</td></tr><tr><td>&quot;0000d4835cf113…</td><td>4863</td></tr><tr><td>&quot;0000fcda1ae1b2…</td><td>1652</td></tr><tr><td>&quot;000104bdffaaad…</td><td>96</td></tr><tr><td>&quot;00011afe25c343…</td><td>4823</td></tr><tr><td>&quot;000125c737df18…</td><td>10378</td></tr><tr><td>&quot;0001763050a10b…</td><td>10362</td></tr><tr><td>&quot;000178c4d4d567…</td><td>1227</td></tr><tr><td>&quot;0001e6a407a85d…</td><td>175</td></tr><tr><td>&quot;0002499cf2713a…</td><td>1209</td></tr><tr><td>&quot;00026fd325b5d6…</td><td>756</td></tr><tr><td>&hellip;</td><td>&hellip;</td></tr><tr><td>&quot;fffd8c4fa7b5be…</td><td>5209</td></tr><tr><td>&quot;fffe2d9e5982f5…</td><td>4885</td></tr><tr><td>&quot;fffe3dedeb89ae…</td><td>11714</td></tr><tr><td>&quot;fffe40478b2163…</td><td>1882</td></tr><tr><td>&quot;fffe78a078a176…</td><td>4906</td></tr><tr><td>&quot;fffe8a472ae6a9…</td><td>4353</td></tr><tr><td>&quot;fffe8c99c5b332…</td><td>6170</td></tr><tr><td>&quot;ffff2262d38abd…</td><td>2259</td></tr><tr><td>&quot;ffff2360540745…</td><td>963</td></tr><tr><td>&quot;ffff7fb4617164…</td><td>13719</td></tr><tr><td>&quot;ffffcd5bc19d62…</td><td>10619</td></tr><tr><td>&quot;fffffa7baf3700…</td><td>2439</td></tr></tbody></table></div>"
      ],
      "text/plain": [
       "shape: (288_698, 2)\n",
       "┌──────────────────────────────────┬────────┐\n",
       "│ session_id                       ┆ yad_no │\n",
       "│ ---                              ┆ ---    │\n",
       "│ str                              ┆ i64    │\n",
       "╞══════════════════════════════════╪════════╡\n",
       "│ 000007603d533d30453cc45d0f3d119f ┆ 4101   │\n",
       "│ 0000ca043ed437a1472c9d1d154eb49b ┆ 8253   │\n",
       "│ 0000d4835cf113316fe447e2f80ba1c8 ┆ 4863   │\n",
       "│ 0000fcda1ae1b2f431e55a7075d1f500 ┆ 1652   │\n",
       "│ …                                ┆ …      │\n",
       "│ ffff2360540745117193ecadcdc06538 ┆ 963    │\n",
       "│ ffff7fb4617164b2604aaf51c40bf82d ┆ 13719  │\n",
       "│ ffffcd5bc19d62cad5a3815c87818d83 ┆ 10619  │\n",
       "│ fffffa7baf370083ebcdd98f26a7e31a ┆ 2439   │\n",
       "└──────────────────────────────────┴────────┘"
      ]
     },
     "execution_count": 17,
     "metadata": {},
     "output_type": "execute_result"
    }
   ],
   "source": [
    "train_label_df = pl.scan_csv(constants.INPUT_DIR / \"train_label.csv\").collect()\n",
    "train_label_df"
   ]
  },
  {
   "cell_type": "code",
   "execution_count": 21,
   "metadata": {},
   "outputs": [
    {
     "name": "stdout",
     "output_type": "stream",
     "text": [
      "187cbc12d251ad3360f717c1cba7f1f2\n",
      "DS:  shape: (373, 36)\n",
      "┌────────────┬────────┬────────────┬──────────┬───┬────────────┬───────────┬───────────┬───────────┐\n",
      "│ session_id ┆ yad_no ┆ session_le ┆ yad_type ┆ … ┆ mean_total ┆ std_total ┆ median_to ┆ diff_tota │\n",
      "│ ---        ┆ ---    ┆ ngth       ┆ ---      ┆   ┆ _room_cnt_ ┆ _room_cnt ┆ tal_room_ ┆ l_room_cn │\n",
      "│ str        ┆ i64    ┆ ---        ┆ i64      ┆   ┆ with_kd_co ┆ _with_kd_ ┆ cnt_with_ ┆ t_with_on │\n",
      "│            ┆        ┆ i64        ┆          ┆   ┆ nv…        ┆ conv_…    ┆ kd_co…    ┆ sen_f…    │\n",
      "│            ┆        ┆            ┆          ┆   ┆ ---        ┆ ---       ┆ ---       ┆ ---       │\n",
      "│            ┆        ┆            ┆          ┆   ┆ f64        ┆ f64       ┆ f64       ┆ f64       │\n",
      "╞════════════╪════════╪════════════╪══════════╪═══╪════════════╪═══════════╪═══════════╪═══════════╡\n",
      "│ 187cbc12d2 ┆ 11037  ┆ 1          ┆ 0        ┆ … ┆ 111.652157 ┆ 119.85165 ┆ 83.0      ┆ 495.29458 │\n",
      "│ 51ad3360f7 ┆        ┆            ┆          ┆   ┆            ┆ 4         ┆           ┆ 6         │\n",
      "│ 17c1cba7f1 ┆        ┆            ┆          ┆   ┆            ┆           ┆           ┆           │\n",
      "│ f2         ┆        ┆            ┆          ┆   ┆            ┆           ┆           ┆           │\n",
      "│ 187cbc12d2 ┆ 11715  ┆ 1          ┆ 0        ┆ … ┆ 111.652157 ┆ 119.85165 ┆ 83.0      ┆ 722.29458 │\n",
      "│ 51ad3360f7 ┆        ┆            ┆          ┆   ┆            ┆ 4         ┆           ┆ 6         │\n",
      "│ 17c1cba7f1 ┆        ┆            ┆          ┆   ┆            ┆           ┆           ┆           │\n",
      "│ f2         ┆        ┆            ┆          ┆   ┆            ┆           ┆           ┆           │\n",
      "│ 187cbc12d2 ┆ 2583   ┆ 1          ┆ 0        ┆ … ┆ 111.652157 ┆ 119.85165 ┆ 83.0      ┆ 41.294586 │\n",
      "│ 51ad3360f7 ┆        ┆            ┆          ┆   ┆            ┆ 4         ┆           ┆           │\n",
      "│ 17c1cba7f1 ┆        ┆            ┆          ┆   ┆            ┆           ┆           ┆           │\n",
      "│ f2         ┆        ┆            ┆          ┆   ┆            ┆           ┆           ┆           │\n",
      "│ 187cbc12d2 ┆ 11822  ┆ 1          ┆ 0        ┆ … ┆ 111.652157 ┆ 119.85165 ┆ 83.0      ┆ 53.294586 │\n",
      "│ 51ad3360f7 ┆        ┆            ┆          ┆   ┆            ┆ 4         ┆           ┆           │\n",
      "│ 17c1cba7f1 ┆        ┆            ┆          ┆   ┆            ┆           ┆           ┆           │\n",
      "│ f2         ┆        ┆            ┆          ┆   ┆            ┆           ┆           ┆           │\n",
      "│ …          ┆ …      ┆ …          ┆ …        ┆ … ┆ …          ┆ …         ┆ …         ┆ …         │\n",
      "│ 187cbc12d2 ┆ 11283  ┆ 1          ┆ 0        ┆ … ┆ 111.652157 ┆ 119.85165 ┆ 83.0      ┆ 163.29458 │\n",
      "│ 51ad3360f7 ┆        ┆            ┆          ┆   ┆            ┆ 4         ┆           ┆ 6         │\n",
      "│ 17c1cba7f1 ┆        ┆            ┆          ┆   ┆            ┆           ┆           ┆           │\n",
      "│ f2         ┆        ┆            ┆          ┆   ┆            ┆           ┆           ┆           │\n",
      "│ 187cbc12d2 ┆ 11112  ┆ 1          ┆ 0        ┆ … ┆ 111.652157 ┆ 119.85165 ┆ 83.0      ┆ 93.294586 │\n",
      "│ 51ad3360f7 ┆        ┆            ┆          ┆   ┆            ┆ 4         ┆           ┆           │\n",
      "│ 17c1cba7f1 ┆        ┆            ┆          ┆   ┆            ┆           ┆           ┆           │\n",
      "│ f2         ┆        ┆            ┆          ┆   ┆            ┆           ┆           ┆           │\n",
      "│ 187cbc12d2 ┆ 12545  ┆ 1          ┆ 0        ┆ … ┆ 111.652157 ┆ 119.85165 ┆ 83.0      ┆ 54.294586 │\n",
      "│ 51ad3360f7 ┆        ┆            ┆          ┆   ┆            ┆ 4         ┆           ┆           │\n",
      "│ 17c1cba7f1 ┆        ┆            ┆          ┆   ┆            ┆           ┆           ┆           │\n",
      "│ f2         ┆        ┆            ┆          ┆   ┆            ┆           ┆           ┆           │\n",
      "│ 187cbc12d2 ┆ 7014   ┆ 1          ┆ 0        ┆ … ┆ 111.652157 ┆ 119.85165 ┆ 83.0      ┆ 100.29458 │\n",
      "│ 51ad3360f7 ┆        ┆            ┆          ┆   ┆            ┆ 4         ┆           ┆ 6         │\n",
      "│ 17c1cba7f1 ┆        ┆            ┆          ┆   ┆            ┆           ┆           ┆           │\n",
      "│ f2         ┆        ┆            ┆          ┆   ┆            ┆           ┆           ┆           │\n",
      "└────────────┴────────┴────────────┴──────────┴───┴────────────┴───────────┴───────────┴───────────┘\n",
      "PREDS:  shape: (10, 3)\n",
      "┌──────────────────────────────────┬────────┬─────────┐\n",
      "│ session_id                       ┆ yad_no ┆ predict │\n",
      "│ ---                              ┆ ---    ┆ ---     │\n",
      "│ str                              ┆ i64    ┆ i64     │\n",
      "╞══════════════════════════════════╪════════╪═════════╡\n",
      "│ 187cbc12d251ad3360f717c1cba7f1f2 ┆ 2570   ┆ 11037   │\n",
      "│ 187cbc12d251ad3360f717c1cba7f1f2 ┆ 2570   ┆ 11715   │\n",
      "│ 187cbc12d251ad3360f717c1cba7f1f2 ┆ 2570   ┆ 2583    │\n",
      "│ 187cbc12d251ad3360f717c1cba7f1f2 ┆ 2570   ┆ 11822   │\n",
      "│ …                                ┆ …      ┆ …       │\n",
      "│ 187cbc12d251ad3360f717c1cba7f1f2 ┆ 2570   ┆ 4585    │\n",
      "│ 187cbc12d251ad3360f717c1cba7f1f2 ┆ 2570   ┆ 4221    │\n",
      "│ 187cbc12d251ad3360f717c1cba7f1f2 ┆ 2570   ┆ 3263    │\n",
      "│ 187cbc12d251ad3360f717c1cba7f1f2 ┆ 2570   ┆ 12918   │\n",
      "└──────────────────────────────────┴────────┴─────────┘\n",
      "YAD CANDIDATES:  [11037, 11715, 2583, 11822, 1708, 9510, 4585, 4221, 3263, 12918, 12395, 8030, 12962, 5736, 1372, 13736, 1136, 1454, 3137, 1774, 4147, 5607, 12954, 4367, 13524, 12400, 10006, 9215, 1779, 9830, 8143, 9954, 3988, 3848, 13468, 109, 12178, 11984, 13701, 4738, 5079, 10603, 3230, 3215, 8504, 2087, 8975, 12986, 422, 11496, 5054, 12350, 2272, 12992, 12579, 11919, 13672, 1052, 245, 10897, 530, 4588, 10248, 7547, 2865, 7565, 12450, 11575, 2445, 13549, 6470, 5710, 5800, 11359, 1070, 2441, 9724, 1815, 11765, 9515, 7082, 11295, 9388, 6980, 9631, 2687, 11888, 7614, 6193, 13692, 11305, 2797, 4913, 8553, 9790, 1891, 1229, 11398, 10599, 1896, 9563, 4228, 8368, 2160, 4599, 7812, 3158, 1066, 2534, 2253, 5810, 11796, 2489, 6723, 9508, 9626, 2118, 8250, 1687, 5217, 13237, 5944, 2295, 2769, 3098, 10626, 6941, 420, 3515, 385, 3338, 9971, 13292, 10435, 10515, 7558, 6603, 4605, 10848, 4601, 2334, 11136, 6187, 9955, 12276, 11142, 6129, 1620, 7202, 10095, 2424, 6086, 6693, 4600, 11850, 7561, 4594, 1474, 2739, 12928, 7036, 12839, 10415, 6178, 7304, 2927, 12247, 11561, 8226, 4587, 4659, 9885, 4495, 9273, 2370, 7946, 6154, 2864, 5212, 10276, 8567, 12017, 1428, 6987, 9545, 11273, 4586, 4879, 13131, 693, 1400, 11915, 4234, 10870, 9624, 9216, 915, 13296, 851, 773, 7686, 4215, 1587, 4061, 12969, 11564, 11711, 4598, 9768, 2974, 13474, 10155, 1503, 12425, 11557, 6125, 8355, 5066, 10211, 10175, 3694, 7920, 12646, 1077, 4763, 12067, 3811, 3554, 5214, 2057, 8108, 12125, 7681, 9241, 7947, 10857, 9638, 4589, 4597, 8899, 79, 13577, 855, 2833, 13719, 13447, 7227, 1818, 12785, 1091, 4507, 7093, 7076, 9301, 8475, 1855, 12543, 4590, 8255, 10118, 4595, 1948, 4646, 1771, 8713, 11407, 1169, 12736, 1050, 2678, 12128, 1636, 6217, 1083, 5624, 10012, 12620, 1342, 8556, 3350, 6003, 8743, 10418, 5948, 5808, 8793, 8988, 2452, 3521, 1679, 6649, 3574, 4066, 6091, 719, 6524, 8518, 4526, 10008, 4151, 7288, 4603, 4602, 4593, 9137, 11141, 9941, 11113, 4959, 10868, 7379, 755, 5116, 10483, 2924, 5727, 10983, 12707, 3226, 4985, 4624, 9248, 12165, 2305, 6192, 12642, 8912, 6997, 12132, 8144, 598, 6334, 3100, 1341, 11994, 1068, 12956, 7895, 4604, 3754, 2028, 9110, 9297, 7845, 9347, 7869, 532, 8617, 11408, 6893, 7483, 211, 13523, 11726, 8989, 996, 1808, 11253, 2201, 13017, 6199, 13106, 253, 3308, 4628, 4596, 11445, 2138, 11098, 11283, 11112, 12545, 7014]\n",
      "PREDS:  [11037, 11715, 2583, 11822, 1708, 9510, 4585, 4221, 3263, 12918]\n",
      "LABEL:  2570\n",
      "Label in candidates:  False\n",
      "\n"
     ]
    }
   ],
   "source": [
    "see_targets = [\n",
    "    \"187cbc12d251ad3360f717c1cba7f1f2\"\n",
    "]\n",
    "for target in see_targets:\n",
    "    print(target)\n",
    "    ds_this_target = dataset.filter(pl.col(\"session_id\") == target)\n",
    "    preds_this_target = preds.filter(pl.col(\"session_id\") == target)\n",
    "    print(\"DS: \", ds_this_target)\n",
    "    print(\"PREDS: \", preds_this_target)\n",
    "    yad_candidates = ds_this_target[\"yad_no\"].to_list()\n",
    "    pred = preds_this_target[\"predict\"].to_list()\n",
    "    label = train_label_df.filter(pl.col(\"session_id\") == target)[\"yad_no\"].to_list()[0]\n",
    "    print(\"YAD CANDIDATES: \", yad_candidates)\n",
    "    print(\"PREDS: \", pred)\n",
    "    print(\"LABEL: \", label)\n",
    "    print(\"Label in candidates: \", label in yad_candidates)\n",
    "    print(\"\")"
   ]
  },
  {
   "cell_type": "code",
   "execution_count": 22,
   "metadata": {},
   "outputs": [],
   "source": [
    "label_in_candidates = 0\n",
    "for target in dataset[\"session_id\"].unique().to_list():\n",
    "    ds_this_target = dataset.filter(pl.col(\"session_id\") == target)\n",
    "    preds_this_target = preds.filter(pl.col(\"session_id\") == target)\n",
    "    yad_candidates = ds_this_target[\"yad_no\"].to_list()\n",
    "    pred = preds_this_target[\"predict\"].to_list()\n",
    "    label = train_label_df.filter(pl.col(\"session_id\") == target)[\"yad_no\"].to_list()[0]\n",
    "    if label in yad_candidates:\n",
    "        label_in_candidates += 1\n",
    "\n",
    "print(label_in_candidates / len(dataset[\"session_id\"].unique().to_list()))"
   ]
  }
 ],
 "metadata": {
  "kernelspec": {
   "display_name": ".venv",
   "language": "python",
   "name": "python3"
  },
  "language_info": {
   "codemirror_mode": {
    "name": "ipython",
    "version": 3
   },
   "file_extension": ".py",
   "mimetype": "text/x-python",
   "name": "python",
   "nbconvert_exporter": "python",
   "pygments_lexer": "ipython3",
   "version": "3.10.13"
  }
 },
 "nbformat": 4,
 "nbformat_minor": 2
}
