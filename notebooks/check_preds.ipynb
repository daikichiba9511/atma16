{
 "cells": [
  {
   "cell_type": "code",
   "execution_count": 4,
   "metadata": {},
   "outputs": [
    {
     "data": {
      "text/html": [
       "<div><style>\n",
       ".dataframe > thead > tr,\n",
       ".dataframe > tbody > tr {\n",
       "  text-align: right;\n",
       "  white-space: pre-wrap;\n",
       "}\n",
       "</style>\n",
       "<small>shape: (15_199_717, 57)</small><table border=\"1\" class=\"dataframe\"><thead><tr><th>session_id</th><th>yad_no</th><th>session_length</th><th>last_seen_yad_no</th><th>last_seen_sml_cd_0</th><th>last_seen_lrg_cd_0</th><th>last_seen_ken_cd_0</th><th>first_seen_yad_no</th><th>first_seen_sml_cd_0</th><th>first_seen_lrg_cd_0</th><th>first_seen_ken_cd_0</th><th>yad_type</th><th>total_room_cnt</th><th>wireless_lan_flg</th><th>onsen_flg</th><th>kd_stn_5min</th><th>kd_bch_5min</th><th>kd_slp_5min</th><th>kd_conv_walk_5min</th><th>wid_cd</th><th>ken_cd</th><th>lrg_cd</th><th>sml_cd</th><th>total_room_cnt_null_flg</th><th>wireless_lan_flg_null_flg</th><th>kd_stn_5min_null_flg</th><th>kd_bch_5min_null_flg</th><th>kd_slp_5min_null_flg</th><th>kd_conv_walk_5min_null_flg</th><th>mean_total_room_cnt_with_onsen_flg</th><th>std_total_room_cnt_with_onsen_flg</th><th>median_total_room_cnt_with_onsen_flg</th><th>mean_total_room_cnt_with_yad_type</th><th>std_total_room_cnt_with_yad_type</th><th>median_total_room_cnt_with_yad_type</th><th>mean_total_room_cnt_with_kd_bch_5min</th><th>std_total_room_cnt_with_kd_bch_5min</th><th>median_total_room_cnt_with_kd_bch_5min</th><th>mean_total_room_cnt_with_kd_stn_5min</th><th>std_total_room_cnt_with_kd_stn_5min</th><th>median_total_room_cnt_with_kd_stn_5min</th><th>mean_total_room_cnt_with_kd_bch_5min_right</th><th>std_total_room_cnt_with_kd_bch_5min_right</th><th>median_total_room_cnt_with_kd_bch_5min_right</th><th>mean_total_room_cnt_with_kd_conv_walk_5min</th><th>std_total_room_cnt_with_kd_conv_walk_5min</th><th>median_total_room_cnt_with_kd_conv_walk_5min</th><th>diff_raw_mean_total_room_cnt_with_onsen_flg</th><th>diff_raw_median_total_room_cnt_with_onsen_flg</th><th>diff_raw_mean_total_room_cnt_with_yad_type</th><th>diff_raw_median_total_room_cnt_with_yad_type</th><th>diff_raw_mean_total_room_cnt_with_kd_stn_5min</th><th>diff_raw_median_total_room_cnt_with_kd_stn_5min</th><th>diff_raw_mean_total_room_cnt_with_kd_bch_5min</th><th>diff_raw_median_total_room_cnt_with_kd_bch_5min</th><th>diff_raw_mean_total_room_cnt_with_kd_conv_walk_5min</th><th>diff_raw_median_total_room_cnt_with_kd_conv_walk_5min</th></tr><tr><td>str</td><td>i64</td><td>i64</td><td>i64</td><td>i64</td><td>i64</td><td>i64</td><td>i64</td><td>i64</td><td>i64</td><td>i64</td><td>i64</td><td>f64</td><td>f64</td><td>i64</td><td>f64</td><td>f64</td><td>f64</td><td>f64</td><td>i64</td><td>i64</td><td>i64</td><td>i64</td><td>i64</td><td>i64</td><td>i64</td><td>i64</td><td>i64</td><td>i64</td><td>f64</td><td>f64</td><td>f64</td><td>f64</td><td>f64</td><td>f64</td><td>f64</td><td>f64</td><td>f64</td><td>f64</td><td>f64</td><td>f64</td><td>f64</td><td>f64</td><td>f64</td><td>f64</td><td>f64</td><td>f64</td><td>f64</td><td>f64</td><td>f64</td><td>f64</td><td>f64</td><td>f64</td><td>f64</td><td>f64</td><td>f64</td><td>f64</td></tr></thead><tbody><tr><td>&quot;a9938be796e185…</td><td>10827</td><td>2</td><td>12350</td><td>69</td><td>153</td><td>18</td><td>12350</td><td>69</td><td>153</td><td>18</td><td>0</td><td>554.0</td><td>1.0</td><td>1</td><td>1.0</td><td>1.0</td><td>1.0</td><td>1.0</td><td>10</td><td>30</td><td>123</td><td>182</td><td>0</td><td>0</td><td>1</td><td>1</td><td>1</td><td>0</td><td>52.679703</td><td>69.28917</td><td>29.0</td><td>87.9898</td><td>107.357445</td><td>52.0</td><td>48.576614</td><td>81.2795</td><td>24.0</td><td>125.02174</td><td>126.811775</td><td>100.0</td><td>48.576614</td><td>81.2795</td><td>24.0</td><td>111.65216</td><td>119.851654</td><td>83.0</td><td>501.3203</td><td>525.0</td><td>466.0102</td><td>502.0</td><td>428.97827</td><td>454.0</td><td>505.4234</td><td>530.0</td><td>442.34784</td><td>471.0</td></tr><tr><td>&quot;f41fd82e8a0e67…</td><td>5116</td><td>1</td><td>10984</td><td>102</td><td>133</td><td>39</td><td>10984</td><td>102</td><td>133</td><td>39</td><td>0</td><td>330.0</td><td>1.0</td><td>0</td><td>1.0</td><td>1.0</td><td>1.0</td><td>1.0</td><td>11</td><td>2</td><td>278</td><td>442</td><td>0</td><td>0</td><td>0</td><td>1</td><td>1</td><td>0</td><td>107.705414</td><td>119.32106</td><td>78.0</td><td>87.9898</td><td>107.357445</td><td>52.0</td><td>48.576614</td><td>81.2795</td><td>24.0</td><td>125.02174</td><td>126.811775</td><td>100.0</td><td>48.576614</td><td>81.2795</td><td>24.0</td><td>111.65216</td><td>119.851654</td><td>83.0</td><td>222.29459</td><td>252.0</td><td>242.0102</td><td>278.0</td><td>204.97826</td><td>230.0</td><td>281.4234</td><td>306.0</td><td>218.34784</td><td>247.0</td></tr><tr><td>&quot;dfb8152e2f801e…</td><td>1818</td><td>1</td><td>13387</td><td>14</td><td>264</td><td>5</td><td>13387</td><td>14</td><td>264</td><td>5</td><td>0</td><td>1039.0</td><td>1.0</td><td>0</td><td>1.0</td><td>1.0</td><td>1.0</td><td>1.0</td><td>11</td><td>2</td><td>74</td><td>517</td><td>0</td><td>0</td><td>0</td><td>1</td><td>1</td><td>0</td><td>107.705414</td><td>119.32106</td><td>78.0</td><td>87.9898</td><td>107.357445</td><td>52.0</td><td>48.576614</td><td>81.2795</td><td>24.0</td><td>125.02174</td><td>126.811775</td><td>100.0</td><td>48.576614</td><td>81.2795</td><td>24.0</td><td>111.65216</td><td>119.851654</td><td>83.0</td><td>931.29456</td><td>961.0</td><td>951.0102</td><td>987.0</td><td>913.9783</td><td>939.0</td><td>990.4234</td><td>1015.0</td><td>927.34784</td><td>956.0</td></tr><tr><td>&quot;4106b673635f31…</td><td>4913</td><td>3</td><td>12017</td><td>442</td><td>278</td><td>2</td><td>12017</td><td>442</td><td>278</td><td>2</td><td>0</td><td>583.0</td><td>1.0</td><td>1</td><td>1.0</td><td>1.0</td><td>1.0</td><td>1.0</td><td>3</td><td>18</td><td>153</td><td>69</td><td>0</td><td>0</td><td>1</td><td>1</td><td>1</td><td>0</td><td>52.679703</td><td>69.28917</td><td>29.0</td><td>87.9898</td><td>107.357445</td><td>52.0</td><td>48.576614</td><td>81.2795</td><td>24.0</td><td>125.02174</td><td>126.811775</td><td>100.0</td><td>48.576614</td><td>81.2795</td><td>24.0</td><td>111.65216</td><td>119.851654</td><td>83.0</td><td>530.3203</td><td>554.0</td><td>495.0102</td><td>531.0</td><td>457.97827</td><td>483.0</td><td>534.4234</td><td>559.0</td><td>471.34784</td><td>500.0</td></tr><tr><td>&quot;22a1f46c2f0880…</td><td>2445</td><td>1</td><td>4378</td><td>14</td><td>264</td><td>5</td><td>4378</td><td>14</td><td>264</td><td>5</td><td>0</td><td>613.0</td><td>1.0</td><td>1</td><td>1.0</td><td>1.0</td><td>1.0</td><td>1.0</td><td>9</td><td>44</td><td>268</td><td>58</td><td>0</td><td>1</td><td>0</td><td>1</td><td>1</td><td>0</td><td>52.679703</td><td>69.28917</td><td>29.0</td><td>87.9898</td><td>107.357445</td><td>52.0</td><td>48.576614</td><td>81.2795</td><td>24.0</td><td>125.02174</td><td>126.811775</td><td>100.0</td><td>48.576614</td><td>81.2795</td><td>24.0</td><td>111.65216</td><td>119.851654</td><td>83.0</td><td>560.3203</td><td>584.0</td><td>525.0102</td><td>561.0</td><td>487.97827</td><td>513.0</td><td>564.4234</td><td>589.0</td><td>501.34784</td><td>530.0</td></tr><tr><td>&quot;30205ef93a5f72…</td><td>4913</td><td>1</td><td>281</td><td>304</td><td>120</td><td>27</td><td>281</td><td>304</td><td>120</td><td>27</td><td>0</td><td>583.0</td><td>1.0</td><td>1</td><td>1.0</td><td>1.0</td><td>1.0</td><td>1.0</td><td>3</td><td>18</td><td>153</td><td>69</td><td>0</td><td>0</td><td>1</td><td>1</td><td>1</td><td>0</td><td>52.679703</td><td>69.28917</td><td>29.0</td><td>87.9898</td><td>107.357445</td><td>52.0</td><td>48.576614</td><td>81.2795</td><td>24.0</td><td>125.02174</td><td>126.811775</td><td>100.0</td><td>48.576614</td><td>81.2795</td><td>24.0</td><td>111.65216</td><td>119.851654</td><td>83.0</td><td>530.3203</td><td>554.0</td><td>495.0102</td><td>531.0</td><td>457.97827</td><td>483.0</td><td>534.4234</td><td>559.0</td><td>471.34784</td><td>500.0</td></tr><tr><td>&quot;69bc6e3e87ea83…</td><td>10827</td><td>2</td><td>6562</td><td>365</td><td>93</td><td>18</td><td>6562</td><td>365</td><td>93</td><td>18</td><td>0</td><td>554.0</td><td>1.0</td><td>1</td><td>1.0</td><td>1.0</td><td>1.0</td><td>1.0</td><td>10</td><td>30</td><td>123</td><td>182</td><td>0</td><td>0</td><td>1</td><td>1</td><td>1</td><td>0</td><td>52.679703</td><td>69.28917</td><td>29.0</td><td>87.9898</td><td>107.357445</td><td>52.0</td><td>48.576614</td><td>81.2795</td><td>24.0</td><td>125.02174</td><td>126.811775</td><td>100.0</td><td>48.576614</td><td>81.2795</td><td>24.0</td><td>111.65216</td><td>119.851654</td><td>83.0</td><td>501.3203</td><td>525.0</td><td>466.0102</td><td>502.0</td><td>428.97827</td><td>454.0</td><td>505.4234</td><td>530.0</td><td>442.34784</td><td>471.0</td></tr><tr><td>&quot;d68cf27b9deded…</td><td>12350</td><td>2</td><td>13604</td><td>415</td><td>29</td><td>32</td><td>13604</td><td>415</td><td>29</td><td>32</td><td>0</td><td>696.0</td><td>1.0</td><td>0</td><td>1.0</td><td>1.0</td><td>1.0</td><td>1.0</td><td>3</td><td>18</td><td>153</td><td>69</td><td>0</td><td>0</td><td>1</td><td>1</td><td>1</td><td>1</td><td>107.705414</td><td>119.32106</td><td>78.0</td><td>87.9898</td><td>107.357445</td><td>52.0</td><td>48.576614</td><td>81.2795</td><td>24.0</td><td>125.02174</td><td>126.811775</td><td>100.0</td><td>48.576614</td><td>81.2795</td><td>24.0</td><td>111.65216</td><td>119.851654</td><td>83.0</td><td>588.29456</td><td>618.0</td><td>608.0102</td><td>644.0</td><td>570.9783</td><td>596.0</td><td>647.4234</td><td>672.0</td><td>584.34784</td><td>613.0</td></tr><tr><td>&quot;2e693739b7fe8c…</td><td>10418</td><td>1</td><td>4882</td><td>102</td><td>133</td><td>39</td><td>4882</td><td>102</td><td>133</td><td>39</td><td>0</td><td>1006.0</td><td>1.0</td><td>0</td><td>1.0</td><td>1.0</td><td>1.0</td><td>1.0</td><td>3</td><td>5</td><td>194</td><td>420</td><td>0</td><td>0</td><td>0</td><td>1</td><td>1</td><td>0</td><td>107.705414</td><td>119.32106</td><td>78.0</td><td>87.9898</td><td>107.357445</td><td>52.0</td><td>48.576614</td><td>81.2795</td><td>24.0</td><td>125.02174</td><td>126.811775</td><td>100.0</td><td>48.576614</td><td>81.2795</td><td>24.0</td><td>111.65216</td><td>119.851654</td><td>83.0</td><td>898.29456</td><td>928.0</td><td>918.0102</td><td>954.0</td><td>880.9783</td><td>906.0</td><td>957.4234</td><td>982.0</td><td>894.34784</td><td>923.0</td></tr><tr><td>&quot;91a133e38f4c20…</td><td>4913</td><td>1</td><td>9137</td><td>191</td><td>180</td><td>41</td><td>9137</td><td>191</td><td>180</td><td>41</td><td>0</td><td>583.0</td><td>1.0</td><td>1</td><td>1.0</td><td>1.0</td><td>1.0</td><td>1.0</td><td>3</td><td>18</td><td>153</td><td>69</td><td>0</td><td>0</td><td>1</td><td>1</td><td>1</td><td>0</td><td>52.679703</td><td>69.28917</td><td>29.0</td><td>87.9898</td><td>107.357445</td><td>52.0</td><td>48.576614</td><td>81.2795</td><td>24.0</td><td>125.02174</td><td>126.811775</td><td>100.0</td><td>48.576614</td><td>81.2795</td><td>24.0</td><td>111.65216</td><td>119.851654</td><td>83.0</td><td>530.3203</td><td>554.0</td><td>495.0102</td><td>531.0</td><td>457.97827</td><td>483.0</td><td>534.4234</td><td>559.0</td><td>471.34784</td><td>500.0</td></tr><tr><td>&quot;91a133e38f4c20…</td><td>6470</td><td>1</td><td>9137</td><td>191</td><td>180</td><td>41</td><td>9137</td><td>191</td><td>180</td><td>41</td><td>0</td><td>390.0</td><td>1.0</td><td>0</td><td>1.0</td><td>1.0</td><td>1.0</td><td>1.0</td><td>11</td><td>2</td><td>278</td><td>442</td><td>0</td><td>0</td><td>0</td><td>1</td><td>1</td><td>0</td><td>107.705414</td><td>119.32106</td><td>78.0</td><td>87.9898</td><td>107.357445</td><td>52.0</td><td>48.576614</td><td>81.2795</td><td>24.0</td><td>125.02174</td><td>126.811775</td><td>100.0</td><td>48.576614</td><td>81.2795</td><td>24.0</td><td>111.65216</td><td>119.851654</td><td>83.0</td><td>282.2946</td><td>312.0</td><td>302.0102</td><td>338.0</td><td>264.97827</td><td>290.0</td><td>341.4234</td><td>366.0</td><td>278.34784</td><td>307.0</td></tr><tr><td>&quot;02b86bedc0932f…</td><td>1818</td><td>2</td><td>9388</td><td>115</td><td>67</td><td>5</td><td>9388</td><td>115</td><td>67</td><td>5</td><td>0</td><td>1039.0</td><td>1.0</td><td>0</td><td>1.0</td><td>1.0</td><td>1.0</td><td>1.0</td><td>11</td><td>2</td><td>74</td><td>517</td><td>0</td><td>0</td><td>0</td><td>1</td><td>1</td><td>0</td><td>107.705414</td><td>119.32106</td><td>78.0</td><td>87.9898</td><td>107.357445</td><td>52.0</td><td>48.576614</td><td>81.2795</td><td>24.0</td><td>125.02174</td><td>126.811775</td><td>100.0</td><td>48.576614</td><td>81.2795</td><td>24.0</td><td>111.65216</td><td>119.851654</td><td>83.0</td><td>931.29456</td><td>961.0</td><td>951.0102</td><td>987.0</td><td>913.9783</td><td>939.0</td><td>990.4234</td><td>1015.0</td><td>927.34784</td><td>956.0</td></tr><tr><td>&hellip;</td><td>&hellip;</td><td>&hellip;</td><td>&hellip;</td><td>&hellip;</td><td>&hellip;</td><td>&hellip;</td><td>&hellip;</td><td>&hellip;</td><td>&hellip;</td><td>&hellip;</td><td>&hellip;</td><td>&hellip;</td><td>&hellip;</td><td>&hellip;</td><td>&hellip;</td><td>&hellip;</td><td>&hellip;</td><td>&hellip;</td><td>&hellip;</td><td>&hellip;</td><td>&hellip;</td><td>&hellip;</td><td>&hellip;</td><td>&hellip;</td><td>&hellip;</td><td>&hellip;</td><td>&hellip;</td><td>&hellip;</td><td>&hellip;</td><td>&hellip;</td><td>&hellip;</td><td>&hellip;</td><td>&hellip;</td><td>&hellip;</td><td>&hellip;</td><td>&hellip;</td><td>&hellip;</td><td>&hellip;</td><td>&hellip;</td><td>&hellip;</td><td>&hellip;</td><td>&hellip;</td><td>&hellip;</td><td>&hellip;</td><td>&hellip;</td><td>&hellip;</td><td>&hellip;</td><td>&hellip;</td><td>&hellip;</td><td>&hellip;</td><td>&hellip;</td><td>&hellip;</td><td>&hellip;</td><td>&hellip;</td><td>&hellip;</td><td>&hellip;</td></tr><tr><td>&quot;fb3365d5ff583d…</td><td>1719</td><td>1</td><td>6045</td><td>36</td><td>133</td><td>39</td><td>6045</td><td>36</td><td>133</td><td>39</td><td>0</td><td>191.0</td><td>1.0</td><td>0</td><td>1.0</td><td>1.0</td><td>1.0</td><td>1.0</td><td>11</td><td>39</td><td>133</td><td>102</td><td>0</td><td>0</td><td>0</td><td>1</td><td>1</td><td>0</td><td>107.705414</td><td>119.32106</td><td>78.0</td><td>87.9898</td><td>107.357445</td><td>52.0</td><td>48.576614</td><td>81.2795</td><td>24.0</td><td>125.02174</td><td>126.811775</td><td>100.0</td><td>48.576614</td><td>81.2795</td><td>24.0</td><td>111.65216</td><td>119.851654</td><td>83.0</td><td>83.294586</td><td>113.0</td><td>103.0102</td><td>139.0</td><td>65.97826</td><td>91.0</td><td>142.42339</td><td>167.0</td><td>79.34784</td><td>108.0</td></tr><tr><td>&quot;fb35e031996416…</td><td>10927</td><td>1</td><td>9768</td><td>479</td><td>138</td><td>41</td><td>9768</td><td>479</td><td>138</td><td>41</td><td>0</td><td>78.0</td><td>1.0</td><td>1</td><td>1.0</td><td>1.0</td><td>1.0</td><td>1.0</td><td>9</td><td>22</td><td>121</td><td>132</td><td>0</td><td>1</td><td>1</td><td>0</td><td>1</td><td>0</td><td>52.679703</td><td>69.28917</td><td>29.0</td><td>87.9898</td><td>107.357445</td><td>52.0</td><td>48.576614</td><td>81.2795</td><td>24.0</td><td>125.02174</td><td>126.811775</td><td>100.0</td><td>48.576614</td><td>81.2795</td><td>24.0</td><td>111.65216</td><td>119.851654</td><td>83.0</td><td>25.3203</td><td>49.0</td><td>-9.989802</td><td>26.0</td><td>-47.021744</td><td>-22.0</td><td>29.423388</td><td>54.0</td><td>-33.652157</td><td>-5.0</td></tr><tr><td>&quot;fbdeb762a9c78b…</td><td>5102</td><td>1</td><td>5135</td><td>103</td><td>198</td><td>10</td><td>5135</td><td>103</td><td>198</td><td>10</td><td>0</td><td>110.0</td><td>1.0</td><td>0</td><td>1.0</td><td>1.0</td><td>1.0</td><td>1.0</td><td>8</td><td>10</td><td>198</td><td>103</td><td>0</td><td>0</td><td>1</td><td>1</td><td>1</td><td>0</td><td>107.705414</td><td>119.32106</td><td>78.0</td><td>87.9898</td><td>107.357445</td><td>52.0</td><td>48.576614</td><td>81.2795</td><td>24.0</td><td>125.02174</td><td>126.811775</td><td>100.0</td><td>48.576614</td><td>81.2795</td><td>24.0</td><td>111.65216</td><td>119.851654</td><td>83.0</td><td>2.2945857</td><td>32.0</td><td>22.010199</td><td>58.0</td><td>-15.021744</td><td>10.0</td><td>61.423386</td><td>86.0</td><td>-1.652157</td><td>27.0</td></tr><tr><td>&quot;fc670e00a6a59f…</td><td>9598</td><td>1</td><td>1010</td><td>429</td><td>53</td><td>35</td><td>1010</td><td>429</td><td>53</td><td>35</td><td>0</td><td>295.0</td><td>1.0</td><td>1</td><td>1.0</td><td>1.0</td><td>1.0</td><td>1.0</td><td>10</td><td>35</td><td>53</td><td>466</td><td>0</td><td>0</td><td>1</td><td>1</td><td>1</td><td>0</td><td>52.679703</td><td>69.28917</td><td>29.0</td><td>87.9898</td><td>107.357445</td><td>52.0</td><td>48.576614</td><td>81.2795</td><td>24.0</td><td>125.02174</td><td>126.811775</td><td>100.0</td><td>48.576614</td><td>81.2795</td><td>24.0</td><td>111.65216</td><td>119.851654</td><td>83.0</td><td>242.3203</td><td>266.0</td><td>207.0102</td><td>243.0</td><td>169.97826</td><td>195.0</td><td>246.42339</td><td>271.0</td><td>183.34784</td><td>212.0</td></tr><tr><td>&quot;fc87685e60da66…</td><td>10023</td><td>1</td><td>7889</td><td>520</td><td>50</td><td>18</td><td>7889</td><td>520</td><td>50</td><td>18</td><td>0</td><td>87.85493</td><td>1.0</td><td>0</td><td>1.0</td><td>1.0</td><td>1.0</td><td>1.0</td><td>3</td><td>18</td><td>50</td><td>438</td><td>1</td><td>0</td><td>0</td><td>1</td><td>1</td><td>0</td><td>107.705414</td><td>119.32106</td><td>78.0</td><td>87.9898</td><td>107.357445</td><td>52.0</td><td>48.576614</td><td>81.2795</td><td>24.0</td><td>125.02174</td><td>126.811775</td><td>100.0</td><td>48.576614</td><td>81.2795</td><td>24.0</td><td>111.65216</td><td>119.851654</td><td>83.0</td><td>-19.850485</td><td>9.85493</td><td>-0.134873</td><td>35.85493</td><td>-37.166813</td><td>-12.14507</td><td>39.278316</td><td>63.85493</td><td>-23.797228</td><td>4.8549294</td></tr><tr><td>&quot;fd0f4a28f61502…</td><td>8945</td><td>1</td><td>11136</td><td>226</td><td>74</td><td>2</td><td>11136</td><td>226</td><td>74</td><td>2</td><td>0</td><td>168.0</td><td>1.0</td><td>0</td><td>1.0</td><td>1.0</td><td>1.0</td><td>1.0</td><td>11</td><td>2</td><td>74</td><td>226</td><td>0</td><td>0</td><td>0</td><td>1</td><td>1</td><td>0</td><td>107.705414</td><td>119.32106</td><td>78.0</td><td>87.9898</td><td>107.357445</td><td>52.0</td><td>48.576614</td><td>81.2795</td><td>24.0</td><td>125.02174</td><td>126.811775</td><td>100.0</td><td>48.576614</td><td>81.2795</td><td>24.0</td><td>111.65216</td><td>119.851654</td><td>83.0</td><td>60.294586</td><td>90.0</td><td>80.0102</td><td>116.0</td><td>42.978256</td><td>68.0</td><td>119.423386</td><td>144.0</td><td>56.347843</td><td>85.0</td></tr><tr><td>&quot;fd269aedf8d623…</td><td>3125</td><td>1</td><td>7176</td><td>187</td><td>99</td><td>2</td><td>7176</td><td>187</td><td>99</td><td>2</td><td>0</td><td>41.0</td><td>1.0</td><td>0</td><td>1.0</td><td>1.0</td><td>1.0</td><td>1.0</td><td>11</td><td>2</td><td>99</td><td>187</td><td>0</td><td>0</td><td>0</td><td>1</td><td>1</td><td>0</td><td>107.705414</td><td>119.32106</td><td>78.0</td><td>87.9898</td><td>107.357445</td><td>52.0</td><td>48.576614</td><td>81.2795</td><td>24.0</td><td>125.02174</td><td>126.811775</td><td>100.0</td><td>48.576614</td><td>81.2795</td><td>24.0</td><td>111.65216</td><td>119.851654</td><td>83.0</td><td>-66.705414</td><td>-37.0</td><td>-46.989803</td><td>-11.0</td><td>-84.02174</td><td>-59.0</td><td>-7.576613</td><td>17.0</td><td>-70.65216</td><td>-42.0</td></tr><tr><td>&quot;fddb29a28f459c…</td><td>2453</td><td>1</td><td>12853</td><td>389</td><td>45</td><td>38</td><td>12853</td><td>389</td><td>45</td><td>38</td><td>0</td><td>200.0</td><td>1.0</td><td>0</td><td>1.0</td><td>1.0</td><td>1.0</td><td>1.0</td><td>8</td><td>38</td><td>45</td><td>389</td><td>0</td><td>1</td><td>0</td><td>1</td><td>1</td><td>0</td><td>107.705414</td><td>119.32106</td><td>78.0</td><td>87.9898</td><td>107.357445</td><td>52.0</td><td>48.576614</td><td>81.2795</td><td>24.0</td><td>125.02174</td><td>126.811775</td><td>100.0</td><td>48.576614</td><td>81.2795</td><td>24.0</td><td>111.65216</td><td>119.851654</td><td>83.0</td><td>92.294586</td><td>122.0</td><td>112.0102</td><td>148.0</td><td>74.97826</td><td>100.0</td><td>151.42339</td><td>176.0</td><td>88.34784</td><td>117.0</td></tr><tr><td>&quot;fe6996a02fe34d…</td><td>2374</td><td>1</td><td>5681</td><td>502</td><td>251</td><td>5</td><td>5681</td><td>502</td><td>251</td><td>5</td><td>0</td><td>65.0</td><td>1.0</td><td>0</td><td>1.0</td><td>1.0</td><td>1.0</td><td>1.0</td><td>3</td><td>5</td><td>251</td><td>356</td><td>0</td><td>0</td><td>0</td><td>1</td><td>1</td><td>0</td><td>107.705414</td><td>119.32106</td><td>78.0</td><td>87.9898</td><td>107.357445</td><td>52.0</td><td>48.576614</td><td>81.2795</td><td>24.0</td><td>125.02174</td><td>126.811775</td><td>100.0</td><td>48.576614</td><td>81.2795</td><td>24.0</td><td>111.65216</td><td>119.851654</td><td>83.0</td><td>-42.705414</td><td>-13.0</td><td>-22.989801</td><td>13.0</td><td>-60.021744</td><td>-35.0</td><td>16.423388</td><td>41.0</td><td>-46.652157</td><td>-18.0</td></tr><tr><td>&quot;fedefa54c07de6…</td><td>9554</td><td>1</td><td>7754</td><td>389</td><td>45</td><td>38</td><td>7754</td><td>389</td><td>45</td><td>38</td><td>0</td><td>282.0</td><td>1.0</td><td>0</td><td>1.0</td><td>1.0</td><td>1.0</td><td>1.0</td><td>8</td><td>38</td><td>45</td><td>389</td><td>0</td><td>0</td><td>0</td><td>1</td><td>1</td><td>0</td><td>107.705414</td><td>119.32106</td><td>78.0</td><td>87.9898</td><td>107.357445</td><td>52.0</td><td>48.576614</td><td>81.2795</td><td>24.0</td><td>125.02174</td><td>126.811775</td><td>100.0</td><td>48.576614</td><td>81.2795</td><td>24.0</td><td>111.65216</td><td>119.851654</td><td>83.0</td><td>174.29459</td><td>204.0</td><td>194.0102</td><td>230.0</td><td>156.97826</td><td>182.0</td><td>233.42339</td><td>258.0</td><td>170.34784</td><td>199.0</td></tr><tr><td>&quot;ff9e29a31b40d3…</td><td>8225</td><td>1</td><td>2570</td><td>271</td><td>173</td><td>4</td><td>2570</td><td>271</td><td>173</td><td>4</td><td>0</td><td>87.85493</td><td>1.0</td><td>0</td><td>1.0</td><td>1.0</td><td>1.0</td><td>1.0</td><td>6</td><td>4</td><td>173</td><td>271</td><td>1</td><td>0</td><td>0</td><td>1</td><td>1</td><td>0</td><td>107.705414</td><td>119.32106</td><td>78.0</td><td>87.9898</td><td>107.357445</td><td>52.0</td><td>48.576614</td><td>81.2795</td><td>24.0</td><td>125.02174</td><td>126.811775</td><td>100.0</td><td>48.576614</td><td>81.2795</td><td>24.0</td><td>111.65216</td><td>119.851654</td><td>83.0</td><td>-19.850485</td><td>9.85493</td><td>-0.134873</td><td>35.85493</td><td>-37.166813</td><td>-12.14507</td><td>39.278316</td><td>63.85493</td><td>-23.797228</td><td>4.8549294</td></tr><tr><td>&quot;ffbe09fee3dd8e…</td><td>652</td><td>1</td><td>1298</td><td>77</td><td>233</td><td>20</td><td>1298</td><td>77</td><td>233</td><td>20</td><td>0</td><td>14.0</td><td>1.0</td><td>1</td><td>1.0</td><td>1.0</td><td>1.0</td><td>1.0</td><td>10</td><td>20</td><td>233</td><td>77</td><td>0</td><td>1</td><td>1</td><td>1</td><td>1</td><td>1</td><td>52.679703</td><td>69.28917</td><td>29.0</td><td>87.9898</td><td>107.357445</td><td>52.0</td><td>48.576614</td><td>81.2795</td><td>24.0</td><td>125.02174</td><td>126.811775</td><td>100.0</td><td>48.576614</td><td>81.2795</td><td>24.0</td><td>111.65216</td><td>119.851654</td><td>83.0</td><td>-38.679703</td><td>-15.0</td><td>-73.9898</td><td>-38.0</td><td>-111.02174</td><td>-86.0</td><td>-34.576614</td><td>-10.0</td><td>-97.65216</td><td>-69.0</td></tr></tbody></table></div>"
      ],
      "text/plain": [
       "shape: (15_199_717, 57)\n",
       "┌────────────┬────────┬────────────┬───────────┬───┬───────────┬───────────┬───────────┬───────────┐\n",
       "│ session_id ┆ yad_no ┆ session_le ┆ last_seen ┆ … ┆ diff_raw_ ┆ diff_raw_ ┆ diff_raw_ ┆ diff_raw_ │\n",
       "│ ---        ┆ ---    ┆ ngth       ┆ _yad_no   ┆   ┆ mean_tota ┆ median_to ┆ mean_tota ┆ median_to │\n",
       "│ str        ┆ i64    ┆ ---        ┆ ---       ┆   ┆ l_room_cn ┆ tal_room_ ┆ l_room_cn ┆ tal_room_ │\n",
       "│            ┆        ┆ i64        ┆ i64       ┆   ┆ t_wit…    ┆ cnt_w…    ┆ t_wit…    ┆ cnt_w…    │\n",
       "│            ┆        ┆            ┆           ┆   ┆ ---       ┆ ---       ┆ ---       ┆ ---       │\n",
       "│            ┆        ┆            ┆           ┆   ┆ f64       ┆ f64       ┆ f64       ┆ f64       │\n",
       "╞════════════╪════════╪════════════╪═══════════╪═══╪═══════════╪═══════════╪═══════════╪═══════════╡\n",
       "│ a9938be796 ┆ 10827  ┆ 2          ┆ 12350     ┆ … ┆ 505.4234  ┆ 530.0     ┆ 442.34784 ┆ 471.0     │\n",
       "│ e18530d36b ┆        ┆            ┆           ┆   ┆           ┆           ┆           ┆           │\n",
       "│ 0190d5160a ┆        ┆            ┆           ┆   ┆           ┆           ┆           ┆           │\n",
       "│ b6         ┆        ┆            ┆           ┆   ┆           ┆           ┆           ┆           │\n",
       "│ f41fd82e8a ┆ 5116   ┆ 1          ┆ 10984     ┆ … ┆ 281.4234  ┆ 306.0     ┆ 218.34784 ┆ 247.0     │\n",
       "│ 0e670a69f0 ┆        ┆            ┆           ┆   ┆           ┆           ┆           ┆           │\n",
       "│ e637c5ccc1 ┆        ┆            ┆           ┆   ┆           ┆           ┆           ┆           │\n",
       "│ ce         ┆        ┆            ┆           ┆   ┆           ┆           ┆           ┆           │\n",
       "│ dfb8152e2f ┆ 1818   ┆ 1          ┆ 13387     ┆ … ┆ 990.4234  ┆ 1015.0    ┆ 927.34784 ┆ 956.0     │\n",
       "│ 801eac5ea9 ┆        ┆            ┆           ┆   ┆           ┆           ┆           ┆           │\n",
       "│ 4d92b0e9d0 ┆        ┆            ┆           ┆   ┆           ┆           ┆           ┆           │\n",
       "│ 5a         ┆        ┆            ┆           ┆   ┆           ┆           ┆           ┆           │\n",
       "│ 4106b67363 ┆ 4913   ┆ 3          ┆ 12017     ┆ … ┆ 534.4234  ┆ 559.0     ┆ 471.34784 ┆ 500.0     │\n",
       "│ 5f31218150 ┆        ┆            ┆           ┆   ┆           ┆           ┆           ┆           │\n",
       "│ 3215b1ff38 ┆        ┆            ┆           ┆   ┆           ┆           ┆           ┆           │\n",
       "│ 77         ┆        ┆            ┆           ┆   ┆           ┆           ┆           ┆           │\n",
       "│ …          ┆ …      ┆ …          ┆ …         ┆ … ┆ …         ┆ …         ┆ …         ┆ …         │\n",
       "│ fe6996a02f ┆ 2374   ┆ 1          ┆ 5681      ┆ … ┆ 16.423388 ┆ 41.0      ┆ -46.65215 ┆ -18.0     │\n",
       "│ e34d81e2a2 ┆        ┆            ┆           ┆   ┆           ┆           ┆ 7         ┆           │\n",
       "│ 21500bc7d6 ┆        ┆            ┆           ┆   ┆           ┆           ┆           ┆           │\n",
       "│ 25         ┆        ┆            ┆           ┆   ┆           ┆           ┆           ┆           │\n",
       "│ fedefa54c0 ┆ 9554   ┆ 1          ┆ 7754      ┆ … ┆ 233.42339 ┆ 258.0     ┆ 170.34784 ┆ 199.0     │\n",
       "│ 7de650f9c8 ┆        ┆            ┆           ┆   ┆           ┆           ┆           ┆           │\n",
       "│ 5836a042dc ┆        ┆            ┆           ┆   ┆           ┆           ┆           ┆           │\n",
       "│ 6b         ┆        ┆            ┆           ┆   ┆           ┆           ┆           ┆           │\n",
       "│ ff9e29a31b ┆ 8225   ┆ 1          ┆ 2570      ┆ … ┆ 39.278316 ┆ 63.85493  ┆ -23.79722 ┆ 4.8549294 │\n",
       "│ 40d3ec7555 ┆        ┆            ┆           ┆   ┆           ┆           ┆ 8         ┆           │\n",
       "│ 973c002ebe ┆        ┆            ┆           ┆   ┆           ┆           ┆           ┆           │\n",
       "│ e8         ┆        ┆            ┆           ┆   ┆           ┆           ┆           ┆           │\n",
       "│ ffbe09fee3 ┆ 652    ┆ 1          ┆ 1298      ┆ … ┆ -34.57661 ┆ -10.0     ┆ -97.65216 ┆ -69.0     │\n",
       "│ dd8e08324d ┆        ┆            ┆           ┆   ┆ 4         ┆           ┆           ┆           │\n",
       "│ 3801559f60 ┆        ┆            ┆           ┆   ┆           ┆           ┆           ┆           │\n",
       "│ 88         ┆        ┆            ┆           ┆   ┆           ┆           ┆           ┆           │\n",
       "└────────────┴────────┴────────────┴───────────┴───┴───────────┴───────────┴───────────┴───────────┘"
      ]
     },
     "execution_count": 4,
     "metadata": {},
     "output_type": "execute_result"
    }
   ],
   "source": [
    "import polars as pl\n",
    "\n",
    "from src import constants\n",
    "\n",
    "dataset = pl.scan_csv(constants.OUTPUT_DIR / \"dataset.csv\").collect()\n",
    "dataset"
   ]
  },
  {
   "cell_type": "code",
   "execution_count": 5,
   "metadata": {},
   "outputs": [
    {
     "data": {
      "text/plain": [
       "57739"
      ]
     },
     "execution_count": 5,
     "metadata": {},
     "output_type": "execute_result"
    }
   ],
   "source": [
    "dataset.group_by(\"session_id\").first().shape[0]"
   ]
  },
  {
   "cell_type": "code",
   "execution_count": 2,
   "metadata": {},
   "outputs": [
    {
     "data": {
      "text/html": [
       "<div><style>\n",
       ".dataframe > thead > tr,\n",
       ".dataframe > tbody > tr {\n",
       "  text-align: right;\n",
       "  white-space: pre-wrap;\n",
       "}\n",
       "</style>\n",
       "<small>shape: (577_390, 3)</small><table border=\"1\" class=\"dataframe\"><thead><tr><th>session_id</th><th>yad_no</th><th>predict</th></tr><tr><td>str</td><td>i64</td><td>i64</td></tr></thead><tbody><tr><td>&quot;8e42cdceb3d609…</td><td>5149</td><td>4215</td></tr><tr><td>&quot;8e42cdceb3d609…</td><td>5149</td><td>5149</td></tr><tr><td>&quot;8e42cdceb3d609…</td><td>5149</td><td>10554</td></tr><tr><td>&quot;8e42cdceb3d609…</td><td>5149</td><td>8262</td></tr><tr><td>&quot;8e42cdceb3d609…</td><td>5149</td><td>10720</td></tr><tr><td>&quot;8e42cdceb3d609…</td><td>5149</td><td>11671</td></tr><tr><td>&quot;8e42cdceb3d609…</td><td>5149</td><td>3624</td></tr><tr><td>&quot;8e42cdceb3d609…</td><td>5149</td><td>13308</td></tr><tr><td>&quot;8e42cdceb3d609…</td><td>5149</td><td>11211</td></tr><tr><td>&quot;8e42cdceb3d609…</td><td>5149</td><td>11660</td></tr><tr><td>&quot;400ea726e65aa9…</td><td>3200</td><td>3200</td></tr><tr><td>&quot;400ea726e65aa9…</td><td>3200</td><td>2923</td></tr><tr><td>&hellip;</td><td>&hellip;</td><td>&hellip;</td></tr><tr><td>&quot;295e45525eb648…</td><td>6558</td><td>12750</td></tr><tr><td>&quot;295e45525eb648…</td><td>6558</td><td>1302</td></tr><tr><td>&quot;a906f35fa0ff11…</td><td>10161</td><td>10161</td></tr><tr><td>&quot;a906f35fa0ff11…</td><td>10161</td><td>8855</td></tr><tr><td>&quot;a906f35fa0ff11…</td><td>10161</td><td>279</td></tr><tr><td>&quot;a906f35fa0ff11…</td><td>10161</td><td>1031</td></tr><tr><td>&quot;a906f35fa0ff11…</td><td>10161</td><td>2094</td></tr><tr><td>&quot;a906f35fa0ff11…</td><td>10161</td><td>12269</td></tr><tr><td>&quot;a906f35fa0ff11…</td><td>10161</td><td>7658</td></tr><tr><td>&quot;a906f35fa0ff11…</td><td>10161</td><td>3908</td></tr><tr><td>&quot;a906f35fa0ff11…</td><td>10161</td><td>10598</td></tr><tr><td>&quot;a906f35fa0ff11…</td><td>10161</td><td>6869</td></tr></tbody></table></div>"
      ],
      "text/plain": [
       "shape: (577_390, 3)\n",
       "┌──────────────────────────────────┬────────┬─────────┐\n",
       "│ session_id                       ┆ yad_no ┆ predict │\n",
       "│ ---                              ┆ ---    ┆ ---     │\n",
       "│ str                              ┆ i64    ┆ i64     │\n",
       "╞══════════════════════════════════╪════════╪═════════╡\n",
       "│ 8e42cdceb3d609ea6a781192596d5b96 ┆ 5149   ┆ 4215    │\n",
       "│ 8e42cdceb3d609ea6a781192596d5b96 ┆ 5149   ┆ 5149    │\n",
       "│ 8e42cdceb3d609ea6a781192596d5b96 ┆ 5149   ┆ 10554   │\n",
       "│ 8e42cdceb3d609ea6a781192596d5b96 ┆ 5149   ┆ 8262    │\n",
       "│ …                                ┆ …      ┆ …       │\n",
       "│ a906f35fa0ff114b430724dc5d066ae6 ┆ 10161  ┆ 7658    │\n",
       "│ a906f35fa0ff114b430724dc5d066ae6 ┆ 10161  ┆ 3908    │\n",
       "│ a906f35fa0ff114b430724dc5d066ae6 ┆ 10161  ┆ 10598   │\n",
       "│ a906f35fa0ff114b430724dc5d066ae6 ┆ 10161  ┆ 6869    │\n",
       "└──────────────────────────────────┴────────┴─────────┘"
      ]
     },
     "execution_count": 2,
     "metadata": {},
     "output_type": "execute_result"
    }
   ],
   "source": [
    "preds = pl.scan_csv(constants.OUTPUT_DIR / \"exp000\" / \"cv_fold0.csv\").collect()\n",
    "preds"
   ]
  },
  {
   "cell_type": "code",
   "execution_count": 3,
   "metadata": {},
   "outputs": [
    {
     "name": "stdout",
     "output_type": "stream",
     "text": [
      "shape: (0, 3)\n",
      "┌────────────┬────────────┬─────────────┐\n",
      "│ session_id ┆ candidates ┆ predictions │\n",
      "│ ---        ┆ ---        ┆ ---         │\n",
      "│ str        ┆ list[str]  ┆ list[i64]   │\n",
      "╞════════════╪════════════╪═════════════╡\n",
      "└────────────┴────────────┴─────────────┘\n"
     ]
    },
    {
     "ename": "RuntimeError",
     "evalue": "BindingsError: \"Could not determine output type\"",
     "output_type": "error",
     "traceback": [
      "\u001b[0;31m---------------------------------------------------------------------------\u001b[0m",
      "\u001b[0;31mRuntimeError\u001b[0m                              Traceback (most recent call last)",
      "\u001b[0;32m/tmp/ipykernel_1305415/2082995980.py\u001b[0m in \u001b[0;36m?\u001b[0;34m()\u001b[0m\n\u001b[1;32m      7\u001b[0m \u001b[0;34m\u001b[0m\u001b[0m\n\u001b[1;32m      8\u001b[0m \u001b[0;32mdef\u001b[0m \u001b[0mhas_intersection\u001b[0m\u001b[0;34m(\u001b[0m\u001b[0ma\u001b[0m\u001b[0;34m,\u001b[0m \u001b[0mb\u001b[0m\u001b[0;34m)\u001b[0m\u001b[0;34m:\u001b[0m\u001b[0;34m\u001b[0m\u001b[0;34m\u001b[0m\u001b[0m\n\u001b[1;32m      9\u001b[0m     \u001b[0;32mreturn\u001b[0m \u001b[0mlen\u001b[0m\u001b[0;34m(\u001b[0m\u001b[0mintersection\u001b[0m\u001b[0;34m(\u001b[0m\u001b[0ma\u001b[0m\u001b[0;34m,\u001b[0m \u001b[0mb\u001b[0m\u001b[0;34m)\u001b[0m\u001b[0;34m)\u001b[0m \u001b[0;34m>\u001b[0m \u001b[0;36m0\u001b[0m\u001b[0;34m\u001b[0m\u001b[0;34m\u001b[0m\u001b[0m\n\u001b[1;32m     10\u001b[0m \u001b[0;34m\u001b[0m\u001b[0m\n\u001b[0;32m---> 11\u001b[0;31m \u001b[0m_ds\u001b[0m \u001b[0;34m=\u001b[0m \u001b[0mds\u001b[0m\u001b[0;34m.\u001b[0m\u001b[0mmap_rows\u001b[0m\u001b[0;34m(\u001b[0m\u001b[0;32mlambda\u001b[0m \u001b[0mrow\u001b[0m\u001b[0;34m:\u001b[0m \u001b[0mhas_intersection\u001b[0m\u001b[0;34m(\u001b[0m\u001b[0mrow\u001b[0m\u001b[0;34m[\u001b[0m\u001b[0;36m1\u001b[0m\u001b[0;34m]\u001b[0m\u001b[0;34m,\u001b[0m \u001b[0mrow\u001b[0m\u001b[0;34m[\u001b[0m\u001b[0;36m2\u001b[0m\u001b[0;34m]\u001b[0m\u001b[0;34m)\u001b[0m\u001b[0;34m)\u001b[0m\u001b[0;34m\u001b[0m\u001b[0;34m\u001b[0m\u001b[0m\n\u001b[0m\u001b[1;32m     12\u001b[0m \u001b[0mprint\u001b[0m\u001b[0;34m(\u001b[0m\u001b[0m_ds\u001b[0m\u001b[0;34m.\u001b[0m\u001b[0mfilter\u001b[0m\u001b[0;34m(\u001b[0m\u001b[0mpl\u001b[0m\u001b[0;34m.\u001b[0m\u001b[0mcol\u001b[0m\u001b[0;34m(\u001b[0m\u001b[0;34m\"map\"\u001b[0m\u001b[0;34m)\u001b[0m \u001b[0;34m==\u001b[0m \u001b[0;32mTrue\u001b[0m\u001b[0;34m)\u001b[0m\u001b[0;34m.\u001b[0m\u001b[0mshape\u001b[0m\u001b[0;34m[\u001b[0m\u001b[0;36m0\u001b[0m\u001b[0;34m]\u001b[0m \u001b[0;34m/\u001b[0m \u001b[0m_ds\u001b[0m\u001b[0;34m.\u001b[0m\u001b[0mshape\u001b[0m\u001b[0;34m[\u001b[0m\u001b[0;36m0\u001b[0m\u001b[0;34m]\u001b[0m\u001b[0;34m)\u001b[0m\u001b[0;34m\u001b[0m\u001b[0;34m\u001b[0m\u001b[0m\n",
      "\u001b[0;32m/workspace/working/.venv/lib/python3.10/site-packages/polars/dataframe/frame.py\u001b[0m in \u001b[0;36m?\u001b[0;34m(self, function, return_dtype, inference_size)\u001b[0m\n\u001b[1;32m   6235\u001b[0m         \u001b[0;31m# TODO: Enable warning for inefficient map\u001b[0m\u001b[0;34m\u001b[0m\u001b[0;34m\u001b[0m\u001b[0m\n\u001b[1;32m   6236\u001b[0m         \u001b[0;31m# from polars.utils.udfs import warn_on_inefficient_map\u001b[0m\u001b[0;34m\u001b[0m\u001b[0;34m\u001b[0m\u001b[0m\n\u001b[1;32m   6237\u001b[0m         \u001b[0;31m# warn_on_inefficient_map(function, columns=self.columns, map_target=\"frame)\u001b[0m\u001b[0;34m\u001b[0m\u001b[0;34m\u001b[0m\u001b[0m\n\u001b[1;32m   6238\u001b[0m \u001b[0;34m\u001b[0m\u001b[0m\n\u001b[0;32m-> 6239\u001b[0;31m         \u001b[0mout\u001b[0m\u001b[0;34m,\u001b[0m \u001b[0mis_df\u001b[0m \u001b[0;34m=\u001b[0m \u001b[0mself\u001b[0m\u001b[0;34m.\u001b[0m\u001b[0m_df\u001b[0m\u001b[0;34m.\u001b[0m\u001b[0mmap_rows\u001b[0m\u001b[0;34m(\u001b[0m\u001b[0mfunction\u001b[0m\u001b[0;34m,\u001b[0m \u001b[0mreturn_dtype\u001b[0m\u001b[0;34m,\u001b[0m \u001b[0minference_size\u001b[0m\u001b[0;34m)\u001b[0m\u001b[0;34m\u001b[0m\u001b[0;34m\u001b[0m\u001b[0m\n\u001b[0m\u001b[1;32m   6240\u001b[0m         \u001b[0;32mif\u001b[0m \u001b[0mis_df\u001b[0m\u001b[0;34m:\u001b[0m\u001b[0;34m\u001b[0m\u001b[0;34m\u001b[0m\u001b[0m\n\u001b[1;32m   6241\u001b[0m             \u001b[0;32mreturn\u001b[0m \u001b[0mself\u001b[0m\u001b[0;34m.\u001b[0m\u001b[0m_from_pydf\u001b[0m\u001b[0;34m(\u001b[0m\u001b[0mout\u001b[0m\u001b[0;34m)\u001b[0m\u001b[0;34m\u001b[0m\u001b[0;34m\u001b[0m\u001b[0m\n\u001b[1;32m   6242\u001b[0m         \u001b[0;32melse\u001b[0m\u001b[0;34m:\u001b[0m\u001b[0;34m\u001b[0m\u001b[0;34m\u001b[0m\u001b[0m\n",
      "\u001b[0;31mRuntimeError\u001b[0m: BindingsError: \"Could not determine output type\""
     ]
    }
   ],
   "source": [
    "ds = dataset.group_by(\"session_id\").agg(pl.col(\"yad_no\").alias(\"candidates\"))\n",
    "ds = ds.join(preds.group_by(\"session_id\").agg(pl.col(\"yad_no\").alias(\"predictions\")), on=\"session_id\")\n",
    "print(ds)\n",
    "\n",
    "def intersection(a, b):\n",
    "    return list(set(a) & set(b))\n",
    "\n",
    "def has_intersection(a, b):\n",
    "    return len(intersection(a, b)) > 0\n",
    "\n",
    "_ds = ds.map_rows(lambda row: has_intersection(row[1], row[2]))\n",
    "print(_ds.filter(pl.col(\"map\") == True).shape[0] / _ds.shape[0])"
   ]
  },
  {
   "cell_type": "code",
   "execution_count": null,
   "metadata": {},
   "outputs": [],
   "source": [
    "num_session_has_label_in_predict =(\n",
    "    preds\n",
    "    .group_by(\"session_id\")\n",
    "    .map_groups(\n",
    "        lambda group: group.with_columns(pl.arange(0, group.height).alias(\"seq_no\"))\n",
    "    )\n",
    ").filter(pl.col(\"yad_no\") == pl.col(\"predict\"))[\"session_id\"].n_unique()"
   ]
  },
  {
   "cell_type": "code",
   "execution_count": null,
   "metadata": {},
   "outputs": [
    {
     "data": {
      "text/plain": [
       "0.477753338298204"
      ]
     },
     "execution_count": 17,
     "metadata": {},
     "output_type": "execute_result"
    }
   ],
   "source": [
    "num_session_has_label_in_predict / preds[\"session_id\"].n_unique()"
   ]
  },
  {
   "cell_type": "code",
   "execution_count": null,
   "metadata": {},
   "outputs": [],
   "source": []
  },
  {
   "cell_type": "code",
   "execution_count": null,
   "metadata": {},
   "outputs": [
    {
     "data": {
      "text/plain": [
       "['8e74132684c7b9a55b2769c454ca082c',\n",
       " '3eb36287a40827ccb59e89067c71d30e',\n",
       " 'f9eff605f0b1b0acdb6c4b98dd83b1b8']"
      ]
     },
     "execution_count": 3,
     "metadata": {},
     "output_type": "execute_result"
    }
   ],
   "source": [
    "preds[\"session_id\"].unique().to_list()[:3]"
   ]
  },
  {
   "cell_type": "code",
   "execution_count": null,
   "metadata": {},
   "outputs": [
    {
     "data": {
      "text/html": [
       "<div><style>\n",
       ".dataframe > thead > tr,\n",
       ".dataframe > tbody > tr {\n",
       "  text-align: right;\n",
       "  white-space: pre-wrap;\n",
       "}\n",
       "</style>\n",
       "<small>shape: (288_698, 2)</small><table border=\"1\" class=\"dataframe\"><thead><tr><th>session_id</th><th>yad_no</th></tr><tr><td>str</td><td>i64</td></tr></thead><tbody><tr><td>&quot;000007603d533d…</td><td>4101</td></tr><tr><td>&quot;0000ca043ed437…</td><td>8253</td></tr><tr><td>&quot;0000d4835cf113…</td><td>4863</td></tr><tr><td>&quot;0000fcda1ae1b2…</td><td>1652</td></tr><tr><td>&quot;000104bdffaaad…</td><td>96</td></tr><tr><td>&quot;00011afe25c343…</td><td>4823</td></tr><tr><td>&quot;000125c737df18…</td><td>10378</td></tr><tr><td>&quot;0001763050a10b…</td><td>10362</td></tr><tr><td>&quot;000178c4d4d567…</td><td>1227</td></tr><tr><td>&quot;0001e6a407a85d…</td><td>175</td></tr><tr><td>&quot;0002499cf2713a…</td><td>1209</td></tr><tr><td>&quot;00026fd325b5d6…</td><td>756</td></tr><tr><td>&hellip;</td><td>&hellip;</td></tr><tr><td>&quot;fffd8c4fa7b5be…</td><td>5209</td></tr><tr><td>&quot;fffe2d9e5982f5…</td><td>4885</td></tr><tr><td>&quot;fffe3dedeb89ae…</td><td>11714</td></tr><tr><td>&quot;fffe40478b2163…</td><td>1882</td></tr><tr><td>&quot;fffe78a078a176…</td><td>4906</td></tr><tr><td>&quot;fffe8a472ae6a9…</td><td>4353</td></tr><tr><td>&quot;fffe8c99c5b332…</td><td>6170</td></tr><tr><td>&quot;ffff2262d38abd…</td><td>2259</td></tr><tr><td>&quot;ffff2360540745…</td><td>963</td></tr><tr><td>&quot;ffff7fb4617164…</td><td>13719</td></tr><tr><td>&quot;ffffcd5bc19d62…</td><td>10619</td></tr><tr><td>&quot;fffffa7baf3700…</td><td>2439</td></tr></tbody></table></div>"
      ],
      "text/plain": [
       "shape: (288_698, 2)\n",
       "┌──────────────────────────────────┬────────┐\n",
       "│ session_id                       ┆ yad_no │\n",
       "│ ---                              ┆ ---    │\n",
       "│ str                              ┆ i64    │\n",
       "╞══════════════════════════════════╪════════╡\n",
       "│ 000007603d533d30453cc45d0f3d119f ┆ 4101   │\n",
       "│ 0000ca043ed437a1472c9d1d154eb49b ┆ 8253   │\n",
       "│ 0000d4835cf113316fe447e2f80ba1c8 ┆ 4863   │\n",
       "│ 0000fcda1ae1b2f431e55a7075d1f500 ┆ 1652   │\n",
       "│ …                                ┆ …      │\n",
       "│ ffff2360540745117193ecadcdc06538 ┆ 963    │\n",
       "│ ffff7fb4617164b2604aaf51c40bf82d ┆ 13719  │\n",
       "│ ffffcd5bc19d62cad5a3815c87818d83 ┆ 10619  │\n",
       "│ fffffa7baf370083ebcdd98f26a7e31a ┆ 2439   │\n",
       "└──────────────────────────────────┴────────┘"
      ]
     },
     "execution_count": 4,
     "metadata": {},
     "output_type": "execute_result"
    }
   ],
   "source": [
    "train_label_df = pl.scan_csv(constants.INPUT_DIR / \"train_label.csv\").collect()\n",
    "train_label_df"
   ]
  },
  {
   "cell_type": "code",
   "execution_count": null,
   "metadata": {},
   "outputs": [
    {
     "name": "stdout",
     "output_type": "stream",
     "text": [
      "187cbc12d251ad3360f717c1cba7f1f2\n",
      "DS:  shape: (0, 40)\n",
      "┌────────────┬────────┬────────────┬──────────┬───┬────────────┬───────────┬───────────┬───────────┐\n",
      "│ session_id ┆ yad_no ┆ session_le ┆ yad_type ┆ … ┆ mean_total ┆ std_total ┆ median_to ┆ diff_tota │\n",
      "│ ---        ┆ ---    ┆ ngth       ┆ ---      ┆   ┆ _room_cnt_ ┆ _room_cnt ┆ tal_room_ ┆ l_room_cn │\n",
      "│ str        ┆ i64    ┆ ---        ┆ i64      ┆   ┆ with_kd_co ┆ _with_kd_ ┆ cnt_with_ ┆ t_with_on │\n",
      "│            ┆        ┆ i64        ┆          ┆   ┆ nv…        ┆ conv_…    ┆ kd_co…    ┆ sen_f…    │\n",
      "│            ┆        ┆            ┆          ┆   ┆ ---        ┆ ---       ┆ ---       ┆ ---       │\n",
      "│            ┆        ┆            ┆          ┆   ┆ f64        ┆ f64       ┆ f64       ┆ f64       │\n",
      "╞════════════╪════════╪════════════╪══════════╪═══╪════════════╪═══════════╪═══════════╪═══════════╡\n",
      "└────────────┴────────┴────────────┴──────────┴───┴────────────┴───────────┴───────────┴───────────┘\n",
      "PREDS:  shape: (0, 3)\n",
      "┌────────────┬────────┬─────────┐\n",
      "│ session_id ┆ yad_no ┆ predict │\n",
      "│ ---        ┆ ---    ┆ ---     │\n",
      "│ str        ┆ i64    ┆ i64     │\n",
      "╞════════════╪════════╪═════════╡\n",
      "└────────────┴────────┴─────────┘\n",
      "YAD CANDIDATES:  []\n",
      "PREDS:  []\n",
      "LABEL:  2570\n",
      "Label in candidates:  False\n",
      "\n"
     ]
    }
   ],
   "source": [
    "see_targets = [\n",
    "    \"187cbc12d251ad3360f717c1cba7f1f2\"\n",
    "]\n",
    "for target in see_targets:\n",
    "    print(target)\n",
    "    ds_this_target = dataset.filter(pl.col(\"session_id\") == target)\n",
    "    preds_this_target = preds.filter(pl.col(\"session_id\") == target)\n",
    "    print(\"DS: \", ds_this_target)\n",
    "    print(\"PREDS: \", preds_this_target)\n",
    "    yad_candidates = ds_this_target[\"yad_no\"].to_list()\n",
    "    pred = preds_this_target[\"predict\"].to_list()\n",
    "    label = train_label_df.filter(pl.col(\"session_id\") == target)[\"yad_no\"].to_list()[0]\n",
    "    print(\"YAD CANDIDATES: \", yad_candidates)\n",
    "    print(\"PREDS: \", pred)\n",
    "    print(\"LABEL: \", label)\n",
    "    print(\"Label in candidates: \", label in yad_candidates)\n",
    "    print(\"\")"
   ]
  },
  {
   "cell_type": "code",
   "execution_count": null,
   "metadata": {},
   "outputs": [
    {
     "ename": "Exception",
     "evalue": "",
     "output_type": "error",
     "traceback": [
      "\u001b[0;31m---------------------------------------------------------------------------\u001b[0m",
      "\u001b[0;31mException\u001b[0m                                 Traceback (most recent call last)",
      "Cell \u001b[0;32mIn[6], line 1\u001b[0m\n\u001b[0;32m----> 1\u001b[0m \u001b[38;5;28;01mraise\u001b[39;00m \u001b[38;5;167;01mException\u001b[39;00m()\n\u001b[1;32m      3\u001b[0m \u001b[38;5;28;01mfrom\u001b[39;00m \u001b[38;5;21;01mtqdm\u001b[39;00m\u001b[38;5;21;01m.\u001b[39;00m\u001b[38;5;21;01mauto\u001b[39;00m \u001b[38;5;28;01mimport\u001b[39;00m tqdm\n\u001b[1;32m      5\u001b[0m label_in_candidates \u001b[38;5;241m=\u001b[39m \u001b[38;5;241m0\u001b[39m\n",
      "\u001b[0;31mException\u001b[0m: "
     ]
    }
   ],
   "source": [
    "raise Exception()\n",
    "\n",
    "from tqdm.auto import tqdm\n",
    "\n",
    "label_in_candidates = 0\n",
    "unique_session = dataset[\"session_id\"].unique().to_list()\n",
    "for target in tqdm(unique_session, total=len(unique_session)):\n",
    "    ds_this_target = dataset.filter(pl.col(\"session_id\") == target)\n",
    "    preds_this_target = preds.filter(pl.col(\"session_id\") == target)\n",
    "    yad_candidates = ds_this_target[\"yad_no\"].to_list()\n",
    "    pred = preds_this_target[\"predict\"].to_list()\n",
    "    label = train_label_df.filter(pl.col(\"session_id\") == target)[\"yad_no\"].to_list()[0]\n",
    "    if label in yad_candidates:\n",
    "        label_in_candidates += 1\n",
    "\n",
    "print(label_in_candidates / len(dataset[\"session_id\"].unique().to_list()))"
   ]
  }
 ],
 "metadata": {
  "kernelspec": {
   "display_name": ".venv",
   "language": "python",
   "name": "python3"
  },
  "language_info": {
   "codemirror_mode": {
    "name": "ipython",
    "version": 3
   },
   "file_extension": ".py",
   "mimetype": "text/x-python",
   "name": "python",
   "nbconvert_exporter": "python",
   "pygments_lexer": "ipython3",
   "version": "3.10.13"
  }
 },
 "nbformat": 4,
 "nbformat_minor": 2
}
