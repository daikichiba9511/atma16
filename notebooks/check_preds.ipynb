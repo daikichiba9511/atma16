{
 "cells": [
  {
   "cell_type": "code",
   "execution_count": 1,
   "metadata": {},
   "outputs": [
    {
     "data": {
      "text/html": [
       "<div><style>\n",
       ".dataframe > thead > tr,\n",
       ".dataframe > tbody > tr {\n",
       "  text-align: right;\n",
       "  white-space: pre-wrap;\n",
       "}\n",
       "</style>\n",
       "<small>shape: (8_160_235, 97)</small><table border=\"1\" class=\"dataframe\"><thead><tr><th>session_id</th><th>yad_no</th><th>session_length</th><th>last_seen_yad_no</th><th>last_seen_sml_cd_0</th><th>last_seen_lrg_cd_0</th><th>last_seen_ken_cd_0</th><th>first_seen_yad_no</th><th>first_seen_sml_cd_0</th><th>first_seen_lrg_cd_0</th><th>first_seen_ken_cd_0</th><th>yad_type</th><th>total_room_cnt</th><th>wireless_lan_flg</th><th>onsen_flg</th><th>kd_stn_5min</th><th>kd_bch_5min</th><th>kd_slp_5min</th><th>kd_conv_walk_5min</th><th>wid_cd</th><th>ken_cd</th><th>lrg_cd</th><th>sml_cd</th><th>total_room_cnt_null_flg</th><th>wireless_lan_flg_null_flg</th><th>kd_stn_5min_null_flg</th><th>kd_bch_5min_null_flg</th><th>kd_slp_5min_null_flg</th><th>kd_conv_walk_5min_null_flg</th><th>mean_total_room_cnt_with_onsen_flg</th><th>std_total_room_cnt_with_onsen_flg</th><th>median_total_room_cnt_with_onsen_flg</th><th>mean_total_room_cnt_with_yad_type</th><th>std_total_room_cnt_with_yad_type</th><th>median_total_room_cnt_with_yad_type</th><th>mean_total_room_cnt_with_kd_bch_5min</th><th>std_total_room_cnt_with_kd_bch_5min</th><th>&hellip;</th><th>top3_sml_cd_yad_no</th><th>top4_sml_cd_yad_no</th><th>top5_sml_cd_yad_no</th><th>top6_sml_cd_yad_no</th><th>top7_sml_cd_yad_no</th><th>top8_sml_cd_yad_no</th><th>top9_sml_cd_yad_no</th><th>top0_lrg_cd_yad_no</th><th>top1_lrg_cd_yad_no</th><th>top2_lrg_cd_yad_no</th><th>top3_lrg_cd_yad_no</th><th>top4_lrg_cd_yad_no</th><th>top5_lrg_cd_yad_no</th><th>top6_lrg_cd_yad_no</th><th>top7_lrg_cd_yad_no</th><th>top8_lrg_cd_yad_no</th><th>top9_lrg_cd_yad_no</th><th>top0_ken_cd_yad_no</th><th>top1_ken_cd_yad_no</th><th>top2_ken_cd_yad_no</th><th>top3_ken_cd_yad_no</th><th>top4_ken_cd_yad_no</th><th>top5_ken_cd_yad_no</th><th>top6_ken_cd_yad_no</th><th>top7_ken_cd_yad_no</th><th>top8_ken_cd_yad_no</th><th>top9_ken_cd_yad_no</th><th>top0_wid_cd_yad_no</th><th>top1_wid_cd_yad_no</th><th>top2_wid_cd_yad_no</th><th>top3_wid_cd_yad_no</th><th>top4_wid_cd_yad_no</th><th>top5_wid_cd_yad_no</th><th>top6_wid_cd_yad_no</th><th>top7_wid_cd_yad_no</th><th>top8_wid_cd_yad_no</th><th>top9_wid_cd_yad_no</th></tr><tr><td>str</td><td>i64</td><td>i64</td><td>i64</td><td>i64</td><td>i64</td><td>i64</td><td>i64</td><td>i64</td><td>i64</td><td>i64</td><td>i64</td><td>f64</td><td>f64</td><td>i64</td><td>f64</td><td>f64</td><td>f64</td><td>f64</td><td>i64</td><td>i64</td><td>i64</td><td>i64</td><td>i64</td><td>i64</td><td>i64</td><td>i64</td><td>i64</td><td>i64</td><td>f64</td><td>f64</td><td>f64</td><td>f64</td><td>f64</td><td>f64</td><td>f64</td><td>f64</td><td>&hellip;</td><td>i64</td><td>i64</td><td>i64</td><td>i64</td><td>i64</td><td>i64</td><td>i64</td><td>i64</td><td>i64</td><td>i64</td><td>i64</td><td>i64</td><td>i64</td><td>i64</td><td>i64</td><td>i64</td><td>i64</td><td>i64</td><td>i64</td><td>i64</td><td>i64</td><td>i64</td><td>i64</td><td>i64</td><td>i64</td><td>i64</td><td>i64</td><td>i64</td><td>i64</td><td>i64</td><td>i64</td><td>i64</td><td>i64</td><td>i64</td><td>i64</td><td>i64</td><td>i64</td></tr></thead><tbody><tr><td>&quot;85aeeda68256d0…</td><td>11037</td><td>3</td><td>7947</td><td>442</td><td>278</td><td>2</td><td>7947</td><td>442</td><td>278</td><td>2</td><td>0</td><td>603.0</td><td>1.0</td><td>0</td><td>1.0</td><td>1.0</td><td>1.0</td><td>1.0</td><td>3</td><td>41</td><td>180</td><td>191</td><td>0</td><td>0</td><td>0</td><td>1</td><td>1</td><td>0</td><td>107.705414</td><td>119.32106</td><td>78.0</td><td>87.9898</td><td>107.357445</td><td>52.0</td><td>48.576614</td><td>81.2795</td><td>&hellip;</td><td>12089</td><td>12986</td><td>10155</td><td>7379</td><td>12132</td><td>8468</td><td>6905</td><td>12425</td><td>6199</td><td>12240</td><td>11037</td><td>2087</td><td>12089</td><td>12986</td><td>10155</td><td>7379</td><td>12132</td><td>12425</td><td>6199</td><td>8445</td><td>12240</td><td>11037</td><td>9104</td><td>3077</td><td>2087</td><td>12089</td><td>12986</td><td>10095</td><td>3338</td><td>12350</td><td>8553</td><td>385</td><td>3848</td><td>13468</td><td>12785</td><td>13549</td><td>755</td></tr><tr><td>&quot;dd2bf842603d6c…</td><td>8567</td><td>1</td><td>12524</td><td>13</td><td>137</td><td>20</td><td>12524</td><td>13</td><td>137</td><td>20</td><td>0</td><td>641.0</td><td>1.0</td><td>1</td><td>1.0</td><td>1.0</td><td>1.0</td><td>1.0</td><td>11</td><td>2</td><td>278</td><td>442</td><td>0</td><td>0</td><td>0</td><td>1</td><td>1</td><td>0</td><td>52.679703</td><td>69.28917</td><td>29.0</td><td>87.9898</td><td>107.357445</td><td>52.0</td><td>48.576614</td><td>81.2795</td><td>&hellip;</td><td>5116</td><td>12017</td><td>6693</td><td>6470</td><td>2797</td><td>2160</td><td>2687</td><td>719</td><td>8567</td><td>2201</td><td>5116</td><td>12017</td><td>6693</td><td>6470</td><td>2797</td><td>1587</td><td>2160</td><td>13017</td><td>719</td><td>1818</td><td>8567</td><td>9971</td><td>2201</td><td>693</td><td>3988</td><td>6418</td><td>12619</td><td>13017</td><td>719</td><td>1818</td><td>8567</td><td>9971</td><td>2201</td><td>693</td><td>3988</td><td>1799</td><td>6418</td></tr><tr><td>&quot;89f36f3cadfe6a…</td><td>915</td><td>1</td><td>8170</td><td>11</td><td>290</td><td>41</td><td>8170</td><td>11</td><td>290</td><td>41</td><td>0</td><td>428.0</td><td>1.0</td><td>0</td><td>1.0</td><td>1.0</td><td>1.0</td><td>1.0</td><td>3</td><td>18</td><td>153</td><td>69</td><td>0</td><td>0</td><td>1</td><td>1</td><td>1</td><td>1</td><td>107.705414</td><td>119.32106</td><td>78.0</td><td>87.9898</td><td>107.357445</td><td>52.0</td><td>48.576614</td><td>81.2795</td><td>&hellip;</td><td>3848</td><td>13468</td><td>1091</td><td>532</td><td>915</td><td>4913</td><td>7093</td><td>10095</td><td>3338</td><td>12350</td><td>8553</td><td>3848</td><td>13468</td><td>1091</td><td>532</td><td>915</td><td>4913</td><td>10095</td><td>3338</td><td>12350</td><td>8553</td><td>3848</td><td>13468</td><td>1091</td><td>532</td><td>915</td><td>4913</td><td>10095</td><td>3338</td><td>12350</td><td>8553</td><td>385</td><td>3848</td><td>13468</td><td>12785</td><td>13549</td><td>755</td></tr><tr><td>&quot;6fa5d93c75be59…</td><td>6470</td><td>2</td><td>3848</td><td>69</td><td>153</td><td>18</td><td>3848</td><td>69</td><td>153</td><td>18</td><td>0</td><td>390.0</td><td>1.0</td><td>0</td><td>1.0</td><td>1.0</td><td>1.0</td><td>1.0</td><td>11</td><td>2</td><td>278</td><td>442</td><td>0</td><td>0</td><td>0</td><td>1</td><td>1</td><td>0</td><td>107.705414</td><td>119.32106</td><td>78.0</td><td>87.9898</td><td>107.357445</td><td>52.0</td><td>48.576614</td><td>81.2795</td><td>&hellip;</td><td>5116</td><td>12017</td><td>6693</td><td>6470</td><td>2797</td><td>2160</td><td>2687</td><td>719</td><td>8567</td><td>2201</td><td>5116</td><td>12017</td><td>6693</td><td>6470</td><td>2797</td><td>1587</td><td>2160</td><td>13017</td><td>719</td><td>1818</td><td>8567</td><td>9971</td><td>2201</td><td>693</td><td>3988</td><td>6418</td><td>12619</td><td>13017</td><td>719</td><td>1818</td><td>8567</td><td>9971</td><td>2201</td><td>693</td><td>3988</td><td>1799</td><td>6418</td></tr><tr><td>&quot;6b78efe3d4394b…</td><td>9971</td><td>2</td><td>9981</td><td>336</td><td>62</td><td>26</td><td>9981</td><td>336</td><td>62</td><td>26</td><td>0</td><td>466.0</td><td>1.0</td><td>0</td><td>1.0</td><td>1.0</td><td>1.0</td><td>1.0</td><td>11</td><td>2</td><td>74</td><td>226</td><td>0</td><td>0</td><td>0</td><td>1</td><td>1</td><td>0</td><td>107.705414</td><td>119.32106</td><td>78.0</td><td>87.9898</td><td>107.357445</td><td>52.0</td><td>48.576614</td><td>81.2795</td><td>&hellip;</td><td>2041</td><td>6125</td><td>4763</td><td>13647</td><td>6431</td><td>13754</td><td>4221</td><td>13017</td><td>1818</td><td>9971</td><td>693</td><td>3988</td><td>12619</td><td>4646</td><td>2739</td><td>9149</td><td>13463</td><td>13017</td><td>719</td><td>1818</td><td>8567</td><td>9971</td><td>2201</td><td>693</td><td>3988</td><td>6418</td><td>12619</td><td>13017</td><td>719</td><td>1818</td><td>8567</td><td>9971</td><td>2201</td><td>693</td><td>3988</td><td>1799</td><td>6418</td></tr><tr><td>&quot;c3b08fb741a976…</td><td>6199</td><td>5</td><td>3848</td><td>69</td><td>153</td><td>18</td><td>3848</td><td>69</td><td>153</td><td>18</td><td>0</td><td>480.0</td><td>1.0</td><td>0</td><td>1.0</td><td>1.0</td><td>1.0</td><td>1.0</td><td>3</td><td>41</td><td>180</td><td>191</td><td>0</td><td>0</td><td>0</td><td>1</td><td>1</td><td>0</td><td>107.705414</td><td>119.32106</td><td>78.0</td><td>87.9898</td><td>107.357445</td><td>52.0</td><td>48.576614</td><td>81.2795</td><td>&hellip;</td><td>12089</td><td>12986</td><td>10155</td><td>7379</td><td>12132</td><td>8468</td><td>6905</td><td>12425</td><td>6199</td><td>12240</td><td>11037</td><td>2087</td><td>12089</td><td>12986</td><td>10155</td><td>7379</td><td>12132</td><td>12425</td><td>6199</td><td>8445</td><td>12240</td><td>11037</td><td>9104</td><td>3077</td><td>2087</td><td>12089</td><td>12986</td><td>10095</td><td>3338</td><td>12350</td><td>8553</td><td>385</td><td>3848</td><td>13468</td><td>12785</td><td>13549</td><td>755</td></tr><tr><td>&quot;021eb5210d718b…</td><td>13549</td><td>2</td><td>5954</td><td>377</td><td>158</td><td>19</td><td>5954</td><td>377</td><td>158</td><td>19</td><td>0</td><td>706.0</td><td>1.0</td><td>0</td><td>1.0</td><td>1.0</td><td>1.0</td><td>1.0</td><td>3</td><td>5</td><td>97</td><td>66</td><td>0</td><td>0</td><td>0</td><td>1</td><td>1</td><td>0</td><td>107.705414</td><td>119.32106</td><td>78.0</td><td>87.9898</td><td>107.357445</td><td>52.0</td><td>48.576614</td><td>81.2795</td><td>&hellip;</td><td>9626</td><td>8344</td><td>1896</td><td>4</td><td>11478</td><td>3054</td><td>10599</td><td>13549</td><td>9010</td><td>9631</td><td>11408</td><td>5935</td><td>9626</td><td>8344</td><td>4829</td><td>1896</td><td>3000</td><td>385</td><td>12785</td><td>13549</td><td>755</td><td>13292</td><td>6378</td><td>9830</td><td>11398</td><td>109</td><td>7429</td><td>10095</td><td>3338</td><td>12350</td><td>8553</td><td>385</td><td>3848</td><td>13468</td><td>12785</td><td>13549</td><td>755</td></tr><tr><td>&quot;5791129ace2a61…</td><td>755</td><td>1</td><td>3596</td><td>450</td><td>185</td><td>30</td><td>3596</td><td>450</td><td>185</td><td>30</td><td>0</td><td>912.0</td><td>1.0</td><td>0</td><td>1.0</td><td>1.0</td><td>1.0</td><td>1.0</td><td>3</td><td>5</td><td>67</td><td>510</td><td>0</td><td>0</td><td>0</td><td>1</td><td>1</td><td>0</td><td>107.705414</td><td>119.32106</td><td>78.0</td><td>87.9898</td><td>107.357445</td><td>52.0</td><td>48.576614</td><td>81.2795</td><td>&hellip;</td><td>1341</td><td>8355</td><td>10483</td><td>9438</td><td>6723</td><td>1924</td><td>10435</td><td>385</td><td>12785</td><td>755</td><td>13292</td><td>109</td><td>6178</td><td>1169</td><td>5066</td><td>11715</td><td>1341</td><td>385</td><td>12785</td><td>13549</td><td>755</td><td>13292</td><td>6378</td><td>9830</td><td>11398</td><td>109</td><td>7429</td><td>10095</td><td>3338</td><td>12350</td><td>8553</td><td>385</td><td>3848</td><td>13468</td><td>12785</td><td>13549</td><td>755</td></tr><tr><td>&quot;0af3763e228a98…</td><td>3848</td><td>1</td><td>12118</td><td>71</td><td>140</td><td>43</td><td>12118</td><td>71</td><td>140</td><td>43</td><td>0</td><td>511.0</td><td>1.0</td><td>0</td><td>1.0</td><td>1.0</td><td>1.0</td><td>1.0</td><td>3</td><td>18</td><td>153</td><td>69</td><td>0</td><td>0</td><td>0</td><td>1</td><td>1</td><td>0</td><td>107.705414</td><td>119.32106</td><td>78.0</td><td>87.9898</td><td>107.357445</td><td>52.0</td><td>48.576614</td><td>81.2795</td><td>&hellip;</td><td>3848</td><td>13468</td><td>1091</td><td>532</td><td>915</td><td>4913</td><td>7093</td><td>10095</td><td>3338</td><td>12350</td><td>8553</td><td>3848</td><td>13468</td><td>1091</td><td>532</td><td>915</td><td>4913</td><td>10095</td><td>3338</td><td>12350</td><td>8553</td><td>3848</td><td>13468</td><td>1091</td><td>532</td><td>915</td><td>4913</td><td>10095</td><td>3338</td><td>12350</td><td>8553</td><td>385</td><td>3848</td><td>13468</td><td>12785</td><td>13549</td><td>755</td></tr><tr><td>&quot;21a4d7100008a4…</td><td>12017</td><td>1</td><td>8602</td><td>358</td><td>219</td><td>13</td><td>8602</td><td>358</td><td>219</td><td>13</td><td>0</td><td>598.0</td><td>1.0</td><td>0</td><td>1.0</td><td>1.0</td><td>1.0</td><td>1.0</td><td>11</td><td>2</td><td>278</td><td>442</td><td>0</td><td>0</td><td>0</td><td>1</td><td>1</td><td>0</td><td>107.705414</td><td>119.32106</td><td>78.0</td><td>87.9898</td><td>107.357445</td><td>52.0</td><td>48.576614</td><td>81.2795</td><td>&hellip;</td><td>5116</td><td>12017</td><td>6693</td><td>6470</td><td>2797</td><td>2160</td><td>2687</td><td>719</td><td>8567</td><td>2201</td><td>5116</td><td>12017</td><td>6693</td><td>6470</td><td>2797</td><td>1587</td><td>2160</td><td>13017</td><td>719</td><td>1818</td><td>8567</td><td>9971</td><td>2201</td><td>693</td><td>3988</td><td>6418</td><td>12619</td><td>13017</td><td>719</td><td>1818</td><td>8567</td><td>9971</td><td>2201</td><td>693</td><td>3988</td><td>1799</td><td>6418</td></tr><tr><td>&quot;f39c6987fee6d4…</td><td>719</td><td>1</td><td>5930</td><td>283</td><td>222</td><td>39</td><td>5930</td><td>283</td><td>222</td><td>39</td><td>0</td><td>600.0</td><td>1.0</td><td>0</td><td>1.0</td><td>1.0</td><td>1.0</td><td>1.0</td><td>11</td><td>2</td><td>278</td><td>442</td><td>0</td><td>0</td><td>0</td><td>1</td><td>1</td><td>0</td><td>107.705414</td><td>119.32106</td><td>78.0</td><td>87.9898</td><td>107.357445</td><td>52.0</td><td>48.576614</td><td>81.2795</td><td>&hellip;</td><td>5116</td><td>12017</td><td>6693</td><td>6470</td><td>2797</td><td>2160</td><td>2687</td><td>719</td><td>8567</td><td>2201</td><td>5116</td><td>12017</td><td>6693</td><td>6470</td><td>2797</td><td>1587</td><td>2160</td><td>13017</td><td>719</td><td>1818</td><td>8567</td><td>9971</td><td>2201</td><td>693</td><td>3988</td><td>6418</td><td>12619</td><td>13017</td><td>719</td><td>1818</td><td>8567</td><td>9971</td><td>2201</td><td>693</td><td>3988</td><td>1799</td><td>6418</td></tr><tr><td>&quot;12bee6467aefab…</td><td>8567</td><td>1</td><td>7631</td><td>307</td><td>208</td><td>42</td><td>7631</td><td>307</td><td>208</td><td>42</td><td>0</td><td>641.0</td><td>1.0</td><td>1</td><td>1.0</td><td>1.0</td><td>1.0</td><td>1.0</td><td>11</td><td>2</td><td>278</td><td>442</td><td>0</td><td>0</td><td>0</td><td>1</td><td>1</td><td>0</td><td>52.679703</td><td>69.28917</td><td>29.0</td><td>87.9898</td><td>107.357445</td><td>52.0</td><td>48.576614</td><td>81.2795</td><td>&hellip;</td><td>5116</td><td>12017</td><td>6693</td><td>6470</td><td>2797</td><td>2160</td><td>2687</td><td>719</td><td>8567</td><td>2201</td><td>5116</td><td>12017</td><td>6693</td><td>6470</td><td>2797</td><td>1587</td><td>2160</td><td>13017</td><td>719</td><td>1818</td><td>8567</td><td>9971</td><td>2201</td><td>693</td><td>3988</td><td>6418</td><td>12619</td><td>13017</td><td>719</td><td>1818</td><td>8567</td><td>9971</td><td>2201</td><td>693</td><td>3988</td><td>1799</td><td>6418</td></tr><tr><td>&hellip;</td><td>&hellip;</td><td>&hellip;</td><td>&hellip;</td><td>&hellip;</td><td>&hellip;</td><td>&hellip;</td><td>&hellip;</td><td>&hellip;</td><td>&hellip;</td><td>&hellip;</td><td>&hellip;</td><td>&hellip;</td><td>&hellip;</td><td>&hellip;</td><td>&hellip;</td><td>&hellip;</td><td>&hellip;</td><td>&hellip;</td><td>&hellip;</td><td>&hellip;</td><td>&hellip;</td><td>&hellip;</td><td>&hellip;</td><td>&hellip;</td><td>&hellip;</td><td>&hellip;</td><td>&hellip;</td><td>&hellip;</td><td>&hellip;</td><td>&hellip;</td><td>&hellip;</td><td>&hellip;</td><td>&hellip;</td><td>&hellip;</td><td>&hellip;</td><td>&hellip;</td><td>&hellip;</td><td>&hellip;</td><td>&hellip;</td><td>&hellip;</td><td>&hellip;</td><td>&hellip;</td><td>&hellip;</td><td>&hellip;</td><td>&hellip;</td><td>&hellip;</td><td>&hellip;</td><td>&hellip;</td><td>&hellip;</td><td>&hellip;</td><td>&hellip;</td><td>&hellip;</td><td>&hellip;</td><td>&hellip;</td><td>&hellip;</td><td>&hellip;</td><td>&hellip;</td><td>&hellip;</td><td>&hellip;</td><td>&hellip;</td><td>&hellip;</td><td>&hellip;</td><td>&hellip;</td><td>&hellip;</td><td>&hellip;</td><td>&hellip;</td><td>&hellip;</td><td>&hellip;</td><td>&hellip;</td><td>&hellip;</td><td>&hellip;</td><td>&hellip;</td><td>&hellip;</td><td>&hellip;</td></tr><tr><td>&quot;b81c80bdde5eb3…</td><td>8691</td><td>1</td><td>12293</td><td>437</td><td>110</td><td>39</td><td>12293</td><td>437</td><td>110</td><td>39</td><td>0</td><td>114.0</td><td>1.0</td><td>1</td><td>1.0</td><td>1.0</td><td>1.0</td><td>1.0</td><td>11</td><td>39</td><td>222</td><td>283</td><td>0</td><td>0</td><td>1</td><td>0</td><td>1</td><td>0</td><td>52.679703</td><td>69.28917</td><td>29.0</td><td>87.9898</td><td>107.357445</td><td>52.0</td><td>48.576614</td><td>81.2795</td><td>&hellip;</td><td>4804</td><td>6863</td><td>644</td><td>2404</td><td>4939</td><td>1462</td><td>4887</td><td>28</td><td>8041</td><td>850</td><td>12362</td><td>8691</td><td>4804</td><td>6863</td><td>12997</td><td>644</td><td>2404</td><td>2061</td><td>9015</td><td>7345</td><td>1881</td><td>1077</td><td>28</td><td>2127</td><td>4882</td><td>13579</td><td>6045</td><td>13017</td><td>719</td><td>1818</td><td>8567</td><td>9971</td><td>2201</td><td>693</td><td>3988</td><td>1799</td><td>6418</td></tr><tr><td>&quot;05bc4801211d0d…</td><td>2843</td><td>1</td><td>9938</td><td>315</td><td>60</td><td>4</td><td>9938</td><td>315</td><td>60</td><td>4</td><td>0</td><td>345.0</td><td>1.0</td><td>1</td><td>1.0</td><td>1.0</td><td>1.0</td><td>1.0</td><td>6</td><td>4</td><td>0</td><td>316</td><td>0</td><td>0</td><td>1</td><td>1</td><td>1</td><td>0</td><td>52.679703</td><td>69.28917</td><td>29.0</td><td>87.9898</td><td>107.357445</td><td>52.0</td><td>48.576614</td><td>81.2795</td><td>&hellip;</td><td>7215</td><td>4667</td><td>3519</td><td>10340</td><td>12114</td><td>5567</td><td>3631</td><td>2843</td><td>6605</td><td>3485</td><td>7215</td><td>4667</td><td>3519</td><td>10340</td><td>12114</td><td>5567</td><td>3631</td><td>4856</td><td>1882</td><td>13717</td><td>8140</td><td>825</td><td>6602</td><td>3184</td><td>8677</td><td>1092</td><td>7888</td><td>4856</td><td>1882</td><td>13717</td><td>8140</td><td>825</td><td>6602</td><td>3184</td><td>8677</td><td>1092</td><td>7888</td></tr><tr><td>&quot;a4dd56139d8483…</td><td>3789</td><td>2</td><td>9090</td><td>178</td><td>112</td><td>38</td><td>9090</td><td>178</td><td>112</td><td>38</td><td>0</td><td>384.0</td><td>1.0</td><td>0</td><td>1.0</td><td>1.0</td><td>1.0</td><td>1.0</td><td>8</td><td>38</td><td>45</td><td>389</td><td>0</td><td>0</td><td>1</td><td>1</td><td>1</td><td>0</td><td>107.705414</td><td>119.32106</td><td>78.0</td><td>87.9898</td><td>107.357445</td><td>52.0</td><td>48.576614</td><td>81.2795</td><td>&hellip;</td><td>11777</td><td>6471</td><td>1510</td><td>9292</td><td>8734</td><td>5937</td><td>4930</td><td>6407</td><td>3789</td><td>13740</td><td>11777</td><td>6471</td><td>1510</td><td>9292</td><td>8734</td><td>5937</td><td>4930</td><td>6407</td><td>3789</td><td>13740</td><td>11777</td><td>6471</td><td>1510</td><td>9292</td><td>8734</td><td>5937</td><td>4930</td><td>6407</td><td>5135</td><td>3789</td><td>13740</td><td>11777</td><td>6471</td><td>1510</td><td>9292</td><td>8734</td><td>5937</td></tr><tr><td>&quot;5888374d2fe822…</td><td>4372</td><td>1</td><td>2259</td><td>271</td><td>173</td><td>4</td><td>2259</td><td>271</td><td>173</td><td>4</td><td>0</td><td>193.0</td><td>1.0</td><td>1</td><td>1.0</td><td>1.0</td><td>1.0</td><td>1.0</td><td>6</td><td>4</td><td>77</td><td>85</td><td>0</td><td>0</td><td>0</td><td>1</td><td>1</td><td>0</td><td>52.679703</td><td>69.28917</td><td>29.0</td><td>87.9898</td><td>107.357445</td><td>52.0</td><td>48.576614</td><td>81.2795</td><td>&hellip;</td><td>4372</td><td>3724</td><td>148</td><td>2732</td><td>13522</td><td>7205</td><td>5245</td><td>9261</td><td>1019</td><td>9182</td><td>4372</td><td>3724</td><td>148</td><td>2732</td><td>13522</td><td>7205</td><td>5245</td><td>4856</td><td>1882</td><td>13717</td><td>8140</td><td>825</td><td>6602</td><td>3184</td><td>8677</td><td>1092</td><td>7888</td><td>4856</td><td>1882</td><td>13717</td><td>8140</td><td>825</td><td>6602</td><td>3184</td><td>8677</td><td>1092</td><td>7888</td></tr><tr><td>&quot;8b6999517452cf…</td><td>6178</td><td>2</td><td>3954</td><td>420</td><td>194</td><td>5</td><td>3954</td><td>420</td><td>194</td><td>5</td><td>0</td><td>882.0</td><td>1.0</td><td>0</td><td>1.0</td><td>1.0</td><td>1.0</td><td>1.0</td><td>3</td><td>5</td><td>67</td><td>510</td><td>0</td><td>0</td><td>0</td><td>1</td><td>1</td><td>0</td><td>107.705414</td><td>119.32106</td><td>78.0</td><td>87.9898</td><td>107.357445</td><td>52.0</td><td>48.576614</td><td>81.2795</td><td>&hellip;</td><td>1341</td><td>8355</td><td>10483</td><td>9438</td><td>6723</td><td>1924</td><td>10435</td><td>385</td><td>12785</td><td>755</td><td>13292</td><td>109</td><td>6178</td><td>1169</td><td>5066</td><td>11715</td><td>1341</td><td>385</td><td>12785</td><td>13549</td><td>755</td><td>13292</td><td>6378</td><td>9830</td><td>11398</td><td>109</td><td>7429</td><td>10095</td><td>3338</td><td>12350</td><td>8553</td><td>385</td><td>3848</td><td>13468</td><td>12785</td><td>13549</td><td>755</td></tr><tr><td>&quot;4ff76963a0b155…</td><td>9578</td><td>4</td><td>732</td><td>43</td><td>276</td><td>31</td><td>732</td><td>43</td><td>276</td><td>31</td><td>0</td><td>241.0</td><td>1.0</td><td>0</td><td>1.0</td><td>1.0</td><td>1.0</td><td>1.0</td><td>5</td><td>31</td><td>6</td><td>98</td><td>0</td><td>0</td><td>1</td><td>1</td><td>1</td><td>0</td><td>107.705414</td><td>119.32106</td><td>78.0</td><td>87.9898</td><td>107.357445</td><td>52.0</td><td>48.576614</td><td>81.2795</td><td>&hellip;</td><td>1842</td><td>11787</td><td>9578</td><td>8665</td><td>5090</td><td>2332</td><td>10271</td><td>13157</td><td>8105</td><td>5337</td><td>1842</td><td>11787</td><td>9578</td><td>8665</td><td>5090</td><td>2332</td><td>10271</td><td>8016</td><td>13555</td><td>13157</td><td>8105</td><td>5337</td><td>13137</td><td>1842</td><td>5609</td><td>11787</td><td>7450</td><td>7142</td><td>3274</td><td>8016</td><td>13646</td><td>7877</td><td>9124</td><td>734</td><td>1506</td><td>8508</td><td>8740</td></tr><tr><td>&quot;bb184f79394236…</td><td>134</td><td>1</td><td>3577</td><td>461</td><td>71</td><td>22</td><td>3577</td><td>461</td><td>71</td><td>22</td><td>0</td><td>158.0</td><td>1.0</td><td>1</td><td>1.0</td><td>1.0</td><td>1.0</td><td>1.0</td><td>9</td><td>22</td><td>23</td><td>265</td><td>0</td><td>1</td><td>1</td><td>1</td><td>1</td><td>1</td><td>52.679703</td><td>69.28917</td><td>29.0</td><td>87.9898</td><td>107.357445</td><td>52.0</td><td>48.576614</td><td>81.2795</td><td>&hellip;</td><td>13154</td><td>12618</td><td>3289</td><td>11588</td><td>8622</td><td>6957</td><td>1914</td><td>134</td><td>11083</td><td>5481</td><td>12175</td><td>2994</td><td>7706</td><td>13154</td><td>12618</td><td>12306</td><td>3289</td><td>1579</td><td>10927</td><td>2466</td><td>5562</td><td>8444</td><td>2820</td><td>9187</td><td>2961</td><td>8629</td><td>134</td><td>2445</td><td>11407</td><td>13106</td><td>12946</td><td>4744</td><td>12962</td><td>10868</td><td>5566</td><td>10515</td><td>11499</td></tr><tr><td>&quot;08eba736ad73f4…</td><td>13134</td><td>1</td><td>10561</td><td>203</td><td>128</td><td>6</td><td>10561</td><td>203</td><td>128</td><td>6</td><td>0</td><td>102.0</td><td>1.0</td><td>0</td><td>1.0</td><td>1.0</td><td>1.0</td><td>1.0</td><td>10</td><td>6</td><td>241</td><td>136</td><td>0</td><td>0</td><td>0</td><td>1</td><td>1</td><td>0</td><td>107.705414</td><td>119.32106</td><td>78.0</td><td>87.9898</td><td>107.357445</td><td>52.0</td><td>48.576614</td><td>81.2795</td><td>&hellip;</td><td>8781</td><td>3828</td><td>13000</td><td>6258</td><td>4410</td><td>5353</td><td>10443</td><td>12298</td><td>10126</td><td>10580</td><td>8781</td><td>3828</td><td>13000</td><td>6258</td><td>4410</td><td>5353</td><td>10443</td><td>12298</td><td>10126</td><td>10580</td><td>8781</td><td>3828</td><td>13000</td><td>6258</td><td>4410</td><td>5353</td><td>10443</td><td>9020</td><td>5713</td><td>12524</td><td>6576</td><td>7246</td><td>13590</td><td>5106</td><td>10827</td><td>3187</td><td>9623</td></tr><tr><td>&quot;b99f7fbfd9292f…</td><td>11850</td><td>1</td><td>12409</td><td>478</td><td>138</td><td>41</td><td>12409</td><td>478</td><td>138</td><td>41</td><td>0</td><td>875.0</td><td>1.0</td><td>0</td><td>1.0</td><td>1.0</td><td>1.0</td><td>1.0</td><td>3</td><td>41</td><td>180</td><td>168</td><td>0</td><td>0</td><td>0</td><td>1</td><td>1</td><td>0</td><td>107.705414</td><td>119.32106</td><td>78.0</td><td>87.9898</td><td>107.357445</td><td>52.0</td><td>48.576614</td><td>81.2795</td><td>&hellip;</td><td>4398</td><td>7308</td><td>9558</td><td>6630</td><td>7057</td><td>7183</td><td>7820</td><td>12425</td><td>6199</td><td>12240</td><td>11037</td><td>2087</td><td>12089</td><td>12986</td><td>10155</td><td>7379</td><td>12132</td><td>12425</td><td>6199</td><td>8445</td><td>12240</td><td>11037</td><td>9104</td><td>3077</td><td>2087</td><td>12089</td><td>12986</td><td>10095</td><td>3338</td><td>12350</td><td>8553</td><td>385</td><td>3848</td><td>13468</td><td>12785</td><td>13549</td><td>755</td></tr><tr><td>&quot;444024a49ea0fc…</td><td>9104</td><td>1</td><td>13797</td><td>191</td><td>180</td><td>41</td><td>13797</td><td>191</td><td>180</td><td>41</td><td>0</td><td>158.0</td><td>1.0</td><td>1</td><td>1.0</td><td>1.0</td><td>1.0</td><td>1.0</td><td>3</td><td>41</td><td>49</td><td>70</td><td>0</td><td>0</td><td>0</td><td>1</td><td>1</td><td>1</td><td>52.679703</td><td>69.28917</td><td>29.0</td><td>87.9898</td><td>107.357445</td><td>52.0</td><td>48.576614</td><td>81.2795</td><td>&hellip;</td><td>9722</td><td>589</td><td>5521</td><td>10064</td><td>925</td><td>5532</td><td>12250</td><td>8445</td><td>9104</td><td>3077</td><td>9722</td><td>589</td><td>5521</td><td>10064</td><td>925</td><td>5532</td><td>12250</td><td>12425</td><td>6199</td><td>8445</td><td>12240</td><td>11037</td><td>9104</td><td>3077</td><td>2087</td><td>12089</td><td>12986</td><td>10095</td><td>3338</td><td>12350</td><td>8553</td><td>385</td><td>3848</td><td>13468</td><td>12785</td><td>13549</td><td>755</td></tr><tr><td>&quot;25eba66d4e967e…</td><td>3100</td><td>1</td><td>6723</td><td>510</td><td>67</td><td>5</td><td>6723</td><td>510</td><td>67</td><td>5</td><td>0</td><td>1280.0</td><td>1.0</td><td>0</td><td>1.0</td><td>1.0</td><td>1.0</td><td>1.0</td><td>3</td><td>5</td><td>239</td><td>326</td><td>0</td><td>0</td><td>1</td><td>1</td><td>1</td><td>0</td><td>107.705414</td><td>119.32106</td><td>78.0</td><td>87.9898</td><td>107.357445</td><td>52.0</td><td>48.576614</td><td>81.2795</td><td>&hellip;</td><td>3100</td><td>2305</td><td>2373</td><td>2692</td><td>8501</td><td>12688</td><td>1530</td><td>6378</td><td>10287</td><td>11496</td><td>3100</td><td>2305</td><td>2373</td><td>2692</td><td>8501</td><td>12688</td><td>1530</td><td>385</td><td>12785</td><td>13549</td><td>755</td><td>13292</td><td>6378</td><td>9830</td><td>11398</td><td>109</td><td>7429</td><td>10095</td><td>3338</td><td>12350</td><td>8553</td><td>385</td><td>3848</td><td>13468</td><td>12785</td><td>13549</td><td>755</td></tr><tr><td>&quot;eabb18ac73b155…</td><td>3077</td><td>2</td><td>10421</td><td>191</td><td>180</td><td>41</td><td>10421</td><td>191</td><td>180</td><td>41</td><td>0</td><td>198.0</td><td>1.0</td><td>1</td><td>1.0</td><td>1.0</td><td>1.0</td><td>1.0</td><td>3</td><td>41</td><td>49</td><td>70</td><td>0</td><td>0</td><td>1</td><td>1</td><td>1</td><td>0</td><td>52.679703</td><td>69.28917</td><td>29.0</td><td>87.9898</td><td>107.357445</td><td>52.0</td><td>48.576614</td><td>81.2795</td><td>&hellip;</td><td>9722</td><td>589</td><td>5521</td><td>10064</td><td>925</td><td>5532</td><td>12250</td><td>8445</td><td>9104</td><td>3077</td><td>9722</td><td>589</td><td>5521</td><td>10064</td><td>925</td><td>5532</td><td>12250</td><td>12425</td><td>6199</td><td>8445</td><td>12240</td><td>11037</td><td>9104</td><td>3077</td><td>2087</td><td>12089</td><td>12986</td><td>10095</td><td>3338</td><td>12350</td><td>8553</td><td>385</td><td>3848</td><td>13468</td><td>12785</td><td>13549</td><td>755</td></tr></tbody></table></div>"
      ],
      "text/plain": [
       "shape: (8_160_235, 97)\n",
       "┌────────────┬────────┬────────────┬───────────┬───┬───────────┬───────────┬───────────┬───────────┐\n",
       "│ session_id ┆ yad_no ┆ session_le ┆ last_seen ┆ … ┆ top6_wid_ ┆ top7_wid_ ┆ top8_wid_ ┆ top9_wid_ │\n",
       "│ ---        ┆ ---    ┆ ngth       ┆ _yad_no   ┆   ┆ cd_yad_no ┆ cd_yad_no ┆ cd_yad_no ┆ cd_yad_no │\n",
       "│ str        ┆ i64    ┆ ---        ┆ ---       ┆   ┆ ---       ┆ ---       ┆ ---       ┆ ---       │\n",
       "│            ┆        ┆ i64        ┆ i64       ┆   ┆ i64       ┆ i64       ┆ i64       ┆ i64       │\n",
       "╞════════════╪════════╪════════════╪═══════════╪═══╪═══════════╪═══════════╪═══════════╪═══════════╡\n",
       "│ 85aeeda682 ┆ 11037  ┆ 3          ┆ 7947      ┆ … ┆ 13468     ┆ 12785     ┆ 13549     ┆ 755       │\n",
       "│ 56d079a23c ┆        ┆            ┆           ┆   ┆           ┆           ┆           ┆           │\n",
       "│ 2d99b8ebd5 ┆        ┆            ┆           ┆   ┆           ┆           ┆           ┆           │\n",
       "│ 49         ┆        ┆            ┆           ┆   ┆           ┆           ┆           ┆           │\n",
       "│ dd2bf84260 ┆ 8567   ┆ 1          ┆ 12524     ┆ … ┆ 693       ┆ 3988      ┆ 1799      ┆ 6418      │\n",
       "│ 3d6caefecf ┆        ┆            ┆           ┆   ┆           ┆           ┆           ┆           │\n",
       "│ dc7569d1f9 ┆        ┆            ┆           ┆   ┆           ┆           ┆           ┆           │\n",
       "│ 4f         ┆        ┆            ┆           ┆   ┆           ┆           ┆           ┆           │\n",
       "│ 89f36f3cad ┆ 915    ┆ 1          ┆ 8170      ┆ … ┆ 13468     ┆ 12785     ┆ 13549     ┆ 755       │\n",
       "│ fe6a68d36b ┆        ┆            ┆           ┆   ┆           ┆           ┆           ┆           │\n",
       "│ 2c7c1531a6 ┆        ┆            ┆           ┆   ┆           ┆           ┆           ┆           │\n",
       "│ 93         ┆        ┆            ┆           ┆   ┆           ┆           ┆           ┆           │\n",
       "│ 6fa5d93c75 ┆ 6470   ┆ 2          ┆ 3848      ┆ … ┆ 693       ┆ 3988      ┆ 1799      ┆ 6418      │\n",
       "│ be5951608d ┆        ┆            ┆           ┆   ┆           ┆           ┆           ┆           │\n",
       "│ 8bc610c767 ┆        ┆            ┆           ┆   ┆           ┆           ┆           ┆           │\n",
       "│ ca         ┆        ┆            ┆           ┆   ┆           ┆           ┆           ┆           │\n",
       "│ …          ┆ …      ┆ …          ┆ …         ┆ … ┆ …         ┆ …         ┆ …         ┆ …         │\n",
       "│ b99f7fbfd9 ┆ 11850  ┆ 1          ┆ 12409     ┆ … ┆ 13468     ┆ 12785     ┆ 13549     ┆ 755       │\n",
       "│ 292f87b5ef ┆        ┆            ┆           ┆   ┆           ┆           ┆           ┆           │\n",
       "│ 26dc021329 ┆        ┆            ┆           ┆   ┆           ┆           ┆           ┆           │\n",
       "│ f1         ┆        ┆            ┆           ┆   ┆           ┆           ┆           ┆           │\n",
       "│ 444024a49e ┆ 9104   ┆ 1          ┆ 13797     ┆ … ┆ 13468     ┆ 12785     ┆ 13549     ┆ 755       │\n",
       "│ a0fcef14a3 ┆        ┆            ┆           ┆   ┆           ┆           ┆           ┆           │\n",
       "│ c10c9ba716 ┆        ┆            ┆           ┆   ┆           ┆           ┆           ┆           │\n",
       "│ 04         ┆        ┆            ┆           ┆   ┆           ┆           ┆           ┆           │\n",
       "│ 25eba66d4e ┆ 3100   ┆ 1          ┆ 6723      ┆ … ┆ 13468     ┆ 12785     ┆ 13549     ┆ 755       │\n",
       "│ 967ebb8a21 ┆        ┆            ┆           ┆   ┆           ┆           ┆           ┆           │\n",
       "│ f7319bc825 ┆        ┆            ┆           ┆   ┆           ┆           ┆           ┆           │\n",
       "│ 55         ┆        ┆            ┆           ┆   ┆           ┆           ┆           ┆           │\n",
       "│ eabb18ac73 ┆ 3077   ┆ 2          ┆ 10421     ┆ … ┆ 13468     ┆ 12785     ┆ 13549     ┆ 755       │\n",
       "│ b1550a9c3c ┆        ┆            ┆           ┆   ┆           ┆           ┆           ┆           │\n",
       "│ 78a7fa3869 ┆        ┆            ┆           ┆   ┆           ┆           ┆           ┆           │\n",
       "│ ed         ┆        ┆            ┆           ┆   ┆           ┆           ┆           ┆           │\n",
       "└────────────┴────────┴────────────┴───────────┴───┴───────────┴───────────┴───────────┴───────────┘"
      ]
     },
     "execution_count": 1,
     "metadata": {},
     "output_type": "execute_result"
    }
   ],
   "source": [
    "import polars as pl\n",
    "\n",
    "from src import constants\n",
    "\n",
    "dataset = pl.scan_csv(constants.OUTPUT_DIR / \"dataset.csv\").collect()\n",
    "dataset"
   ]
  },
  {
   "cell_type": "code",
   "execution_count": 2,
   "metadata": {},
   "outputs": [
    {
     "data": {
      "text/plain": [
       "174700"
      ]
     },
     "execution_count": 2,
     "metadata": {},
     "output_type": "execute_result"
    }
   ],
   "source": [
    "dataset.group_by(\"session_id\").first().shape[0]"
   ]
  },
  {
   "cell_type": "code",
   "execution_count": 3,
   "metadata": {},
   "outputs": [
    {
     "data": {
      "text/html": [
       "<div><style>\n",
       ".dataframe > thead > tr,\n",
       ".dataframe > tbody > tr {\n",
       "  text-align: right;\n",
       "  white-space: pre-wrap;\n",
       "}\n",
       "</style>\n",
       "<small>shape: (577_390, 3)</small><table border=\"1\" class=\"dataframe\"><thead><tr><th>session_id</th><th>yad_no</th><th>predict</th></tr><tr><td>str</td><td>i64</td><td>i64</td></tr></thead><tbody><tr><td>&quot;6d1633e4185e67…</td><td>1013</td><td>1013</td></tr><tr><td>&quot;6d1633e4185e67…</td><td>1013</td><td>1424</td></tr><tr><td>&quot;6d1633e4185e67…</td><td>1013</td><td>5203</td></tr><tr><td>&quot;6d1633e4185e67…</td><td>1013</td><td>11450</td></tr><tr><td>&quot;6d1633e4185e67…</td><td>1013</td><td>9405</td></tr><tr><td>&quot;6d1633e4185e67…</td><td>1013</td><td>4424</td></tr><tr><td>&quot;6d1633e4185e67…</td><td>1013</td><td>8579</td></tr><tr><td>&quot;6d1633e4185e67…</td><td>1013</td><td>5357</td></tr><tr><td>&quot;6d1633e4185e67…</td><td>1013</td><td>3367</td></tr><tr><td>&quot;6d1633e4185e67…</td><td>1013</td><td>2322</td></tr><tr><td>&quot;5cc51669d04cde…</td><td>8080</td><td>12774</td></tr><tr><td>&quot;5cc51669d04cde…</td><td>8080</td><td>441</td></tr><tr><td>&hellip;</td><td>&hellip;</td><td>&hellip;</td></tr><tr><td>&quot;2dac0f959a2b78…</td><td>3326</td><td>1796</td></tr><tr><td>&quot;2dac0f959a2b78…</td><td>3326</td><td>5891</td></tr><tr><td>&quot;76a364c0451728…</td><td>6752</td><td>10391</td></tr><tr><td>&quot;76a364c0451728…</td><td>6752</td><td>3495</td></tr><tr><td>&quot;76a364c0451728…</td><td>6752</td><td>1855</td></tr><tr><td>&quot;76a364c0451728…</td><td>6752</td><td>10069</td></tr><tr><td>&quot;76a364c0451728…</td><td>6752</td><td>11458</td></tr><tr><td>&quot;76a364c0451728…</td><td>6752</td><td>584</td></tr><tr><td>&quot;76a364c0451728…</td><td>6752</td><td>251</td></tr><tr><td>&quot;76a364c0451728…</td><td>6752</td><td>1220</td></tr><tr><td>&quot;76a364c0451728…</td><td>6752</td><td>7794</td></tr><tr><td>&quot;76a364c0451728…</td><td>6752</td><td>13482</td></tr></tbody></table></div>"
      ],
      "text/plain": [
       "shape: (577_390, 3)\n",
       "┌──────────────────────────────────┬────────┬─────────┐\n",
       "│ session_id                       ┆ yad_no ┆ predict │\n",
       "│ ---                              ┆ ---    ┆ ---     │\n",
       "│ str                              ┆ i64    ┆ i64     │\n",
       "╞══════════════════════════════════╪════════╪═════════╡\n",
       "│ 6d1633e4185e6701c4ce58c9be56b0ac ┆ 1013   ┆ 1013    │\n",
       "│ 6d1633e4185e6701c4ce58c9be56b0ac ┆ 1013   ┆ 1424    │\n",
       "│ 6d1633e4185e6701c4ce58c9be56b0ac ┆ 1013   ┆ 5203    │\n",
       "│ 6d1633e4185e6701c4ce58c9be56b0ac ┆ 1013   ┆ 11450   │\n",
       "│ …                                ┆ …      ┆ …       │\n",
       "│ 76a364c0451728757632a23d97479055 ┆ 6752   ┆ 251     │\n",
       "│ 76a364c0451728757632a23d97479055 ┆ 6752   ┆ 1220    │\n",
       "│ 76a364c0451728757632a23d97479055 ┆ 6752   ┆ 7794    │\n",
       "│ 76a364c0451728757632a23d97479055 ┆ 6752   ┆ 13482   │\n",
       "└──────────────────────────────────┴────────┴─────────┘"
      ]
     },
     "execution_count": 3,
     "metadata": {},
     "output_type": "execute_result"
    }
   ],
   "source": [
    "preds = pl.scan_csv(constants.OUTPUT_DIR / \"exp000\" / \"cv_fold0.csv\").collect()\n",
    "preds"
   ]
  },
  {
   "cell_type": "code",
   "execution_count": null,
   "metadata": {},
   "outputs": [],
   "source": []
  },
  {
   "cell_type": "code",
   "execution_count": null,
   "metadata": {},
   "outputs": [],
   "source": [
    "num_session_has_label_in_predict =(\n",
    "    preds\n",
    "    .group_by(\"session_id\")\n",
    "    .map_groups(\n",
    "        lambda group: group.with_columns(pl.arange(0, group.height).alias(\"seq_no\"))\n",
    "    )\n",
    ").filter(pl.col(\"yad_no\") == pl.col(\"predict\"))[\"session_id\"].n_unique()"
   ]
  },
  {
   "cell_type": "code",
   "execution_count": null,
   "metadata": {},
   "outputs": [
    {
     "data": {
      "text/plain": [
       "0.477753338298204"
      ]
     },
     "execution_count": 17,
     "metadata": {},
     "output_type": "execute_result"
    }
   ],
   "source": [
    "num_session_has_label_in_predict / preds[\"session_id\"].n_unique()"
   ]
  },
  {
   "cell_type": "code",
   "execution_count": null,
   "metadata": {},
   "outputs": [],
   "source": []
  },
  {
   "cell_type": "code",
   "execution_count": null,
   "metadata": {},
   "outputs": [
    {
     "data": {
      "text/plain": [
       "['8e74132684c7b9a55b2769c454ca082c',\n",
       " '3eb36287a40827ccb59e89067c71d30e',\n",
       " 'f9eff605f0b1b0acdb6c4b98dd83b1b8']"
      ]
     },
     "execution_count": 3,
     "metadata": {},
     "output_type": "execute_result"
    }
   ],
   "source": [
    "preds[\"session_id\"].unique().to_list()[:3]"
   ]
  },
  {
   "cell_type": "code",
   "execution_count": null,
   "metadata": {},
   "outputs": [
    {
     "data": {
      "text/html": [
       "<div><style>\n",
       ".dataframe > thead > tr,\n",
       ".dataframe > tbody > tr {\n",
       "  text-align: right;\n",
       "  white-space: pre-wrap;\n",
       "}\n",
       "</style>\n",
       "<small>shape: (288_698, 2)</small><table border=\"1\" class=\"dataframe\"><thead><tr><th>session_id</th><th>yad_no</th></tr><tr><td>str</td><td>i64</td></tr></thead><tbody><tr><td>&quot;000007603d533d…</td><td>4101</td></tr><tr><td>&quot;0000ca043ed437…</td><td>8253</td></tr><tr><td>&quot;0000d4835cf113…</td><td>4863</td></tr><tr><td>&quot;0000fcda1ae1b2…</td><td>1652</td></tr><tr><td>&quot;000104bdffaaad…</td><td>96</td></tr><tr><td>&quot;00011afe25c343…</td><td>4823</td></tr><tr><td>&quot;000125c737df18…</td><td>10378</td></tr><tr><td>&quot;0001763050a10b…</td><td>10362</td></tr><tr><td>&quot;000178c4d4d567…</td><td>1227</td></tr><tr><td>&quot;0001e6a407a85d…</td><td>175</td></tr><tr><td>&quot;0002499cf2713a…</td><td>1209</td></tr><tr><td>&quot;00026fd325b5d6…</td><td>756</td></tr><tr><td>&hellip;</td><td>&hellip;</td></tr><tr><td>&quot;fffd8c4fa7b5be…</td><td>5209</td></tr><tr><td>&quot;fffe2d9e5982f5…</td><td>4885</td></tr><tr><td>&quot;fffe3dedeb89ae…</td><td>11714</td></tr><tr><td>&quot;fffe40478b2163…</td><td>1882</td></tr><tr><td>&quot;fffe78a078a176…</td><td>4906</td></tr><tr><td>&quot;fffe8a472ae6a9…</td><td>4353</td></tr><tr><td>&quot;fffe8c99c5b332…</td><td>6170</td></tr><tr><td>&quot;ffff2262d38abd…</td><td>2259</td></tr><tr><td>&quot;ffff2360540745…</td><td>963</td></tr><tr><td>&quot;ffff7fb4617164…</td><td>13719</td></tr><tr><td>&quot;ffffcd5bc19d62…</td><td>10619</td></tr><tr><td>&quot;fffffa7baf3700…</td><td>2439</td></tr></tbody></table></div>"
      ],
      "text/plain": [
       "shape: (288_698, 2)\n",
       "┌──────────────────────────────────┬────────┐\n",
       "│ session_id                       ┆ yad_no │\n",
       "│ ---                              ┆ ---    │\n",
       "│ str                              ┆ i64    │\n",
       "╞══════════════════════════════════╪════════╡\n",
       "│ 000007603d533d30453cc45d0f3d119f ┆ 4101   │\n",
       "│ 0000ca043ed437a1472c9d1d154eb49b ┆ 8253   │\n",
       "│ 0000d4835cf113316fe447e2f80ba1c8 ┆ 4863   │\n",
       "│ 0000fcda1ae1b2f431e55a7075d1f500 ┆ 1652   │\n",
       "│ …                                ┆ …      │\n",
       "│ ffff2360540745117193ecadcdc06538 ┆ 963    │\n",
       "│ ffff7fb4617164b2604aaf51c40bf82d ┆ 13719  │\n",
       "│ ffffcd5bc19d62cad5a3815c87818d83 ┆ 10619  │\n",
       "│ fffffa7baf370083ebcdd98f26a7e31a ┆ 2439   │\n",
       "└──────────────────────────────────┴────────┘"
      ]
     },
     "execution_count": 4,
     "metadata": {},
     "output_type": "execute_result"
    }
   ],
   "source": [
    "train_label_df = pl.scan_csv(constants.INPUT_DIR / \"train_label.csv\").collect()\n",
    "train_label_df"
   ]
  },
  {
   "cell_type": "code",
   "execution_count": null,
   "metadata": {},
   "outputs": [
    {
     "name": "stdout",
     "output_type": "stream",
     "text": [
      "187cbc12d251ad3360f717c1cba7f1f2\n",
      "DS:  shape: (0, 40)\n",
      "┌────────────┬────────┬────────────┬──────────┬───┬────────────┬───────────┬───────────┬───────────┐\n",
      "│ session_id ┆ yad_no ┆ session_le ┆ yad_type ┆ … ┆ mean_total ┆ std_total ┆ median_to ┆ diff_tota │\n",
      "│ ---        ┆ ---    ┆ ngth       ┆ ---      ┆   ┆ _room_cnt_ ┆ _room_cnt ┆ tal_room_ ┆ l_room_cn │\n",
      "│ str        ┆ i64    ┆ ---        ┆ i64      ┆   ┆ with_kd_co ┆ _with_kd_ ┆ cnt_with_ ┆ t_with_on │\n",
      "│            ┆        ┆ i64        ┆          ┆   ┆ nv…        ┆ conv_…    ┆ kd_co…    ┆ sen_f…    │\n",
      "│            ┆        ┆            ┆          ┆   ┆ ---        ┆ ---       ┆ ---       ┆ ---       │\n",
      "│            ┆        ┆            ┆          ┆   ┆ f64        ┆ f64       ┆ f64       ┆ f64       │\n",
      "╞════════════╪════════╪════════════╪══════════╪═══╪════════════╪═══════════╪═══════════╪═══════════╡\n",
      "└────────────┴────────┴────────────┴──────────┴───┴────────────┴───────────┴───────────┴───────────┘\n",
      "PREDS:  shape: (0, 3)\n",
      "┌────────────┬────────┬─────────┐\n",
      "│ session_id ┆ yad_no ┆ predict │\n",
      "│ ---        ┆ ---    ┆ ---     │\n",
      "│ str        ┆ i64    ┆ i64     │\n",
      "╞════════════╪════════╪═════════╡\n",
      "└────────────┴────────┴─────────┘\n",
      "YAD CANDIDATES:  []\n",
      "PREDS:  []\n",
      "LABEL:  2570\n",
      "Label in candidates:  False\n",
      "\n"
     ]
    }
   ],
   "source": [
    "see_targets = [\n",
    "    \"187cbc12d251ad3360f717c1cba7f1f2\"\n",
    "]\n",
    "for target in see_targets:\n",
    "    print(target)\n",
    "    ds_this_target = dataset.filter(pl.col(\"session_id\") == target)\n",
    "    preds_this_target = preds.filter(pl.col(\"session_id\") == target)\n",
    "    print(\"DS: \", ds_this_target)\n",
    "    print(\"PREDS: \", preds_this_target)\n",
    "    yad_candidates = ds_this_target[\"yad_no\"].to_list()\n",
    "    pred = preds_this_target[\"predict\"].to_list()\n",
    "    label = train_label_df.filter(pl.col(\"session_id\") == target)[\"yad_no\"].to_list()[0]\n",
    "    print(\"YAD CANDIDATES: \", yad_candidates)\n",
    "    print(\"PREDS: \", pred)\n",
    "    print(\"LABEL: \", label)\n",
    "    print(\"Label in candidates: \", label in yad_candidates)\n",
    "    print(\"\")"
   ]
  },
  {
   "cell_type": "code",
   "execution_count": null,
   "metadata": {},
   "outputs": [
    {
     "ename": "Exception",
     "evalue": "",
     "output_type": "error",
     "traceback": [
      "\u001b[0;31m---------------------------------------------------------------------------\u001b[0m",
      "\u001b[0;31mException\u001b[0m                                 Traceback (most recent call last)",
      "Cell \u001b[0;32mIn[6], line 1\u001b[0m\n\u001b[0;32m----> 1\u001b[0m \u001b[38;5;28;01mraise\u001b[39;00m \u001b[38;5;167;01mException\u001b[39;00m()\n\u001b[1;32m      3\u001b[0m \u001b[38;5;28;01mfrom\u001b[39;00m \u001b[38;5;21;01mtqdm\u001b[39;00m\u001b[38;5;21;01m.\u001b[39;00m\u001b[38;5;21;01mauto\u001b[39;00m \u001b[38;5;28;01mimport\u001b[39;00m tqdm\n\u001b[1;32m      5\u001b[0m label_in_candidates \u001b[38;5;241m=\u001b[39m \u001b[38;5;241m0\u001b[39m\n",
      "\u001b[0;31mException\u001b[0m: "
     ]
    }
   ],
   "source": [
    "raise Exception()\n",
    "\n",
    "from tqdm.auto import tqdm\n",
    "\n",
    "label_in_candidates = 0\n",
    "unique_session = dataset[\"session_id\"].unique().to_list()\n",
    "for target in tqdm(unique_session, total=len(unique_session)):\n",
    "    ds_this_target = dataset.filter(pl.col(\"session_id\") == target)\n",
    "    preds_this_target = preds.filter(pl.col(\"session_id\") == target)\n",
    "    yad_candidates = ds_this_target[\"yad_no\"].to_list()\n",
    "    pred = preds_this_target[\"predict\"].to_list()\n",
    "    label = train_label_df.filter(pl.col(\"session_id\") == target)[\"yad_no\"].to_list()[0]\n",
    "    if label in yad_candidates:\n",
    "        label_in_candidates += 1\n",
    "\n",
    "print(label_in_candidates / len(dataset[\"session_id\"].unique().to_list()))"
   ]
  }
 ],
 "metadata": {
  "kernelspec": {
   "display_name": ".venv",
   "language": "python",
   "name": "python3"
  },
  "language_info": {
   "codemirror_mode": {
    "name": "ipython",
    "version": 3
   },
   "file_extension": ".py",
   "mimetype": "text/x-python",
   "name": "python",
   "nbconvert_exporter": "python",
   "pygments_lexer": "ipython3",
   "version": "3.10.13"
  }
 },
 "nbformat": 4,
 "nbformat_minor": 2
}
