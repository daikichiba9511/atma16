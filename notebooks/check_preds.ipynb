{
 "cells": [
  {
   "cell_type": "code",
   "execution_count": 23,
   "metadata": {},
   "outputs": [
    {
     "data": {
      "text/html": [
       "<div><style>\n",
       ".dataframe > thead > tr,\n",
       ".dataframe > tbody > tr {\n",
       "  text-align: right;\n",
       "  white-space: pre-wrap;\n",
       "}\n",
       "</style>\n",
       "<small>shape: (10_104_500, 36)</small><table border=\"1\" class=\"dataframe\"><thead><tr><th>session_id</th><th>yad_no</th><th>session_length</th><th>yad_type</th><th>total_room_cnt</th><th>wireless_lan_flg</th><th>onsen_flg</th><th>kd_stn_5min</th><th>kd_bch_5min</th><th>kd_slp_5min</th><th>kd_conv_walk_5min</th><th>total_room_cnt_null_flg</th><th>wireless_lan_flg_null_flg</th><th>kd_stn_5min_null_flg</th><th>kd_bch_5min_null_flg</th><th>kd_slp_5min_null_flg</th><th>kd_conv_walk_5min_null_flg</th><th>mean_total_room_cnt_with_onsen_flg</th><th>std_total_room_cnt_with_onsen_flg</th><th>median_total_room_cnt_with_onsen_flg</th><th>mean_total_room_cnt_with_yad_type</th><th>std_total_room_cnt_with_yad_type</th><th>median_total_room_cnt_with_yad_type</th><th>mean_total_room_cnt_with_kd_bch_5min</th><th>std_total_room_cnt_with_kd_bch_5min</th><th>median_total_room_cnt_with_kd_bch_5min</th><th>mean_total_room_cnt_with_kd_stn_5min</th><th>std_total_room_cnt_with_kd_stn_5min</th><th>median_total_room_cnt_with_kd_stn_5min</th><th>mean_total_room_cnt_with_kd_bch_5min_right</th><th>std_total_room_cnt_with_kd_bch_5min_right</th><th>median_total_room_cnt_with_kd_bch_5min_right</th><th>mean_total_room_cnt_with_kd_conv_walk_5min</th><th>std_total_room_cnt_with_kd_conv_walk_5min</th><th>median_total_room_cnt_with_kd_conv_walk_5min</th><th>diff_total_room_cnt_with_onsen_flg</th></tr><tr><td>str</td><td>i64</td><td>i64</td><td>i64</td><td>f64</td><td>f64</td><td>i64</td><td>f64</td><td>f64</td><td>f64</td><td>f64</td><td>i64</td><td>i64</td><td>i64</td><td>i64</td><td>i64</td><td>i64</td><td>f64</td><td>f64</td><td>f64</td><td>f64</td><td>f64</td><td>f64</td><td>f64</td><td>f64</td><td>f64</td><td>f64</td><td>f64</td><td>f64</td><td>f64</td><td>f64</td><td>f64</td><td>f64</td><td>f64</td><td>f64</td><td>f64</td></tr></thead><tbody><tr><td>&quot;a2c35053db8d77…</td><td>12350</td><td>2</td><td>0</td><td>696.0</td><td>1.0</td><td>0</td><td>1.0</td><td>1.0</td><td>1.0</td><td>1.0</td><td>0</td><td>0</td><td>1</td><td>1</td><td>1</td><td>1</td><td>107.705414</td><td>119.321059</td><td>78.0</td><td>87.989802</td><td>107.357444</td><td>52.0</td><td>48.576613</td><td>81.279502</td><td>24.0</td><td>125.021743</td><td>126.811776</td><td>100.0</td><td>48.576613</td><td>81.279502</td><td>24.0</td><td>111.652157</td><td>119.851654</td><td>83.0</td><td>588.294586</td></tr><tr><td>&quot;747013aa7dff07…</td><td>385</td><td>2</td><td>0</td><td>2384.0</td><td>1.0</td><td>0</td><td>1.0</td><td>1.0</td><td>1.0</td><td>1.0</td><td>0</td><td>0</td><td>0</td><td>1</td><td>1</td><td>0</td><td>107.705414</td><td>119.321059</td><td>78.0</td><td>87.989802</td><td>107.357444</td><td>52.0</td><td>48.576613</td><td>81.279502</td><td>24.0</td><td>125.021743</td><td>126.811776</td><td>100.0</td><td>48.576613</td><td>81.279502</td><td>24.0</td><td>111.652157</td><td>119.851654</td><td>83.0</td><td>2276.294586</td></tr><tr><td>&quot;90ba3f529351dd…</td><td>1091</td><td>1</td><td>0</td><td>289.0</td><td>1.0</td><td>1</td><td>1.0</td><td>1.0</td><td>1.0</td><td>1.0</td><td>0</td><td>0</td><td>1</td><td>1</td><td>1</td><td>1</td><td>52.679701</td><td>69.289168</td><td>29.0</td><td>87.989802</td><td>107.357444</td><td>52.0</td><td>48.576613</td><td>81.279502</td><td>24.0</td><td>125.021743</td><td>126.811776</td><td>100.0</td><td>48.576613</td><td>81.279502</td><td>24.0</td><td>111.652157</td><td>119.851654</td><td>83.0</td><td>236.320299</td></tr><tr><td>&quot;ac5f0c648f7493…</td><td>719</td><td>1</td><td>0</td><td>600.0</td><td>1.0</td><td>0</td><td>1.0</td><td>1.0</td><td>1.0</td><td>1.0</td><td>0</td><td>0</td><td>0</td><td>1</td><td>1</td><td>0</td><td>107.705414</td><td>119.321059</td><td>78.0</td><td>87.989802</td><td>107.357444</td><td>52.0</td><td>48.576613</td><td>81.279502</td><td>24.0</td><td>125.021743</td><td>126.811776</td><td>100.0</td><td>48.576613</td><td>81.279502</td><td>24.0</td><td>111.652157</td><td>119.851654</td><td>83.0</td><td>492.294586</td></tr><tr><td>&quot;78ec275364d1d3…</td><td>13549</td><td>1</td><td>0</td><td>706.0</td><td>1.0</td><td>0</td><td>1.0</td><td>1.0</td><td>1.0</td><td>1.0</td><td>0</td><td>0</td><td>0</td><td>1</td><td>1</td><td>0</td><td>107.705414</td><td>119.321059</td><td>78.0</td><td>87.989802</td><td>107.357444</td><td>52.0</td><td>48.576613</td><td>81.279502</td><td>24.0</td><td>125.021743</td><td>126.811776</td><td>100.0</td><td>48.576613</td><td>81.279502</td><td>24.0</td><td>111.652157</td><td>119.851654</td><td>83.0</td><td>598.294586</td></tr><tr><td>&quot;4fdbf291961c52…</td><td>6470</td><td>1</td><td>0</td><td>390.0</td><td>1.0</td><td>0</td><td>1.0</td><td>1.0</td><td>1.0</td><td>1.0</td><td>0</td><td>0</td><td>0</td><td>1</td><td>1</td><td>0</td><td>107.705414</td><td>119.321059</td><td>78.0</td><td>87.989802</td><td>107.357444</td><td>52.0</td><td>48.576613</td><td>81.279502</td><td>24.0</td><td>125.021743</td><td>126.811776</td><td>100.0</td><td>48.576613</td><td>81.279502</td><td>24.0</td><td>111.652157</td><td>119.851654</td><td>83.0</td><td>282.294586</td></tr><tr><td>&quot;a75ef0f93fa3aa…</td><td>11037</td><td>2</td><td>0</td><td>603.0</td><td>1.0</td><td>0</td><td>1.0</td><td>1.0</td><td>1.0</td><td>1.0</td><td>0</td><td>0</td><td>0</td><td>1</td><td>1</td><td>0</td><td>107.705414</td><td>119.321059</td><td>78.0</td><td>87.989802</td><td>107.357444</td><td>52.0</td><td>48.576613</td><td>81.279502</td><td>24.0</td><td>125.021743</td><td>126.811776</td><td>100.0</td><td>48.576613</td><td>81.279502</td><td>24.0</td><td>111.652157</td><td>119.851654</td><td>83.0</td><td>495.294586</td></tr><tr><td>&quot;7ce21e010a012e…</td><td>13549</td><td>3</td><td>0</td><td>706.0</td><td>1.0</td><td>0</td><td>1.0</td><td>1.0</td><td>1.0</td><td>1.0</td><td>0</td><td>0</td><td>0</td><td>1</td><td>1</td><td>0</td><td>107.705414</td><td>119.321059</td><td>78.0</td><td>87.989802</td><td>107.357444</td><td>52.0</td><td>48.576613</td><td>81.279502</td><td>24.0</td><td>125.021743</td><td>126.811776</td><td>100.0</td><td>48.576613</td><td>81.279502</td><td>24.0</td><td>111.652157</td><td>119.851654</td><td>83.0</td><td>598.294586</td></tr><tr><td>&quot;4626c59fb23d20…</td><td>2797</td><td>1</td><td>0</td><td>428.0</td><td>1.0</td><td>0</td><td>1.0</td><td>1.0</td><td>1.0</td><td>1.0</td><td>0</td><td>0</td><td>0</td><td>1</td><td>1</td><td>0</td><td>107.705414</td><td>119.321059</td><td>78.0</td><td>87.989802</td><td>107.357444</td><td>52.0</td><td>48.576613</td><td>81.279502</td><td>24.0</td><td>125.021743</td><td>126.811776</td><td>100.0</td><td>48.576613</td><td>81.279502</td><td>24.0</td><td>111.652157</td><td>119.851654</td><td>83.0</td><td>320.294586</td></tr><tr><td>&quot;8d72f1dd0e3bc6…</td><td>13292</td><td>1</td><td>0</td><td>525.0</td><td>1.0</td><td>0</td><td>1.0</td><td>1.0</td><td>1.0</td><td>1.0</td><td>0</td><td>0</td><td>0</td><td>1</td><td>1</td><td>0</td><td>107.705414</td><td>119.321059</td><td>78.0</td><td>87.989802</td><td>107.357444</td><td>52.0</td><td>48.576613</td><td>81.279502</td><td>24.0</td><td>125.021743</td><td>126.811776</td><td>100.0</td><td>48.576613</td><td>81.279502</td><td>24.0</td><td>111.652157</td><td>119.851654</td><td>83.0</td><td>417.294586</td></tr><tr><td>&quot;bd11291dcd7d56…</td><td>915</td><td>1</td><td>0</td><td>428.0</td><td>1.0</td><td>0</td><td>1.0</td><td>1.0</td><td>1.0</td><td>1.0</td><td>0</td><td>0</td><td>1</td><td>1</td><td>1</td><td>1</td><td>107.705414</td><td>119.321059</td><td>78.0</td><td>87.989802</td><td>107.357444</td><td>52.0</td><td>48.576613</td><td>81.279502</td><td>24.0</td><td>125.021743</td><td>126.811776</td><td>100.0</td><td>48.576613</td><td>81.279502</td><td>24.0</td><td>111.652157</td><td>119.851654</td><td>83.0</td><td>320.294586</td></tr><tr><td>&quot;64a23a6b131386…</td><td>4913</td><td>1</td><td>0</td><td>583.0</td><td>1.0</td><td>1</td><td>1.0</td><td>1.0</td><td>1.0</td><td>1.0</td><td>0</td><td>0</td><td>1</td><td>1</td><td>1</td><td>0</td><td>52.679701</td><td>69.289168</td><td>29.0</td><td>87.989802</td><td>107.357444</td><td>52.0</td><td>48.576613</td><td>81.279502</td><td>24.0</td><td>125.021743</td><td>126.811776</td><td>100.0</td><td>48.576613</td><td>81.279502</td><td>24.0</td><td>111.652157</td><td>119.851654</td><td>83.0</td><td>530.320299</td></tr><tr><td>&hellip;</td><td>&hellip;</td><td>&hellip;</td><td>&hellip;</td><td>&hellip;</td><td>&hellip;</td><td>&hellip;</td><td>&hellip;</td><td>&hellip;</td><td>&hellip;</td><td>&hellip;</td><td>&hellip;</td><td>&hellip;</td><td>&hellip;</td><td>&hellip;</td><td>&hellip;</td><td>&hellip;</td><td>&hellip;</td><td>&hellip;</td><td>&hellip;</td><td>&hellip;</td><td>&hellip;</td><td>&hellip;</td><td>&hellip;</td><td>&hellip;</td><td>&hellip;</td><td>&hellip;</td><td>&hellip;</td><td>&hellip;</td><td>&hellip;</td><td>&hellip;</td><td>&hellip;</td><td>&hellip;</td><td>&hellip;</td><td>&hellip;</td><td>&hellip;</td></tr><tr><td>&quot;d7f7aba5738627…</td><td>9954</td><td>2</td><td>0</td><td>198.0</td><td>1.0</td><td>1</td><td>1.0</td><td>1.0</td><td>1.0</td><td>1.0</td><td>0</td><td>0</td><td>1</td><td>1</td><td>1</td><td>0</td><td>52.679701</td><td>69.289168</td><td>29.0</td><td>87.989802</td><td>107.357444</td><td>52.0</td><td>48.576613</td><td>81.279502</td><td>24.0</td><td>125.021743</td><td>126.811776</td><td>100.0</td><td>48.576613</td><td>81.279502</td><td>24.0</td><td>111.652157</td><td>119.851654</td><td>83.0</td><td>145.320299</td></tr><tr><td>&quot;6d2ed659a9de38…</td><td>6178</td><td>2</td><td>0</td><td>882.0</td><td>1.0</td><td>0</td><td>1.0</td><td>1.0</td><td>1.0</td><td>1.0</td><td>0</td><td>0</td><td>0</td><td>1</td><td>1</td><td>0</td><td>107.705414</td><td>119.321059</td><td>78.0</td><td>87.989802</td><td>107.357444</td><td>52.0</td><td>48.576613</td><td>81.279502</td><td>24.0</td><td>125.021743</td><td>126.811776</td><td>100.0</td><td>48.576613</td><td>81.279502</td><td>24.0</td><td>111.652157</td><td>119.851654</td><td>83.0</td><td>774.294586</td></tr><tr><td>&quot;f597d782996eb0…</td><td>6723</td><td>1</td><td>0</td><td>330.0</td><td>1.0</td><td>0</td><td>1.0</td><td>1.0</td><td>1.0</td><td>1.0</td><td>0</td><td>0</td><td>0</td><td>1</td><td>1</td><td>0</td><td>107.705414</td><td>119.321059</td><td>78.0</td><td>87.989802</td><td>107.357444</td><td>52.0</td><td>48.576613</td><td>81.279502</td><td>24.0</td><td>125.021743</td><td>126.811776</td><td>100.0</td><td>48.576613</td><td>81.279502</td><td>24.0</td><td>111.652157</td><td>119.851654</td><td>83.0</td><td>222.294586</td></tr><tr><td>&quot;45cabe81271003…</td><td>2057</td><td>1</td><td>0</td><td>70.0</td><td>1.0</td><td>0</td><td>1.0</td><td>1.0</td><td>1.0</td><td>1.0</td><td>0</td><td>0</td><td>0</td><td>1</td><td>1</td><td>0</td><td>107.705414</td><td>119.321059</td><td>78.0</td><td>87.989802</td><td>107.357444</td><td>52.0</td><td>48.576613</td><td>81.279502</td><td>24.0</td><td>125.021743</td><td>126.811776</td><td>100.0</td><td>48.576613</td><td>81.279502</td><td>24.0</td><td>111.652157</td><td>119.851654</td><td>83.0</td><td>-37.705414</td></tr><tr><td>&quot;45cabe81271003…</td><td>10415</td><td>1</td><td>0</td><td>114.0</td><td>1.0</td><td>0</td><td>1.0</td><td>1.0</td><td>1.0</td><td>1.0</td><td>0</td><td>0</td><td>0</td><td>1</td><td>1</td><td>0</td><td>107.705414</td><td>119.321059</td><td>78.0</td><td>87.989802</td><td>107.357444</td><td>52.0</td><td>48.576613</td><td>81.279502</td><td>24.0</td><td>125.021743</td><td>126.811776</td><td>100.0</td><td>48.576613</td><td>81.279502</td><td>24.0</td><td>111.652157</td><td>119.851654</td><td>83.0</td><td>6.294586</td></tr><tr><td>&quot;b28388fb505386…</td><td>10848</td><td>1</td><td>0</td><td>1085.0</td><td>1.0</td><td>0</td><td>1.0</td><td>1.0</td><td>1.0</td><td>1.0</td><td>0</td><td>0</td><td>0</td><td>1</td><td>1</td><td>0</td><td>107.705414</td><td>119.321059</td><td>78.0</td><td>87.989802</td><td>107.357444</td><td>52.0</td><td>48.576613</td><td>81.279502</td><td>24.0</td><td>125.021743</td><td>126.811776</td><td>100.0</td><td>48.576613</td><td>81.279502</td><td>24.0</td><td>111.652157</td><td>119.851654</td><td>83.0</td><td>977.294586</td></tr><tr><td>&quot;24dde9520211ce…</td><td>9768</td><td>2</td><td>0</td><td>305.0</td><td>1.0</td><td>1</td><td>1.0</td><td>1.0</td><td>1.0</td><td>1.0</td><td>0</td><td>1</td><td>1</td><td>1</td><td>1</td><td>0</td><td>52.679701</td><td>69.289168</td><td>29.0</td><td>87.989802</td><td>107.357444</td><td>52.0</td><td>48.576613</td><td>81.279502</td><td>24.0</td><td>125.021743</td><td>126.811776</td><td>100.0</td><td>48.576613</td><td>81.279502</td><td>24.0</td><td>111.652157</td><td>119.851654</td><td>83.0</td><td>252.320299</td></tr><tr><td>&quot;652c6987baf14a…</td><td>3100</td><td>1</td><td>0</td><td>1280.0</td><td>1.0</td><td>0</td><td>1.0</td><td>1.0</td><td>1.0</td><td>1.0</td><td>0</td><td>0</td><td>1</td><td>1</td><td>1</td><td>0</td><td>107.705414</td><td>119.321059</td><td>78.0</td><td>87.989802</td><td>107.357444</td><td>52.0</td><td>48.576613</td><td>81.279502</td><td>24.0</td><td>125.021743</td><td>126.811776</td><td>100.0</td><td>48.576613</td><td>81.279502</td><td>24.0</td><td>111.652157</td><td>119.851654</td><td>83.0</td><td>1172.294586</td></tr><tr><td>&quot;3afd59f2697949…</td><td>11398</td><td>1</td><td>0</td><td>325.0</td><td>1.0</td><td>0</td><td>1.0</td><td>1.0</td><td>1.0</td><td>1.0</td><td>0</td><td>0</td><td>0</td><td>1</td><td>1</td><td>0</td><td>107.705414</td><td>119.321059</td><td>78.0</td><td>87.989802</td><td>107.357444</td><td>52.0</td><td>48.576613</td><td>81.279502</td><td>24.0</td><td>125.021743</td><td>126.811776</td><td>100.0</td><td>48.576613</td><td>81.279502</td><td>24.0</td><td>111.652157</td><td>119.851654</td><td>83.0</td><td>217.294586</td></tr><tr><td>&quot;18c927246c0b26…</td><td>10418</td><td>1</td><td>0</td><td>1006.0</td><td>1.0</td><td>0</td><td>1.0</td><td>1.0</td><td>1.0</td><td>1.0</td><td>0</td><td>0</td><td>0</td><td>1</td><td>1</td><td>0</td><td>107.705414</td><td>119.321059</td><td>78.0</td><td>87.989802</td><td>107.357444</td><td>52.0</td><td>48.576613</td><td>81.279502</td><td>24.0</td><td>125.021743</td><td>126.811776</td><td>100.0</td><td>48.576613</td><td>81.279502</td><td>24.0</td><td>111.652157</td><td>119.851654</td><td>83.0</td><td>898.294586</td></tr><tr><td>&quot;dd352d046e38d9…</td><td>13736</td><td>1</td><td>0</td><td>304.0</td><td>1.0</td><td>0</td><td>1.0</td><td>1.0</td><td>1.0</td><td>1.0</td><td>0</td><td>0</td><td>0</td><td>1</td><td>1</td><td>0</td><td>107.705414</td><td>119.321059</td><td>78.0</td><td>87.989802</td><td>107.357444</td><td>52.0</td><td>48.576613</td><td>81.279502</td><td>24.0</td><td>125.021743</td><td>126.811776</td><td>100.0</td><td>48.576613</td><td>81.279502</td><td>24.0</td><td>111.652157</td><td>119.851654</td><td>83.0</td><td>196.294586</td></tr><tr><td>&quot;961d7461a649fa…</td><td>5810</td><td>3</td><td>0</td><td>112.0</td><td>1.0</td><td>0</td><td>1.0</td><td>1.0</td><td>1.0</td><td>1.0</td><td>0</td><td>0</td><td>0</td><td>1</td><td>1</td><td>1</td><td>107.705414</td><td>119.321059</td><td>78.0</td><td>87.989802</td><td>107.357444</td><td>52.0</td><td>48.576613</td><td>81.279502</td><td>24.0</td><td>125.021743</td><td>126.811776</td><td>100.0</td><td>48.576613</td><td>81.279502</td><td>24.0</td><td>111.652157</td><td>119.851654</td><td>83.0</td><td>4.294586</td></tr></tbody></table></div>"
      ],
      "text/plain": [
       "shape: (10_104_500, 36)\n",
       "┌────────────┬────────┬────────────┬──────────┬───┬────────────┬───────────┬───────────┬───────────┐\n",
       "│ session_id ┆ yad_no ┆ session_le ┆ yad_type ┆ … ┆ mean_total ┆ std_total ┆ median_to ┆ diff_tota │\n",
       "│ ---        ┆ ---    ┆ ngth       ┆ ---      ┆   ┆ _room_cnt_ ┆ _room_cnt ┆ tal_room_ ┆ l_room_cn │\n",
       "│ str        ┆ i64    ┆ ---        ┆ i64      ┆   ┆ with_kd_co ┆ _with_kd_ ┆ cnt_with_ ┆ t_with_on │\n",
       "│            ┆        ┆ i64        ┆          ┆   ┆ nv…        ┆ conv_…    ┆ kd_co…    ┆ sen_f…    │\n",
       "│            ┆        ┆            ┆          ┆   ┆ ---        ┆ ---       ┆ ---       ┆ ---       │\n",
       "│            ┆        ┆            ┆          ┆   ┆ f64        ┆ f64       ┆ f64       ┆ f64       │\n",
       "╞════════════╪════════╪════════════╪══════════╪═══╪════════════╪═══════════╪═══════════╪═══════════╡\n",
       "│ a2c35053db ┆ 12350  ┆ 2          ┆ 0        ┆ … ┆ 111.652157 ┆ 119.85165 ┆ 83.0      ┆ 588.29458 │\n",
       "│ 8d77316a52 ┆        ┆            ┆          ┆   ┆            ┆ 4         ┆           ┆ 6         │\n",
       "│ 28824b5ef6 ┆        ┆            ┆          ┆   ┆            ┆           ┆           ┆           │\n",
       "│ a3         ┆        ┆            ┆          ┆   ┆            ┆           ┆           ┆           │\n",
       "│ 747013aa7d ┆ 385    ┆ 2          ┆ 0        ┆ … ┆ 111.652157 ┆ 119.85165 ┆ 83.0      ┆ 2276.2945 │\n",
       "│ ff07289b9f ┆        ┆            ┆          ┆   ┆            ┆ 4         ┆           ┆ 86        │\n",
       "│ a885e02be1 ┆        ┆            ┆          ┆   ┆            ┆           ┆           ┆           │\n",
       "│ 34         ┆        ┆            ┆          ┆   ┆            ┆           ┆           ┆           │\n",
       "│ 90ba3f5293 ┆ 1091   ┆ 1          ┆ 0        ┆ … ┆ 111.652157 ┆ 119.85165 ┆ 83.0      ┆ 236.32029 │\n",
       "│ 51dd0070d2 ┆        ┆            ┆          ┆   ┆            ┆ 4         ┆           ┆ 9         │\n",
       "│ cfaeadac63 ┆        ┆            ┆          ┆   ┆            ┆           ┆           ┆           │\n",
       "│ 35         ┆        ┆            ┆          ┆   ┆            ┆           ┆           ┆           │\n",
       "│ ac5f0c648f ┆ 719    ┆ 1          ┆ 0        ┆ … ┆ 111.652157 ┆ 119.85165 ┆ 83.0      ┆ 492.29458 │\n",
       "│ 74937e276a ┆        ┆            ┆          ┆   ┆            ┆ 4         ┆           ┆ 6         │\n",
       "│ d06b09c160 ┆        ┆            ┆          ┆   ┆            ┆           ┆           ┆           │\n",
       "│ 80         ┆        ┆            ┆          ┆   ┆            ┆           ┆           ┆           │\n",
       "│ …          ┆ …      ┆ …          ┆ …        ┆ … ┆ …          ┆ …         ┆ …         ┆ …         │\n",
       "│ 3afd59f269 ┆ 11398  ┆ 1          ┆ 0        ┆ … ┆ 111.652157 ┆ 119.85165 ┆ 83.0      ┆ 217.29458 │\n",
       "│ 79497d8a46 ┆        ┆            ┆          ┆   ┆            ┆ 4         ┆           ┆ 6         │\n",
       "│ b0d1eec4de ┆        ┆            ┆          ┆   ┆            ┆           ┆           ┆           │\n",
       "│ 3b         ┆        ┆            ┆          ┆   ┆            ┆           ┆           ┆           │\n",
       "│ 18c927246c ┆ 10418  ┆ 1          ┆ 0        ┆ … ┆ 111.652157 ┆ 119.85165 ┆ 83.0      ┆ 898.29458 │\n",
       "│ 0b26311b70 ┆        ┆            ┆          ┆   ┆            ┆ 4         ┆           ┆ 6         │\n",
       "│ e8e314539c ┆        ┆            ┆          ┆   ┆            ┆           ┆           ┆           │\n",
       "│ bf         ┆        ┆            ┆          ┆   ┆            ┆           ┆           ┆           │\n",
       "│ dd352d046e ┆ 13736  ┆ 1          ┆ 0        ┆ … ┆ 111.652157 ┆ 119.85165 ┆ 83.0      ┆ 196.29458 │\n",
       "│ 38d92160e0 ┆        ┆            ┆          ┆   ┆            ┆ 4         ┆           ┆ 6         │\n",
       "│ 97025991d5 ┆        ┆            ┆          ┆   ┆            ┆           ┆           ┆           │\n",
       "│ 34         ┆        ┆            ┆          ┆   ┆            ┆           ┆           ┆           │\n",
       "│ 961d7461a6 ┆ 5810   ┆ 3          ┆ 0        ┆ … ┆ 111.652157 ┆ 119.85165 ┆ 83.0      ┆ 4.294586  │\n",
       "│ 49fa24d3d5 ┆        ┆            ┆          ┆   ┆            ┆ 4         ┆           ┆           │\n",
       "│ 1193277c3c ┆        ┆            ┆          ┆   ┆            ┆           ┆           ┆           │\n",
       "│ a0         ┆        ┆            ┆          ┆   ┆            ┆           ┆           ┆           │\n",
       "└────────────┴────────┴────────────┴──────────┴───┴────────────┴───────────┴───────────┴───────────┘"
      ]
     },
     "execution_count": 23,
     "metadata": {},
     "output_type": "execute_result"
    }
   ],
   "source": [
    "import polars as pl\n",
    "\n",
    "from src import constants\n",
    "\n",
    "dataset = pl.scan_csv(constants.OUTPUT_DIR / \"dataset.csv\").collect()\n",
    "dataset"
   ]
  },
  {
   "cell_type": "code",
   "execution_count": 24,
   "metadata": {},
   "outputs": [
    {
     "data": {
      "text/html": [
       "<div><style>\n",
       ".dataframe > thead > tr,\n",
       ".dataframe > tbody > tr {\n",
       "  text-align: right;\n",
       "  white-space: pre-wrap;\n",
       "}\n",
       "</style>\n",
       "<small>shape: (577_400, 3)</small><table border=\"1\" class=\"dataframe\"><thead><tr><th>session_id</th><th>yad_no</th><th>predict</th></tr><tr><td>str</td><td>i64</td><td>i64</td></tr></thead><tbody><tr><td>&quot;655dd0ac3dea40…</td><td>12553</td><td>10095</td></tr><tr><td>&quot;655dd0ac3dea40…</td><td>12553</td><td>385</td></tr><tr><td>&quot;655dd0ac3dea40…</td><td>12553</td><td>13017</td></tr><tr><td>&quot;655dd0ac3dea40…</td><td>12553</td><td>12785</td></tr><tr><td>&quot;655dd0ac3dea40…</td><td>12553</td><td>2445</td></tr><tr><td>&quot;655dd0ac3dea40…</td><td>12553</td><td>1818</td></tr><tr><td>&quot;655dd0ac3dea40…</td><td>12553</td><td>11407</td></tr><tr><td>&quot;655dd0ac3dea40…</td><td>12553</td><td>9971</td></tr><tr><td>&quot;655dd0ac3dea40…</td><td>12553</td><td>13549</td></tr><tr><td>&quot;655dd0ac3dea40…</td><td>12553</td><td>3988</td></tr><tr><td>&quot;f3f11164a4f7b4…</td><td>1819</td><td>10095</td></tr><tr><td>&quot;f3f11164a4f7b4…</td><td>1819</td><td>385</td></tr><tr><td>&hellip;</td><td>&hellip;</td><td>&hellip;</td></tr><tr><td>&quot;229373d1e9cbb5…</td><td>11636</td><td>13549</td></tr><tr><td>&quot;229373d1e9cbb5…</td><td>11636</td><td>3988</td></tr><tr><td>&quot;4469938538dc73…</td><td>13589</td><td>10095</td></tr><tr><td>&quot;4469938538dc73…</td><td>13589</td><td>8553</td></tr><tr><td>&quot;4469938538dc73…</td><td>13589</td><td>3848</td></tr><tr><td>&quot;4469938538dc73…</td><td>13589</td><td>12350</td></tr><tr><td>&quot;4469938538dc73…</td><td>13589</td><td>3338</td></tr><tr><td>&quot;4469938538dc73…</td><td>13589</td><td>1818</td></tr><tr><td>&quot;4469938538dc73…</td><td>13589</td><td>1091</td></tr><tr><td>&quot;4469938538dc73…</td><td>13589</td><td>13017</td></tr><tr><td>&quot;4469938538dc73…</td><td>13589</td><td>7093</td></tr><tr><td>&quot;4469938538dc73…</td><td>13589</td><td>4913</td></tr></tbody></table></div>"
      ],
      "text/plain": [
       "shape: (577_400, 3)\n",
       "┌──────────────────────────────────┬────────┬─────────┐\n",
       "│ session_id                       ┆ yad_no ┆ predict │\n",
       "│ ---                              ┆ ---    ┆ ---     │\n",
       "│ str                              ┆ i64    ┆ i64     │\n",
       "╞══════════════════════════════════╪════════╪═════════╡\n",
       "│ 655dd0ac3dea4007b47a55834fbeabdd ┆ 12553  ┆ 10095   │\n",
       "│ 655dd0ac3dea4007b47a55834fbeabdd ┆ 12553  ┆ 385     │\n",
       "│ 655dd0ac3dea4007b47a55834fbeabdd ┆ 12553  ┆ 13017   │\n",
       "│ 655dd0ac3dea4007b47a55834fbeabdd ┆ 12553  ┆ 12785   │\n",
       "│ …                                ┆ …      ┆ …       │\n",
       "│ 4469938538dc739fbd46b20f370a613c ┆ 13589  ┆ 1091    │\n",
       "│ 4469938538dc739fbd46b20f370a613c ┆ 13589  ┆ 13017   │\n",
       "│ 4469938538dc739fbd46b20f370a613c ┆ 13589  ┆ 7093    │\n",
       "│ 4469938538dc739fbd46b20f370a613c ┆ 13589  ┆ 4913    │\n",
       "└──────────────────────────────────┴────────┴─────────┘"
      ]
     },
     "execution_count": 24,
     "metadata": {},
     "output_type": "execute_result"
    }
   ],
   "source": [
    "preds = pl.scan_csv(constants.OUTPUT_DIR / \"exp000\" / \"cv_fold0.csv\").collect()\n",
    "preds"
   ]
  },
  {
   "cell_type": "code",
   "execution_count": 25,
   "metadata": {},
   "outputs": [
    {
     "data": {
      "text/plain": [
       "['b3b3dd1da5b26a98e9eb76ff30cce6b5',\n",
       " '08dd43ce08da68dd74f474736f44d386',\n",
       " '3a8d80a37ad424dd5aec43f939400be3']"
      ]
     },
     "execution_count": 25,
     "metadata": {},
     "output_type": "execute_result"
    }
   ],
   "source": [
    "preds[\"session_id\"].unique().to_list()[:3]"
   ]
  },
  {
   "cell_type": "code",
   "execution_count": 26,
   "metadata": {},
   "outputs": [
    {
     "data": {
      "text/html": [
       "<div><style>\n",
       ".dataframe > thead > tr,\n",
       ".dataframe > tbody > tr {\n",
       "  text-align: right;\n",
       "  white-space: pre-wrap;\n",
       "}\n",
       "</style>\n",
       "<small>shape: (288_698, 2)</small><table border=\"1\" class=\"dataframe\"><thead><tr><th>session_id</th><th>yad_no</th></tr><tr><td>str</td><td>i64</td></tr></thead><tbody><tr><td>&quot;000007603d533d…</td><td>4101</td></tr><tr><td>&quot;0000ca043ed437…</td><td>8253</td></tr><tr><td>&quot;0000d4835cf113…</td><td>4863</td></tr><tr><td>&quot;0000fcda1ae1b2…</td><td>1652</td></tr><tr><td>&quot;000104bdffaaad…</td><td>96</td></tr><tr><td>&quot;00011afe25c343…</td><td>4823</td></tr><tr><td>&quot;000125c737df18…</td><td>10378</td></tr><tr><td>&quot;0001763050a10b…</td><td>10362</td></tr><tr><td>&quot;000178c4d4d567…</td><td>1227</td></tr><tr><td>&quot;0001e6a407a85d…</td><td>175</td></tr><tr><td>&quot;0002499cf2713a…</td><td>1209</td></tr><tr><td>&quot;00026fd325b5d6…</td><td>756</td></tr><tr><td>&hellip;</td><td>&hellip;</td></tr><tr><td>&quot;fffd8c4fa7b5be…</td><td>5209</td></tr><tr><td>&quot;fffe2d9e5982f5…</td><td>4885</td></tr><tr><td>&quot;fffe3dedeb89ae…</td><td>11714</td></tr><tr><td>&quot;fffe40478b2163…</td><td>1882</td></tr><tr><td>&quot;fffe78a078a176…</td><td>4906</td></tr><tr><td>&quot;fffe8a472ae6a9…</td><td>4353</td></tr><tr><td>&quot;fffe8c99c5b332…</td><td>6170</td></tr><tr><td>&quot;ffff2262d38abd…</td><td>2259</td></tr><tr><td>&quot;ffff2360540745…</td><td>963</td></tr><tr><td>&quot;ffff7fb4617164…</td><td>13719</td></tr><tr><td>&quot;ffffcd5bc19d62…</td><td>10619</td></tr><tr><td>&quot;fffffa7baf3700…</td><td>2439</td></tr></tbody></table></div>"
      ],
      "text/plain": [
       "shape: (288_698, 2)\n",
       "┌──────────────────────────────────┬────────┐\n",
       "│ session_id                       ┆ yad_no │\n",
       "│ ---                              ┆ ---    │\n",
       "│ str                              ┆ i64    │\n",
       "╞══════════════════════════════════╪════════╡\n",
       "│ 000007603d533d30453cc45d0f3d119f ┆ 4101   │\n",
       "│ 0000ca043ed437a1472c9d1d154eb49b ┆ 8253   │\n",
       "│ 0000d4835cf113316fe447e2f80ba1c8 ┆ 4863   │\n",
       "│ 0000fcda1ae1b2f431e55a7075d1f500 ┆ 1652   │\n",
       "│ …                                ┆ …      │\n",
       "│ ffff2360540745117193ecadcdc06538 ┆ 963    │\n",
       "│ ffff7fb4617164b2604aaf51c40bf82d ┆ 13719  │\n",
       "│ ffffcd5bc19d62cad5a3815c87818d83 ┆ 10619  │\n",
       "│ fffffa7baf370083ebcdd98f26a7e31a ┆ 2439   │\n",
       "└──────────────────────────────────┴────────┘"
      ]
     },
     "execution_count": 26,
     "metadata": {},
     "output_type": "execute_result"
    }
   ],
   "source": [
    "train_label_df = pl.scan_csv(constants.INPUT_DIR / \"train_label.csv\").collect()\n",
    "train_label_df"
   ]
  },
  {
   "cell_type": "code",
   "execution_count": 27,
   "metadata": {},
   "outputs": [
    {
     "name": "stdout",
     "output_type": "stream",
     "text": [
      "187cbc12d251ad3360f717c1cba7f1f2\n",
      "DS:  shape: (175, 36)\n",
      "┌────────────┬────────┬────────────┬──────────┬───┬────────────┬───────────┬───────────┬───────────┐\n",
      "│ session_id ┆ yad_no ┆ session_le ┆ yad_type ┆ … ┆ mean_total ┆ std_total ┆ median_to ┆ diff_tota │\n",
      "│ ---        ┆ ---    ┆ ngth       ┆ ---      ┆   ┆ _room_cnt_ ┆ _room_cnt ┆ tal_room_ ┆ l_room_cn │\n",
      "│ str        ┆ i64    ┆ ---        ┆ i64      ┆   ┆ with_kd_co ┆ _with_kd_ ┆ cnt_with_ ┆ t_with_on │\n",
      "│            ┆        ┆ i64        ┆          ┆   ┆ nv…        ┆ conv_…    ┆ kd_co…    ┆ sen_f…    │\n",
      "│            ┆        ┆            ┆          ┆   ┆ ---        ┆ ---       ┆ ---       ┆ ---       │\n",
      "│            ┆        ┆            ┆          ┆   ┆ f64        ┆ f64       ┆ f64       ┆ f64       │\n",
      "╞════════════╪════════╪════════════╪══════════╪═══╪════════════╪═══════════╪═══════════╪═══════════╡\n",
      "│ 187cbc12d2 ┆ 11919  ┆ 1          ┆ 0        ┆ … ┆ 111.652157 ┆ 119.85165 ┆ 83.0      ┆ -36.70541 │\n",
      "│ 51ad3360f7 ┆        ┆            ┆          ┆   ┆            ┆ 4         ┆           ┆ 4         │\n",
      "│ 17c1cba7f1 ┆        ┆            ┆          ┆   ┆            ┆           ┆           ┆           │\n",
      "│ f2         ┆        ┆            ┆          ┆   ┆            ┆           ┆           ┆           │\n",
      "│ 187cbc12d2 ┆ 6997   ┆ 1          ┆ 0        ┆ … ┆ 111.652157 ┆ 119.85165 ┆ 83.0      ┆ 172.29458 │\n",
      "│ 51ad3360f7 ┆        ┆            ┆          ┆   ┆            ┆ 4         ┆           ┆ 6         │\n",
      "│ 17c1cba7f1 ┆        ┆            ┆          ┆   ┆            ┆           ┆           ┆           │\n",
      "│ f2         ┆        ┆            ┆          ┆   ┆            ┆           ┆           ┆           │\n",
      "│ 187cbc12d2 ┆ 4507   ┆ 1          ┆ 0        ┆ … ┆ 111.652157 ┆ 119.85165 ┆ 83.0      ┆ 45.294586 │\n",
      "│ 51ad3360f7 ┆        ┆            ┆          ┆   ┆            ┆ 4         ┆           ┆           │\n",
      "│ 17c1cba7f1 ┆        ┆            ┆          ┆   ┆            ┆           ┆           ┆           │\n",
      "│ f2         ┆        ┆            ┆          ┆   ┆            ┆           ┆           ┆           │\n",
      "│ 187cbc12d2 ┆ 8975   ┆ 1          ┆ 0        ┆ … ┆ 111.652157 ┆ 119.85165 ┆ 83.0      ┆ 62.294586 │\n",
      "│ 51ad3360f7 ┆        ┆            ┆          ┆   ┆            ┆ 4         ┆           ┆           │\n",
      "│ 17c1cba7f1 ┆        ┆            ┆          ┆   ┆            ┆           ┆           ┆           │\n",
      "│ f2         ┆        ┆            ┆          ┆   ┆            ┆           ┆           ┆           │\n",
      "│ …          ┆ …      ┆ …          ┆ …        ┆ … ┆ …          ┆ …         ┆ …         ┆ …         │\n",
      "│ 187cbc12d2 ┆ 3350   ┆ 1          ┆ 0        ┆ … ┆ 111.652157 ┆ 119.85165 ┆ 83.0      ┆ -23.70541 │\n",
      "│ 51ad3360f7 ┆        ┆            ┆          ┆   ┆            ┆ 4         ┆           ┆ 4         │\n",
      "│ 17c1cba7f1 ┆        ┆            ┆          ┆   ┆            ┆           ┆           ┆           │\n",
      "│ f2         ┆        ┆            ┆          ┆   ┆            ┆           ┆           ┆           │\n",
      "│ 187cbc12d2 ┆ 12400  ┆ 1          ┆ 0        ┆ … ┆ 111.652157 ┆ 119.85165 ┆ 83.0      ┆ 42.294586 │\n",
      "│ 51ad3360f7 ┆        ┆            ┆          ┆   ┆            ┆ 4         ┆           ┆           │\n",
      "│ 17c1cba7f1 ┆        ┆            ┆          ┆   ┆            ┆           ┆           ┆           │\n",
      "│ f2         ┆        ┆            ┆          ┆   ┆            ┆           ┆           ┆           │\n",
      "│ 187cbc12d2 ┆ 11850  ┆ 1          ┆ 0        ┆ … ┆ 111.652157 ┆ 119.85165 ┆ 83.0      ┆ 767.29458 │\n",
      "│ 51ad3360f7 ┆        ┆            ┆          ┆   ┆            ┆ 4         ┆           ┆ 6         │\n",
      "│ 17c1cba7f1 ┆        ┆            ┆          ┆   ┆            ┆           ┆           ┆           │\n",
      "│ f2         ┆        ┆            ┆          ┆   ┆            ┆           ┆           ┆           │\n",
      "│ 187cbc12d2 ┆ 9941   ┆ 1          ┆ 0        ┆ … ┆ 111.652157 ┆ 119.85165 ┆ 83.0      ┆ 237.32029 │\n",
      "│ 51ad3360f7 ┆        ┆            ┆          ┆   ┆            ┆ 4         ┆           ┆ 9         │\n",
      "│ 17c1cba7f1 ┆        ┆            ┆          ┆   ┆            ┆           ┆           ┆           │\n",
      "│ f2         ┆        ┆            ┆          ┆   ┆            ┆           ┆           ┆           │\n",
      "└────────────┴────────┴────────────┴──────────┴───┴────────────┴───────────┴───────────┴───────────┘\n",
      "PREDS:  shape: (10, 3)\n",
      "┌──────────────────────────────────┬────────┬─────────┐\n",
      "│ session_id                       ┆ yad_no ┆ predict │\n",
      "│ ---                              ┆ ---    ┆ ---     │\n",
      "│ str                              ┆ i64    ┆ i64     │\n",
      "╞══════════════════════════════════╪════════╪═════════╡\n",
      "│ 187cbc12d251ad3360f717c1cba7f1f2 ┆ 2570   ┆ 10095   │\n",
      "│ 187cbc12d251ad3360f717c1cba7f1f2 ┆ 2570   ┆ 385     │\n",
      "│ 187cbc12d251ad3360f717c1cba7f1f2 ┆ 2570   ┆ 13017   │\n",
      "│ 187cbc12d251ad3360f717c1cba7f1f2 ┆ 2570   ┆ 12785   │\n",
      "│ …                                ┆ …      ┆ …       │\n",
      "│ 187cbc12d251ad3360f717c1cba7f1f2 ┆ 2570   ┆ 11407   │\n",
      "│ 187cbc12d251ad3360f717c1cba7f1f2 ┆ 2570   ┆ 9971    │\n",
      "│ 187cbc12d251ad3360f717c1cba7f1f2 ┆ 2570   ┆ 13549   │\n",
      "│ 187cbc12d251ad3360f717c1cba7f1f2 ┆ 2570   ┆ 3988    │\n",
      "└──────────────────────────────────┴────────┴─────────┘\n",
      "YAD CANDIDATES:  [11919, 6997, 4507, 8975, 13577, 3215, 8567, 12785, 9545, 3988, 7483, 7202, 12646, 6941, 13468, 3100, 4495, 13131, 11037, 11112, 12178, 8030, 10897, 9110, 10848, 3848, 719, 9631, 10118, 7036, 1400, 6470, 13292, 7076, 1774, 6003, 1077, 211, 10415, 13549, 755, 13017, 13672, 6693, 1052, 8504, 1136, 8355, 10418, 6187, 1818, 8553, 9768, 12956, 1636, 8617, 3098, 11273, 9790, 12067, 5727, 6178, 9510, 5710, 8743, 7947, 996, 10870, 12425, 532, 11398, 8226, 9954, 2201, 12017, 4913, 12918, 79, 5810, 10857, 10095, 2974, 2087, 6603, 3308, 8250, 13524, 12620, 12350, 10006, 9137, 12543, 4526, 12839, 11113, 385, 9241, 12707, 11575, 2927, 1066, 2797, 4228, 1229, 4646, 4061, 1891, 3137, 13296, 7014, 9971, 915, 4738, 2687, 11359, 2424, 1070, 1587, 9626, 8144, 10175, 109, 6217, 3338, 5116, 1091, 1708, 8368, 12736, 10515, 10211, 10868, 1050, 4659, 3754, 3694, 7082, 2583, 13474, 3515, 3230, 9273, 6193, 4151, 1815, 10435, 9830, 2057, 13237, 11726, 5948, 6723, 3811, 693, 11445, 11407, 1428, 2118, 9301, 8988, 9885, 7093, 1068, 9215, 10248, 13736, 6192, 2489, 2445, 6199, 12395, 3350, 12400, 11850, 9941]\n",
      "PREDS:  [10095, 385, 13017, 12785, 2445, 1818, 11407, 9971, 13549, 3988]\n",
      "LABEL:  2570\n",
      "Label in candidates:  False\n",
      "\n"
     ]
    }
   ],
   "source": [
    "see_targets = [\n",
    "    \"187cbc12d251ad3360f717c1cba7f1f2\"\n",
    "]\n",
    "for target in see_targets:\n",
    "    print(target)\n",
    "    ds_this_target = dataset.filter(pl.col(\"session_id\") == target)\n",
    "    preds_this_target = preds.filter(pl.col(\"session_id\") == target)\n",
    "    print(\"DS: \", ds_this_target)\n",
    "    print(\"PREDS: \", preds_this_target)\n",
    "    yad_candidates = ds_this_target[\"yad_no\"].to_list()\n",
    "    pred = preds_this_target[\"predict\"].to_list()\n",
    "    label = train_label_df.filter(pl.col(\"session_id\") == target)[\"yad_no\"].to_list()[0]\n",
    "    print(\"YAD CANDIDATES: \", yad_candidates)\n",
    "    print(\"PREDS: \", pred)\n",
    "    print(\"LABEL: \", label)\n",
    "    print(\"Label in candidates: \", label in yad_candidates)\n",
    "    print(\"\")"
   ]
  },
  {
   "cell_type": "code",
   "execution_count": 28,
   "metadata": {},
   "outputs": [
    {
     "name": "stderr",
     "output_type": "stream",
     "text": [
      "/workspace/working/.venv/lib/python3.10/site-packages/tqdm/auto.py:21: TqdmWarning: IProgress not found. Please update jupyter and ipywidgets. See https://ipywidgets.readthedocs.io/en/stable/user_install.html\n",
      "  from .autonotebook import tqdm as notebook_tqdm\n"
     ]
    },
    {
     "name": "stderr",
     "output_type": "stream",
     "text": [
      "100%|██████████| 57740/57740 [28:21<00:00, 33.93it/s]\n"
     ]
    },
    {
     "name": "stdout",
     "output_type": "stream",
     "text": [
      "0.06600277104260478\n"
     ]
    }
   ],
   "source": [
    "from tqdm.auto import tqdm\n",
    "\n",
    "label_in_candidates = 0\n",
    "unique_session = dataset[\"session_id\"].unique().to_list()\n",
    "for target in tqdm(unique_session, total=len(unique_session)):\n",
    "    ds_this_target = dataset.filter(pl.col(\"session_id\") == target)\n",
    "    preds_this_target = preds.filter(pl.col(\"session_id\") == target)\n",
    "    yad_candidates = ds_this_target[\"yad_no\"].to_list()\n",
    "    pred = preds_this_target[\"predict\"].to_list()\n",
    "    label = train_label_df.filter(pl.col(\"session_id\") == target)[\"yad_no\"].to_list()[0]\n",
    "    if label in yad_candidates:\n",
    "        label_in_candidates += 1\n",
    "\n",
    "print(label_in_candidates / len(dataset[\"session_id\"].unique().to_list()))"
   ]
  }
 ],
 "metadata": {
  "kernelspec": {
   "display_name": ".venv",
   "language": "python",
   "name": "python3"
  },
  "language_info": {
   "codemirror_mode": {
    "name": "ipython",
    "version": 3
   },
   "file_extension": ".py",
   "mimetype": "text/x-python",
   "name": "python",
   "nbconvert_exporter": "python",
   "pygments_lexer": "ipython3",
   "version": "3.10.13"
  }
 },
 "nbformat": 4,
 "nbformat_minor": 2
}
