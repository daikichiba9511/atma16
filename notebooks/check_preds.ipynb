{
 "cells": [
  {
   "cell_type": "code",
   "execution_count": 1,
   "metadata": {},
   "outputs": [
    {
     "data": {
      "text/html": [
       "<div><style>\n",
       ".dataframe > thead > tr,\n",
       ".dataframe > tbody > tr {\n",
       "  text-align: right;\n",
       "  white-space: pre-wrap;\n",
       "}\n",
       "</style>\n",
       "<small>shape: (0, 48)</small><table border=\"1\" class=\"dataframe\"><thead><tr><th>session_id</th><th>yad_no</th><th>session_length</th><th>session_interested_sml_cd</th><th>session_interested_lrg_cd</th><th>last_seen_yad_no</th><th>last_seen_sml_cd_0</th><th>last_seen_lrg_cd_0</th><th>first_seen_yad_no</th><th>first_seen_sml_cd_0</th><th>first_seen_lrg_cd_0</th><th>yad_type</th><th>total_room_cnt</th><th>wireless_lan_flg</th><th>onsen_flg</th><th>kd_stn_5min</th><th>kd_bch_5min</th><th>kd_slp_5min</th><th>kd_conv_walk_5min</th><th>wid_cd</th><th>ken_cd</th><th>lrg_cd</th><th>sml_cd</th><th>total_room_cnt_null_flg</th><th>wireless_lan_flg_null_flg</th><th>kd_stn_5min_null_flg</th><th>kd_bch_5min_null_flg</th><th>kd_slp_5min_null_flg</th><th>kd_conv_walk_5min_null_flg</th><th>mean_total_room_cnt_with_onsen_flg</th><th>std_total_room_cnt_with_onsen_flg</th><th>median_total_room_cnt_with_onsen_flg</th><th>mean_total_room_cnt_with_yad_type</th><th>std_total_room_cnt_with_yad_type</th><th>median_total_room_cnt_with_yad_type</th><th>mean_total_room_cnt_with_kd_bch_5min</th><th>std_total_room_cnt_with_kd_bch_5min</th><th>median_total_room_cnt_with_kd_bch_5min</th><th>mean_total_room_cnt_with_kd_stn_5min</th><th>std_total_room_cnt_with_kd_stn_5min</th><th>median_total_room_cnt_with_kd_stn_5min</th><th>mean_total_room_cnt_with_kd_bch_5min_right</th><th>std_total_room_cnt_with_kd_bch_5min_right</th><th>median_total_room_cnt_with_kd_bch_5min_right</th><th>mean_total_room_cnt_with_kd_conv_walk_5min</th><th>std_total_room_cnt_with_kd_conv_walk_5min</th><th>median_total_room_cnt_with_kd_conv_walk_5min</th><th>diff_total_room_cnt_with_onsen_flg</th></tr><tr><td>str</td><td>str</td><td>str</td><td>str</td><td>str</td><td>str</td><td>str</td><td>str</td><td>str</td><td>str</td><td>str</td><td>str</td><td>str</td><td>str</td><td>str</td><td>str</td><td>str</td><td>str</td><td>str</td><td>str</td><td>str</td><td>str</td><td>str</td><td>str</td><td>str</td><td>str</td><td>str</td><td>str</td><td>str</td><td>str</td><td>str</td><td>str</td><td>str</td><td>str</td><td>str</td><td>str</td><td>str</td><td>str</td><td>str</td><td>str</td><td>str</td><td>str</td><td>str</td><td>str</td><td>str</td><td>str</td><td>str</td><td>str</td></tr></thead><tbody></tbody></table></div>"
      ],
      "text/plain": [
       "shape: (0, 48)\n",
       "┌────────────┬────────┬────────────┬───────────┬───┬───────────┬───────────┬───────────┬───────────┐\n",
       "│ session_id ┆ yad_no ┆ session_le ┆ session_i ┆ … ┆ mean_tota ┆ std_total ┆ median_to ┆ diff_tota │\n",
       "│ ---        ┆ ---    ┆ ngth       ┆ nterested ┆   ┆ l_room_cn ┆ _room_cnt ┆ tal_room_ ┆ l_room_cn │\n",
       "│ str        ┆ str    ┆ ---        ┆ _sml_cd   ┆   ┆ t_with_kd ┆ _with_kd_ ┆ cnt_with_ ┆ t_with_on │\n",
       "│            ┆        ┆ str        ┆ ---       ┆   ┆ _conv…    ┆ conv_…    ┆ kd_co…    ┆ sen_f…    │\n",
       "│            ┆        ┆            ┆ str       ┆   ┆ ---       ┆ ---       ┆ ---       ┆ ---       │\n",
       "│            ┆        ┆            ┆           ┆   ┆ str       ┆ str       ┆ str       ┆ str       │\n",
       "╞════════════╪════════╪════════════╪═══════════╪═══╪═══════════╪═══════════╪═══════════╪═══════════╡\n",
       "└────────────┴────────┴────────────┴───────────┴───┴───────────┴───────────┴───────────┴───────────┘"
      ]
     },
     "execution_count": 1,
     "metadata": {},
     "output_type": "execute_result"
    }
   ],
   "source": [
    "import polars as pl\n",
    "\n",
    "from src import constants\n",
    "\n",
    "dataset = pl.scan_csv(constants.OUTPUT_DIR / \"dataset.csv\").collect()\n",
    "dataset"
   ]
  },
  {
   "cell_type": "code",
   "execution_count": 2,
   "metadata": {},
   "outputs": [
    {
     "data": {
      "text/html": [
       "<div><style>\n",
       ".dataframe > thead > tr,\n",
       ".dataframe > tbody > tr {\n",
       "  text-align: right;\n",
       "  white-space: pre-wrap;\n",
       "}\n",
       "</style>\n",
       "<small>shape: (577_390, 3)</small><table border=\"1\" class=\"dataframe\"><thead><tr><th>session_id</th><th>yad_no</th><th>predict</th></tr><tr><td>str</td><td>i64</td><td>i64</td></tr></thead><tbody><tr><td>&quot;8e42cdceb3d609…</td><td>5149</td><td>4215</td></tr><tr><td>&quot;8e42cdceb3d609…</td><td>5149</td><td>5149</td></tr><tr><td>&quot;8e42cdceb3d609…</td><td>5149</td><td>10554</td></tr><tr><td>&quot;8e42cdceb3d609…</td><td>5149</td><td>8262</td></tr><tr><td>&quot;8e42cdceb3d609…</td><td>5149</td><td>10720</td></tr><tr><td>&quot;8e42cdceb3d609…</td><td>5149</td><td>11671</td></tr><tr><td>&quot;8e42cdceb3d609…</td><td>5149</td><td>3624</td></tr><tr><td>&quot;8e42cdceb3d609…</td><td>5149</td><td>13308</td></tr><tr><td>&quot;8e42cdceb3d609…</td><td>5149</td><td>11211</td></tr><tr><td>&quot;8e42cdceb3d609…</td><td>5149</td><td>11660</td></tr><tr><td>&quot;400ea726e65aa9…</td><td>3200</td><td>3200</td></tr><tr><td>&quot;400ea726e65aa9…</td><td>3200</td><td>2923</td></tr><tr><td>&hellip;</td><td>&hellip;</td><td>&hellip;</td></tr><tr><td>&quot;295e45525eb648…</td><td>6558</td><td>12750</td></tr><tr><td>&quot;295e45525eb648…</td><td>6558</td><td>1302</td></tr><tr><td>&quot;a906f35fa0ff11…</td><td>10161</td><td>10161</td></tr><tr><td>&quot;a906f35fa0ff11…</td><td>10161</td><td>8855</td></tr><tr><td>&quot;a906f35fa0ff11…</td><td>10161</td><td>279</td></tr><tr><td>&quot;a906f35fa0ff11…</td><td>10161</td><td>1031</td></tr><tr><td>&quot;a906f35fa0ff11…</td><td>10161</td><td>2094</td></tr><tr><td>&quot;a906f35fa0ff11…</td><td>10161</td><td>12269</td></tr><tr><td>&quot;a906f35fa0ff11…</td><td>10161</td><td>7658</td></tr><tr><td>&quot;a906f35fa0ff11…</td><td>10161</td><td>3908</td></tr><tr><td>&quot;a906f35fa0ff11…</td><td>10161</td><td>10598</td></tr><tr><td>&quot;a906f35fa0ff11…</td><td>10161</td><td>6869</td></tr></tbody></table></div>"
      ],
      "text/plain": [
       "shape: (577_390, 3)\n",
       "┌──────────────────────────────────┬────────┬─────────┐\n",
       "│ session_id                       ┆ yad_no ┆ predict │\n",
       "│ ---                              ┆ ---    ┆ ---     │\n",
       "│ str                              ┆ i64    ┆ i64     │\n",
       "╞══════════════════════════════════╪════════╪═════════╡\n",
       "│ 8e42cdceb3d609ea6a781192596d5b96 ┆ 5149   ┆ 4215    │\n",
       "│ 8e42cdceb3d609ea6a781192596d5b96 ┆ 5149   ┆ 5149    │\n",
       "│ 8e42cdceb3d609ea6a781192596d5b96 ┆ 5149   ┆ 10554   │\n",
       "│ 8e42cdceb3d609ea6a781192596d5b96 ┆ 5149   ┆ 8262    │\n",
       "│ …                                ┆ …      ┆ …       │\n",
       "│ a906f35fa0ff114b430724dc5d066ae6 ┆ 10161  ┆ 7658    │\n",
       "│ a906f35fa0ff114b430724dc5d066ae6 ┆ 10161  ┆ 3908    │\n",
       "│ a906f35fa0ff114b430724dc5d066ae6 ┆ 10161  ┆ 10598   │\n",
       "│ a906f35fa0ff114b430724dc5d066ae6 ┆ 10161  ┆ 6869    │\n",
       "└──────────────────────────────────┴────────┴─────────┘"
      ]
     },
     "execution_count": 2,
     "metadata": {},
     "output_type": "execute_result"
    }
   ],
   "source": [
    "preds = pl.scan_csv(constants.OUTPUT_DIR / \"exp000\" / \"cv_fold0.csv\").collect()\n",
    "preds"
   ]
  },
  {
   "cell_type": "code",
   "execution_count": 3,
   "metadata": {},
   "outputs": [
    {
     "name": "stdout",
     "output_type": "stream",
     "text": [
      "shape: (0, 3)\n",
      "┌────────────┬────────────┬─────────────┐\n",
      "│ session_id ┆ candidates ┆ predictions │\n",
      "│ ---        ┆ ---        ┆ ---         │\n",
      "│ str        ┆ list[str]  ┆ list[i64]   │\n",
      "╞════════════╪════════════╪═════════════╡\n",
      "└────────────┴────────────┴─────────────┘\n"
     ]
    },
    {
     "ename": "RuntimeError",
     "evalue": "BindingsError: \"Could not determine output type\"",
     "output_type": "error",
     "traceback": [
      "\u001b[0;31m---------------------------------------------------------------------------\u001b[0m",
      "\u001b[0;31mRuntimeError\u001b[0m                              Traceback (most recent call last)",
      "\u001b[0;32m/tmp/ipykernel_1305415/2082995980.py\u001b[0m in \u001b[0;36m?\u001b[0;34m()\u001b[0m\n\u001b[1;32m      7\u001b[0m \u001b[0;34m\u001b[0m\u001b[0m\n\u001b[1;32m      8\u001b[0m \u001b[0;32mdef\u001b[0m \u001b[0mhas_intersection\u001b[0m\u001b[0;34m(\u001b[0m\u001b[0ma\u001b[0m\u001b[0;34m,\u001b[0m \u001b[0mb\u001b[0m\u001b[0;34m)\u001b[0m\u001b[0;34m:\u001b[0m\u001b[0;34m\u001b[0m\u001b[0;34m\u001b[0m\u001b[0m\n\u001b[1;32m      9\u001b[0m     \u001b[0;32mreturn\u001b[0m \u001b[0mlen\u001b[0m\u001b[0;34m(\u001b[0m\u001b[0mintersection\u001b[0m\u001b[0;34m(\u001b[0m\u001b[0ma\u001b[0m\u001b[0;34m,\u001b[0m \u001b[0mb\u001b[0m\u001b[0;34m)\u001b[0m\u001b[0;34m)\u001b[0m \u001b[0;34m>\u001b[0m \u001b[0;36m0\u001b[0m\u001b[0;34m\u001b[0m\u001b[0;34m\u001b[0m\u001b[0m\n\u001b[1;32m     10\u001b[0m \u001b[0;34m\u001b[0m\u001b[0m\n\u001b[0;32m---> 11\u001b[0;31m \u001b[0m_ds\u001b[0m \u001b[0;34m=\u001b[0m \u001b[0mds\u001b[0m\u001b[0;34m.\u001b[0m\u001b[0mmap_rows\u001b[0m\u001b[0;34m(\u001b[0m\u001b[0;32mlambda\u001b[0m \u001b[0mrow\u001b[0m\u001b[0;34m:\u001b[0m \u001b[0mhas_intersection\u001b[0m\u001b[0;34m(\u001b[0m\u001b[0mrow\u001b[0m\u001b[0;34m[\u001b[0m\u001b[0;36m1\u001b[0m\u001b[0;34m]\u001b[0m\u001b[0;34m,\u001b[0m \u001b[0mrow\u001b[0m\u001b[0;34m[\u001b[0m\u001b[0;36m2\u001b[0m\u001b[0;34m]\u001b[0m\u001b[0;34m)\u001b[0m\u001b[0;34m)\u001b[0m\u001b[0;34m\u001b[0m\u001b[0;34m\u001b[0m\u001b[0m\n\u001b[0m\u001b[1;32m     12\u001b[0m \u001b[0mprint\u001b[0m\u001b[0;34m(\u001b[0m\u001b[0m_ds\u001b[0m\u001b[0;34m.\u001b[0m\u001b[0mfilter\u001b[0m\u001b[0;34m(\u001b[0m\u001b[0mpl\u001b[0m\u001b[0;34m.\u001b[0m\u001b[0mcol\u001b[0m\u001b[0;34m(\u001b[0m\u001b[0;34m\"map\"\u001b[0m\u001b[0;34m)\u001b[0m \u001b[0;34m==\u001b[0m \u001b[0;32mTrue\u001b[0m\u001b[0;34m)\u001b[0m\u001b[0;34m.\u001b[0m\u001b[0mshape\u001b[0m\u001b[0;34m[\u001b[0m\u001b[0;36m0\u001b[0m\u001b[0;34m]\u001b[0m \u001b[0;34m/\u001b[0m \u001b[0m_ds\u001b[0m\u001b[0;34m.\u001b[0m\u001b[0mshape\u001b[0m\u001b[0;34m[\u001b[0m\u001b[0;36m0\u001b[0m\u001b[0;34m]\u001b[0m\u001b[0;34m)\u001b[0m\u001b[0;34m\u001b[0m\u001b[0;34m\u001b[0m\u001b[0m\n",
      "\u001b[0;32m/workspace/working/.venv/lib/python3.10/site-packages/polars/dataframe/frame.py\u001b[0m in \u001b[0;36m?\u001b[0;34m(self, function, return_dtype, inference_size)\u001b[0m\n\u001b[1;32m   6235\u001b[0m         \u001b[0;31m# TODO: Enable warning for inefficient map\u001b[0m\u001b[0;34m\u001b[0m\u001b[0;34m\u001b[0m\u001b[0m\n\u001b[1;32m   6236\u001b[0m         \u001b[0;31m# from polars.utils.udfs import warn_on_inefficient_map\u001b[0m\u001b[0;34m\u001b[0m\u001b[0;34m\u001b[0m\u001b[0m\n\u001b[1;32m   6237\u001b[0m         \u001b[0;31m# warn_on_inefficient_map(function, columns=self.columns, map_target=\"frame)\u001b[0m\u001b[0;34m\u001b[0m\u001b[0;34m\u001b[0m\u001b[0m\n\u001b[1;32m   6238\u001b[0m \u001b[0;34m\u001b[0m\u001b[0m\n\u001b[0;32m-> 6239\u001b[0;31m         \u001b[0mout\u001b[0m\u001b[0;34m,\u001b[0m \u001b[0mis_df\u001b[0m \u001b[0;34m=\u001b[0m \u001b[0mself\u001b[0m\u001b[0;34m.\u001b[0m\u001b[0m_df\u001b[0m\u001b[0;34m.\u001b[0m\u001b[0mmap_rows\u001b[0m\u001b[0;34m(\u001b[0m\u001b[0mfunction\u001b[0m\u001b[0;34m,\u001b[0m \u001b[0mreturn_dtype\u001b[0m\u001b[0;34m,\u001b[0m \u001b[0minference_size\u001b[0m\u001b[0;34m)\u001b[0m\u001b[0;34m\u001b[0m\u001b[0;34m\u001b[0m\u001b[0m\n\u001b[0m\u001b[1;32m   6240\u001b[0m         \u001b[0;32mif\u001b[0m \u001b[0mis_df\u001b[0m\u001b[0;34m:\u001b[0m\u001b[0;34m\u001b[0m\u001b[0;34m\u001b[0m\u001b[0m\n\u001b[1;32m   6241\u001b[0m             \u001b[0;32mreturn\u001b[0m \u001b[0mself\u001b[0m\u001b[0;34m.\u001b[0m\u001b[0m_from_pydf\u001b[0m\u001b[0;34m(\u001b[0m\u001b[0mout\u001b[0m\u001b[0;34m)\u001b[0m\u001b[0;34m\u001b[0m\u001b[0;34m\u001b[0m\u001b[0m\n\u001b[1;32m   6242\u001b[0m         \u001b[0;32melse\u001b[0m\u001b[0;34m:\u001b[0m\u001b[0;34m\u001b[0m\u001b[0;34m\u001b[0m\u001b[0m\n",
      "\u001b[0;31mRuntimeError\u001b[0m: BindingsError: \"Could not determine output type\""
     ]
    }
   ],
   "source": [
    "ds = dataset.group_by(\"session_id\").agg(pl.col(\"yad_no\").alias(\"candidates\"))\n",
    "ds = ds.join(preds.group_by(\"session_id\").agg(pl.col(\"yad_no\").alias(\"predictions\")), on=\"session_id\")\n",
    "print(ds)\n",
    "\n",
    "def intersection(a, b):\n",
    "    return list(set(a) & set(b))\n",
    "\n",
    "def has_intersection(a, b):\n",
    "    return len(intersection(a, b)) > 0\n",
    "\n",
    "_ds = ds.map_rows(lambda row: has_intersection(row[1], row[2]))\n",
    "print(_ds.filter(pl.col(\"map\") == True).shape[0] / _ds.shape[0])"
   ]
  },
  {
   "cell_type": "code",
   "execution_count": null,
   "metadata": {},
   "outputs": [],
   "source": [
    "num_session_has_label_in_predict =(\n",
    "    preds\n",
    "    .group_by(\"session_id\")\n",
    "    .map_groups(\n",
    "        lambda group: group.with_columns(pl.arange(0, group.height).alias(\"seq_no\"))\n",
    "    )\n",
    ").filter(pl.col(\"yad_no\") == pl.col(\"predict\"))[\"session_id\"].n_unique()"
   ]
  },
  {
   "cell_type": "code",
   "execution_count": null,
   "metadata": {},
   "outputs": [
    {
     "data": {
      "text/plain": [
       "0.477753338298204"
      ]
     },
     "execution_count": 17,
     "metadata": {},
     "output_type": "execute_result"
    }
   ],
   "source": [
    "num_session_has_label_in_predict / preds[\"session_id\"].n_unique()"
   ]
  },
  {
   "cell_type": "code",
   "execution_count": null,
   "metadata": {},
   "outputs": [],
   "source": []
  },
  {
   "cell_type": "code",
   "execution_count": null,
   "metadata": {},
   "outputs": [
    {
     "data": {
      "text/plain": [
       "['8e74132684c7b9a55b2769c454ca082c',\n",
       " '3eb36287a40827ccb59e89067c71d30e',\n",
       " 'f9eff605f0b1b0acdb6c4b98dd83b1b8']"
      ]
     },
     "execution_count": 3,
     "metadata": {},
     "output_type": "execute_result"
    }
   ],
   "source": [
    "preds[\"session_id\"].unique().to_list()[:3]"
   ]
  },
  {
   "cell_type": "code",
   "execution_count": null,
   "metadata": {},
   "outputs": [
    {
     "data": {
      "text/html": [
       "<div><style>\n",
       ".dataframe > thead > tr,\n",
       ".dataframe > tbody > tr {\n",
       "  text-align: right;\n",
       "  white-space: pre-wrap;\n",
       "}\n",
       "</style>\n",
       "<small>shape: (288_698, 2)</small><table border=\"1\" class=\"dataframe\"><thead><tr><th>session_id</th><th>yad_no</th></tr><tr><td>str</td><td>i64</td></tr></thead><tbody><tr><td>&quot;000007603d533d…</td><td>4101</td></tr><tr><td>&quot;0000ca043ed437…</td><td>8253</td></tr><tr><td>&quot;0000d4835cf113…</td><td>4863</td></tr><tr><td>&quot;0000fcda1ae1b2…</td><td>1652</td></tr><tr><td>&quot;000104bdffaaad…</td><td>96</td></tr><tr><td>&quot;00011afe25c343…</td><td>4823</td></tr><tr><td>&quot;000125c737df18…</td><td>10378</td></tr><tr><td>&quot;0001763050a10b…</td><td>10362</td></tr><tr><td>&quot;000178c4d4d567…</td><td>1227</td></tr><tr><td>&quot;0001e6a407a85d…</td><td>175</td></tr><tr><td>&quot;0002499cf2713a…</td><td>1209</td></tr><tr><td>&quot;00026fd325b5d6…</td><td>756</td></tr><tr><td>&hellip;</td><td>&hellip;</td></tr><tr><td>&quot;fffd8c4fa7b5be…</td><td>5209</td></tr><tr><td>&quot;fffe2d9e5982f5…</td><td>4885</td></tr><tr><td>&quot;fffe3dedeb89ae…</td><td>11714</td></tr><tr><td>&quot;fffe40478b2163…</td><td>1882</td></tr><tr><td>&quot;fffe78a078a176…</td><td>4906</td></tr><tr><td>&quot;fffe8a472ae6a9…</td><td>4353</td></tr><tr><td>&quot;fffe8c99c5b332…</td><td>6170</td></tr><tr><td>&quot;ffff2262d38abd…</td><td>2259</td></tr><tr><td>&quot;ffff2360540745…</td><td>963</td></tr><tr><td>&quot;ffff7fb4617164…</td><td>13719</td></tr><tr><td>&quot;ffffcd5bc19d62…</td><td>10619</td></tr><tr><td>&quot;fffffa7baf3700…</td><td>2439</td></tr></tbody></table></div>"
      ],
      "text/plain": [
       "shape: (288_698, 2)\n",
       "┌──────────────────────────────────┬────────┐\n",
       "│ session_id                       ┆ yad_no │\n",
       "│ ---                              ┆ ---    │\n",
       "│ str                              ┆ i64    │\n",
       "╞══════════════════════════════════╪════════╡\n",
       "│ 000007603d533d30453cc45d0f3d119f ┆ 4101   │\n",
       "│ 0000ca043ed437a1472c9d1d154eb49b ┆ 8253   │\n",
       "│ 0000d4835cf113316fe447e2f80ba1c8 ┆ 4863   │\n",
       "│ 0000fcda1ae1b2f431e55a7075d1f500 ┆ 1652   │\n",
       "│ …                                ┆ …      │\n",
       "│ ffff2360540745117193ecadcdc06538 ┆ 963    │\n",
       "│ ffff7fb4617164b2604aaf51c40bf82d ┆ 13719  │\n",
       "│ ffffcd5bc19d62cad5a3815c87818d83 ┆ 10619  │\n",
       "│ fffffa7baf370083ebcdd98f26a7e31a ┆ 2439   │\n",
       "└──────────────────────────────────┴────────┘"
      ]
     },
     "execution_count": 4,
     "metadata": {},
     "output_type": "execute_result"
    }
   ],
   "source": [
    "train_label_df = pl.scan_csv(constants.INPUT_DIR / \"train_label.csv\").collect()\n",
    "train_label_df"
   ]
  },
  {
   "cell_type": "code",
   "execution_count": null,
   "metadata": {},
   "outputs": [
    {
     "name": "stdout",
     "output_type": "stream",
     "text": [
      "187cbc12d251ad3360f717c1cba7f1f2\n",
      "DS:  shape: (0, 40)\n",
      "┌────────────┬────────┬────────────┬──────────┬───┬────────────┬───────────┬───────────┬───────────┐\n",
      "│ session_id ┆ yad_no ┆ session_le ┆ yad_type ┆ … ┆ mean_total ┆ std_total ┆ median_to ┆ diff_tota │\n",
      "│ ---        ┆ ---    ┆ ngth       ┆ ---      ┆   ┆ _room_cnt_ ┆ _room_cnt ┆ tal_room_ ┆ l_room_cn │\n",
      "│ str        ┆ i64    ┆ ---        ┆ i64      ┆   ┆ with_kd_co ┆ _with_kd_ ┆ cnt_with_ ┆ t_with_on │\n",
      "│            ┆        ┆ i64        ┆          ┆   ┆ nv…        ┆ conv_…    ┆ kd_co…    ┆ sen_f…    │\n",
      "│            ┆        ┆            ┆          ┆   ┆ ---        ┆ ---       ┆ ---       ┆ ---       │\n",
      "│            ┆        ┆            ┆          ┆   ┆ f64        ┆ f64       ┆ f64       ┆ f64       │\n",
      "╞════════════╪════════╪════════════╪══════════╪═══╪════════════╪═══════════╪═══════════╪═══════════╡\n",
      "└────────────┴────────┴────────────┴──────────┴───┴────────────┴───────────┴───────────┴───────────┘\n",
      "PREDS:  shape: (0, 3)\n",
      "┌────────────┬────────┬─────────┐\n",
      "│ session_id ┆ yad_no ┆ predict │\n",
      "│ ---        ┆ ---    ┆ ---     │\n",
      "│ str        ┆ i64    ┆ i64     │\n",
      "╞════════════╪════════╪═════════╡\n",
      "└────────────┴────────┴─────────┘\n",
      "YAD CANDIDATES:  []\n",
      "PREDS:  []\n",
      "LABEL:  2570\n",
      "Label in candidates:  False\n",
      "\n"
     ]
    }
   ],
   "source": [
    "see_targets = [\n",
    "    \"187cbc12d251ad3360f717c1cba7f1f2\"\n",
    "]\n",
    "for target in see_targets:\n",
    "    print(target)\n",
    "    ds_this_target = dataset.filter(pl.col(\"session_id\") == target)\n",
    "    preds_this_target = preds.filter(pl.col(\"session_id\") == target)\n",
    "    print(\"DS: \", ds_this_target)\n",
    "    print(\"PREDS: \", preds_this_target)\n",
    "    yad_candidates = ds_this_target[\"yad_no\"].to_list()\n",
    "    pred = preds_this_target[\"predict\"].to_list()\n",
    "    label = train_label_df.filter(pl.col(\"session_id\") == target)[\"yad_no\"].to_list()[0]\n",
    "    print(\"YAD CANDIDATES: \", yad_candidates)\n",
    "    print(\"PREDS: \", pred)\n",
    "    print(\"LABEL: \", label)\n",
    "    print(\"Label in candidates: \", label in yad_candidates)\n",
    "    print(\"\")"
   ]
  },
  {
   "cell_type": "code",
   "execution_count": null,
   "metadata": {},
   "outputs": [
    {
     "ename": "Exception",
     "evalue": "",
     "output_type": "error",
     "traceback": [
      "\u001b[0;31m---------------------------------------------------------------------------\u001b[0m",
      "\u001b[0;31mException\u001b[0m                                 Traceback (most recent call last)",
      "Cell \u001b[0;32mIn[6], line 1\u001b[0m\n\u001b[0;32m----> 1\u001b[0m \u001b[38;5;28;01mraise\u001b[39;00m \u001b[38;5;167;01mException\u001b[39;00m()\n\u001b[1;32m      3\u001b[0m \u001b[38;5;28;01mfrom\u001b[39;00m \u001b[38;5;21;01mtqdm\u001b[39;00m\u001b[38;5;21;01m.\u001b[39;00m\u001b[38;5;21;01mauto\u001b[39;00m \u001b[38;5;28;01mimport\u001b[39;00m tqdm\n\u001b[1;32m      5\u001b[0m label_in_candidates \u001b[38;5;241m=\u001b[39m \u001b[38;5;241m0\u001b[39m\n",
      "\u001b[0;31mException\u001b[0m: "
     ]
    }
   ],
   "source": [
    "raise Exception()\n",
    "\n",
    "from tqdm.auto import tqdm\n",
    "\n",
    "label_in_candidates = 0\n",
    "unique_session = dataset[\"session_id\"].unique().to_list()\n",
    "for target in tqdm(unique_session, total=len(unique_session)):\n",
    "    ds_this_target = dataset.filter(pl.col(\"session_id\") == target)\n",
    "    preds_this_target = preds.filter(pl.col(\"session_id\") == target)\n",
    "    yad_candidates = ds_this_target[\"yad_no\"].to_list()\n",
    "    pred = preds_this_target[\"predict\"].to_list()\n",
    "    label = train_label_df.filter(pl.col(\"session_id\") == target)[\"yad_no\"].to_list()[0]\n",
    "    if label in yad_candidates:\n",
    "        label_in_candidates += 1\n",
    "\n",
    "print(label_in_candidates / len(dataset[\"session_id\"].unique().to_list()))"
   ]
  }
 ],
 "metadata": {
  "kernelspec": {
   "display_name": ".venv",
   "language": "python",
   "name": "python3"
  },
  "language_info": {
   "codemirror_mode": {
    "name": "ipython",
    "version": 3
   },
   "file_extension": ".py",
   "mimetype": "text/x-python",
   "name": "python",
   "nbconvert_exporter": "python",
   "pygments_lexer": "ipython3",
   "version": "3.10.13"
  }
 },
 "nbformat": 4,
 "nbformat_minor": 2
}
